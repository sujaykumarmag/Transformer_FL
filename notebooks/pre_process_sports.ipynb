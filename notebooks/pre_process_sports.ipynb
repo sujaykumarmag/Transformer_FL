{
 "cells": [
  {
   "cell_type": "code",
   "execution_count": 1,
   "metadata": {
    "colab": {
     "base_uri": "https://localhost:8080/"
    },
    "id": "j77Jde2BwPDp",
    "outputId": "ee065620-115b-4655-9205-ef672aed8de2"
   },
   "outputs": [
    {
     "name": "stderr",
     "output_type": "stream",
     "text": [
      "[nltk_data] Downloading package stopwords to\n",
      "[nltk_data]     /Users/sujaykumar/nltk_data...\n",
      "[nltk_data]   Package stopwords is already up-to-date!\n"
     ]
    }
   ],
   "source": [
    "%matplotlib inline\n",
    "import re\n",
    "import seaborn as sbn\n",
    "import nltk\n",
    "import tqdm as tqdm\n",
    "import sqlite3\n",
    "import pandas as pd\n",
    "import numpy as np\n",
    "nltk.download('stopwords')\n",
    "\n",
    "\n",
    "import string\n",
    "from nltk.corpus import stopwords\n",
    "stop = stopwords.words(\"english\")\n",
    "import matplotlib.pyplot as plt\n",
    "\n",
    "from sklearn.metrics import accuracy_score\n",
    "from sklearn.metrics import confusion_matrix\n",
    "from math import floor,ceil\n",
    "from nltk.stem.porter import PorterStemmer\n",
    "english_stemmer=nltk.stem.SnowballStemmer('english')\n",
    "\n",
    "from sklearn.feature_extraction.text import TfidfTransformer\n",
    "from sklearn.feature_extraction.text import CountVectorizer\n",
    "\n",
    "from sklearn.metrics import confusion_matrix\n",
    "from sklearn import metrics\n",
    "from sklearn.metrics import roc_curve, auc\n",
    "\n",
    "from sklearn.svm import LinearSVC\n",
    "\n",
    "from keras.models import Sequential\n",
    "from keras.layers import LSTM, Dense, Embedding\n",
    "from nltk.tokenize import word_tokenize\n",
    "from sklearn.feature_extraction.text import TfidfVectorizer\n",
    "from sklearn.model_selection import train_test_split"
   ]
  },
  {
   "cell_type": "code",
   "execution_count": 2,
   "metadata": {
    "colab": {
     "base_uri": "https://localhost:8080/"
    },
    "id": "1M8vdvWJykZd",
    "outputId": "2439954e-6b92-4ae9-bdc2-438bb81dac89"
   },
   "outputs": [
    {
     "name": "stderr",
     "output_type": "stream",
     "text": [
      "/var/folders/l2/_mks1sd56yjdxq9514qt1fnh0000gn/T/ipykernel_7411/3608450076.py:1: DtypeWarning: Columns (11) have mixed types. Specify dtype option on import or set low_memory=False.\n",
      "  df = pd.read_csv('data/reviews_sports.csv')\n"
     ]
    }
   ],
   "source": [
    "df = pd.read_csv('data/reviews_sports.csv')"
   ]
  },
  {
   "cell_type": "code",
   "execution_count": 3,
   "metadata": {
    "id": "06kloO_l_MoY"
   },
   "outputs": [],
   "source": [
    "df = df.drop(['Unnamed: 0','style','vote','image'],axis=1)"
   ]
  },
  {
   "cell_type": "markdown",
   "metadata": {
    "id": "IwJSS-5a_V0l"
   },
   "source": [
    "<h2>As we are taking only verified Users we drop all the false Reviews</h2>"
   ]
  },
  {
   "cell_type": "code",
   "execution_count": 4,
   "metadata": {
    "colab": {
     "base_uri": "https://localhost:8080/"
    },
    "id": "11m-sCLc_hIs",
    "outputId": "7f730f2a-b978-43a5-bcaa-a1b4d68a575d"
   },
   "outputs": [
    {
     "data": {
      "text/plain": [
       "True     2611805\n",
       "False     228135\n",
       "Name: verified, dtype: int64"
      ]
     },
     "execution_count": 4,
     "metadata": {},
     "output_type": "execute_result"
    }
   ],
   "source": [
    "df[\"verified\"].value_counts()"
   ]
  },
  {
   "cell_type": "code",
   "execution_count": 5,
   "metadata": {
    "id": "p6POV_34zBkD"
   },
   "outputs": [],
   "source": [
    "df = df[df['verified']]"
   ]
  },
  {
   "cell_type": "code",
   "execution_count": 6,
   "metadata": {
    "colab": {
     "base_uri": "https://localhost:8080/"
    },
    "id": "oRnXEKWV_De1",
    "outputId": "36b48309-16ac-4934-cbe1-aec675c63abe"
   },
   "outputs": [
    {
     "data": {
      "text/plain": [
       "True    2611805\n",
       "Name: verified, dtype: int64"
      ]
     },
     "execution_count": 6,
     "metadata": {},
     "output_type": "execute_result"
    }
   ],
   "source": [
    "df[\"verified\"].value_counts()"
   ]
  },
  {
   "cell_type": "markdown",
   "metadata": {
    "id": "g_bbLFR2_o8d"
   },
   "source": [
    "<h3>We Consider only the Text Based to Recommend the Products</h3>"
   ]
  },
  {
   "cell_type": "code",
   "execution_count": 7,
   "metadata": {
    "id": "QWyQqTqn_FIi"
   },
   "outputs": [],
   "source": [
    "df = df.drop(['reviewTime','reviewerName','unixReviewTime','verified'],axis=1)"
   ]
  },
  {
   "cell_type": "code",
   "execution_count": 8,
   "metadata": {
    "id": "qbR0mi3aOU1_"
   },
   "outputs": [],
   "source": [
    "df = df.dropna(axis=0)"
   ]
  },
  {
   "cell_type": "code",
   "execution_count": 9,
   "metadata": {
    "colab": {
     "base_uri": "https://localhost:8080/",
     "height": 424
    },
    "id": "r63mNeRO_ytf",
    "outputId": "f6ab5b4f-a7d5-44d3-be78-938e74ccd2ed"
   },
   "outputs": [
    {
     "data": {
      "text/html": [
       "<div>\n",
       "<style scoped>\n",
       "    .dataframe tbody tr th:only-of-type {\n",
       "        vertical-align: middle;\n",
       "    }\n",
       "\n",
       "    .dataframe tbody tr th {\n",
       "        vertical-align: top;\n",
       "    }\n",
       "\n",
       "    .dataframe thead th {\n",
       "        text-align: right;\n",
       "    }\n",
       "</style>\n",
       "<table border=\"1\" class=\"dataframe\">\n",
       "  <thead>\n",
       "    <tr style=\"text-align: right;\">\n",
       "      <th></th>\n",
       "      <th>overall</th>\n",
       "      <th>reviewerID</th>\n",
       "      <th>asin</th>\n",
       "      <th>reviewText</th>\n",
       "      <th>summary</th>\n",
       "    </tr>\n",
       "  </thead>\n",
       "  <tbody>\n",
       "    <tr>\n",
       "      <th>0</th>\n",
       "      <td>5.0</td>\n",
       "      <td>A180LQZBUWVOLF</td>\n",
       "      <td>0000032034</td>\n",
       "      <td>What a spectacular tutu! Very slimming.</td>\n",
       "      <td>Five Stars</td>\n",
       "    </tr>\n",
       "    <tr>\n",
       "      <th>1</th>\n",
       "      <td>1.0</td>\n",
       "      <td>ATMFGKU5SVEYY</td>\n",
       "      <td>0000032034</td>\n",
       "      <td>What the heck? Is this a tutu for nuns? I know...</td>\n",
       "      <td>Is this a tutu for nuns?!</td>\n",
       "    </tr>\n",
       "    <tr>\n",
       "      <th>2</th>\n",
       "      <td>5.0</td>\n",
       "      <td>A1QE70QBJ8U6ZG</td>\n",
       "      <td>0000032034</td>\n",
       "      <td>Exactly what we were looking for!</td>\n",
       "      <td>Five Stars</td>\n",
       "    </tr>\n",
       "    <tr>\n",
       "      <th>3</th>\n",
       "      <td>5.0</td>\n",
       "      <td>A22CP6Z73MZTYU</td>\n",
       "      <td>0000032034</td>\n",
       "      <td>I used this skirt for a Halloween costume and ...</td>\n",
       "      <td>I liked that the elastic waist didn't dig in (...</td>\n",
       "    </tr>\n",
       "    <tr>\n",
       "      <th>4</th>\n",
       "      <td>4.0</td>\n",
       "      <td>A22L28G8NRNLLN</td>\n",
       "      <td>0000032034</td>\n",
       "      <td>This is thick enough that you can't see throug...</td>\n",
       "      <td>This is thick enough that you can't see throug...</td>\n",
       "    </tr>\n",
       "    <tr>\n",
       "      <th>...</th>\n",
       "      <td>...</td>\n",
       "      <td>...</td>\n",
       "      <td>...</td>\n",
       "      <td>...</td>\n",
       "      <td>...</td>\n",
       "    </tr>\n",
       "    <tr>\n",
       "      <th>2839935</th>\n",
       "      <td>5.0</td>\n",
       "      <td>A3TN0U64HONOPB</td>\n",
       "      <td>B01HJGAJ9O</td>\n",
       "      <td>Love the shorts.. amazing comfortable, perfect...</td>\n",
       "      <td>Five Stars</td>\n",
       "    </tr>\n",
       "    <tr>\n",
       "      <th>2839936</th>\n",
       "      <td>5.0</td>\n",
       "      <td>AJDQLM8PT3YWT</td>\n",
       "      <td>B01HJGAJ9O</td>\n",
       "      <td>Superb quality</td>\n",
       "      <td>Five Stars</td>\n",
       "    </tr>\n",
       "    <tr>\n",
       "      <th>2839937</th>\n",
       "      <td>5.0</td>\n",
       "      <td>A3QK5ZLRE2KHLL</td>\n",
       "      <td>B01HJHHBHG</td>\n",
       "      <td>Works every time</td>\n",
       "      <td>Quality catcher</td>\n",
       "    </tr>\n",
       "    <tr>\n",
       "      <th>2839938</th>\n",
       "      <td>5.0</td>\n",
       "      <td>A3VDML80KNR9QQ</td>\n",
       "      <td>B01HJHHBHG</td>\n",
       "      <td>I have a briley bolt release paddle installed ...</td>\n",
       "      <td>Works for A400 with Briley Bolt Release</td>\n",
       "    </tr>\n",
       "    <tr>\n",
       "      <th>2839939</th>\n",
       "      <td>5.0</td>\n",
       "      <td>A3ONWSRNZFNC3U</td>\n",
       "      <td>B01HJHHBHG</td>\n",
       "      <td>Works great</td>\n",
       "      <td>Five Stars</td>\n",
       "    </tr>\n",
       "  </tbody>\n",
       "</table>\n",
       "<p>2610195 rows × 5 columns</p>\n",
       "</div>"
      ],
      "text/plain": [
       "         overall      reviewerID        asin  \\\n",
       "0            5.0  A180LQZBUWVOLF  0000032034   \n",
       "1            1.0   ATMFGKU5SVEYY  0000032034   \n",
       "2            5.0  A1QE70QBJ8U6ZG  0000032034   \n",
       "3            5.0  A22CP6Z73MZTYU  0000032034   \n",
       "4            4.0  A22L28G8NRNLLN  0000032034   \n",
       "...          ...             ...         ...   \n",
       "2839935      5.0  A3TN0U64HONOPB  B01HJGAJ9O   \n",
       "2839936      5.0   AJDQLM8PT3YWT  B01HJGAJ9O   \n",
       "2839937      5.0  A3QK5ZLRE2KHLL  B01HJHHBHG   \n",
       "2839938      5.0  A3VDML80KNR9QQ  B01HJHHBHG   \n",
       "2839939      5.0  A3ONWSRNZFNC3U  B01HJHHBHG   \n",
       "\n",
       "                                                reviewText  \\\n",
       "0                  What a spectacular tutu! Very slimming.   \n",
       "1        What the heck? Is this a tutu for nuns? I know...   \n",
       "2                        Exactly what we were looking for!   \n",
       "3        I used this skirt for a Halloween costume and ...   \n",
       "4        This is thick enough that you can't see throug...   \n",
       "...                                                    ...   \n",
       "2839935  Love the shorts.. amazing comfortable, perfect...   \n",
       "2839936                                     Superb quality   \n",
       "2839937                                   Works every time   \n",
       "2839938  I have a briley bolt release paddle installed ...   \n",
       "2839939                                        Works great   \n",
       "\n",
       "                                                   summary  \n",
       "0                                               Five Stars  \n",
       "1                                Is this a tutu for nuns?!  \n",
       "2                                               Five Stars  \n",
       "3        I liked that the elastic waist didn't dig in (...  \n",
       "4        This is thick enough that you can't see throug...  \n",
       "...                                                    ...  \n",
       "2839935                                         Five Stars  \n",
       "2839936                                         Five Stars  \n",
       "2839937                                    Quality catcher  \n",
       "2839938            Works for A400 with Briley Bolt Release  \n",
       "2839939                                         Five Stars  \n",
       "\n",
       "[2610195 rows x 5 columns]"
      ]
     },
     "execution_count": 9,
     "metadata": {},
     "output_type": "execute_result"
    }
   ],
   "source": [
    "df"
   ]
  },
  {
   "cell_type": "code",
   "execution_count": 10,
   "metadata": {
    "colab": {
     "base_uri": "https://localhost:8080/"
    },
    "id": "W6xaP8Bd_9zA",
    "outputId": "33017465-6ec6-4d16-83db-b66b22e8a89a"
   },
   "outputs": [
    {
     "data": {
      "text/plain": [
       "5.0    1777587\n",
       "4.0     450064\n",
       "3.0     192538\n",
       "1.0      98020\n",
       "2.0      91986\n",
       "Name: overall, dtype: int64"
      ]
     },
     "execution_count": 10,
     "metadata": {},
     "output_type": "execute_result"
    }
   ],
   "source": [
    "df['overall'].value_counts()"
   ]
  },
  {
   "cell_type": "markdown",
   "metadata": {
    "id": "twg6Il6XATRe"
   },
   "source": [
    "<h3> Cleaning the Data (NLP)</h3>"
   ]
  },
  {
   "cell_type": "code",
   "execution_count": 11,
   "metadata": {
    "id": "ixAaL2A6AES_"
   },
   "outputs": [],
   "source": [
    "def data_clean(rev, remove_stopwords=True):\n",
    "    if isinstance(rev, str):\n",
    "        new_text = re.sub(\"[^a-zA-Z]\", \" \", rev)\n",
    "        words = new_text.lower().split()\n",
    "        if remove_stopwords:\n",
    "            sts = set(stopwords.words(\"english\"))\n",
    "            words = [w for w in words if not w in sts]\n",
    "        ary = []\n",
    "        eng_stemmer = english_stemmer\n",
    "        for word in words:\n",
    "            ary.append(eng_stemmer.stem(word))\n",
    "        return ary\n",
    "    else:\n",
    "        return []"
   ]
  },
  {
   "cell_type": "code",
   "execution_count": 12,
   "metadata": {
    "id": "8hJPriumAQ4A"
   },
   "outputs": [],
   "source": [
    "clean_reviewData = []\n",
    "for rev in df['reviewText']:\n",
    "    clean_reviewData.append( \" \".join(data_clean(rev)))\n",
    "\n",
    "clean_summaryData = []\n",
    "for rev in df['summary']:\n",
    "    clean_summaryData.append( \" \".join(data_clean(rev)))"
   ]
  },
  {
   "cell_type": "code",
   "execution_count": 13,
   "metadata": {
    "colab": {
     "base_uri": "https://localhost:8080/"
    },
    "id": "bZhHKme9AaHz",
    "outputId": "45ed2a12-ff46-410d-e3d8-0215947331a4"
   },
   "outputs": [
    {
     "name": "stdout",
     "output_type": "stream",
     "text": [
      "great      776312\n",
      "use        769459\n",
      "work       559887\n",
      "good       537444\n",
      "one        491060\n",
      "well       462349\n",
      "like       460035\n",
      "fit        440421\n",
      "get        376341\n",
      "would      351072\n",
      "product    307713\n",
      "love       295839\n",
      "nice       293101\n",
      "look       270850\n",
      "time       262942\n",
      "price      259860\n",
      "qualiti    253952\n",
      "perfect    252113\n",
      "need       249000\n",
      "littl      236512\n",
      "dtype: int64\n"
     ]
    }
   ],
   "source": [
    "Most_used_Words_Review = pd.Series(' '.join(clean_reviewData).lower().split()).value_counts()[:20]\n",
    "print(Most_used_Words_Review)"
   ]
  },
  {
   "cell_type": "code",
   "execution_count": 14,
   "metadata": {
    "colab": {
     "base_uri": "https://localhost:8080/"
    },
    "id": "0fKqefrZA1hl",
    "outputId": "33963fda-fd42-44ad-c0d6-ebef0d0ffba8"
   },
   "outputs": [
    {
     "name": "stdout",
     "output_type": "stream",
     "text": [
      "star       722658\n",
      "five       537931\n",
      "great      374617\n",
      "good       216510\n",
      "work       116484\n",
      "four       106393\n",
      "nice       103430\n",
      "product     88106\n",
      "love        77590\n",
      "qualiti     73176\n",
      "price       70821\n",
      "perfect     68781\n",
      "fit         68724\n",
      "use         60328\n",
      "like        58735\n",
      "well        57193\n",
      "one         51356\n",
      "best        45200\n",
      "excel       42633\n",
      "three       41810\n",
      "dtype: int64\n"
     ]
    }
   ],
   "source": [
    "Most_used_Words_Summary = pd.Series(' '.join(clean_summaryData).lower().split()).value_counts()[:20]\n",
    "print (Most_used_Words_Summary)"
   ]
  },
  {
   "cell_type": "code",
   "execution_count": 15,
   "metadata": {
    "id": "O8roUQTlMuj1"
   },
   "outputs": [],
   "source": [
    "from sklearn.feature_extraction.text import TfidfVectorizer\n",
    "text_vectorizer = TfidfVectorizer(min_df=4, max_features = 1000)\n",
    "test_vecor = text_vectorizer.fit_transform(clean_reviewData)\n",
    "tfidf_vector = dict(zip(text_vectorizer.get_feature_names_out(), text_vectorizer.idf_))"
   ]
  },
  {
   "cell_type": "code",
   "execution_count": 16,
   "metadata": {
    "colab": {
     "base_uri": "https://localhost:8080/"
    },
    "id": "eerCBTRIMwZ8",
    "outputId": "8b820a79-2597-4627-88f2-2008dc6a4819"
   },
   "outputs": [
    {
     "name": "stdout",
     "output_type": "stream",
     "text": [
      "compound: 0.0, \n",
      "neg: 0.0, \n",
      "neu: 1.0, \n",
      "pos: 0.0, \n",
      "What a spectacular tutu! Very slimming.\n",
      "compound: -0.2287, \n",
      "neg: 0.05, \n",
      "neu: 0.95, \n",
      "pos: 0.0, \n",
      "What the heck? Is this a tutu for nuns? I know you can cut it but STILL. Also there aren't several layers of the tutu making it \"poof out\" It just lays flat. Needless to say it was returned.\n",
      "compound: 0.0, \n",
      "neg: 0.0, \n",
      "neu: 1.0, \n",
      "pos: 0.0, \n",
      "Exactly what we were looking for!\n",
      "compound: 0.6983, \n",
      "neg: 0.018, \n",
      "neu: 0.901, \n",
      "pos: 0.081, \n",
      "I used this skirt for a Halloween costume and glued a bunch of feathers over it.  It was exactly what I needed.  I liked that the elastic waist didn't dig in (no muffin top).  Two things to note though:  (i) it is a little long; I cut about 8 inches off, but it was really easy to do; and (ii) it is see-thru b/c unlined - I had to get a pair of yellow shorts to wear underneath which I hadn't planned on doing.\n",
      "compound: 0.3854, \n",
      "neg: 0.058, \n",
      "neu: 0.83, \n",
      "pos: 0.112, \n",
      "This is thick enough that you can't see through it, but it is very long, so be sure to check the dimensions. I ended up cutting it shorter.\n",
      "compound: -0.296, \n",
      "neg: 0.022, \n",
      "neu: 0.978, \n",
      "pos: 0.0, \n",
      "Already have an Atlas, topo CD set of Northeast, Garmin GPS Vista with topo/street maps.  Once I found these Gazetteers, I bought one for every state in New England and New York.  Each of the above provide different levels of information and alternative routes and access to various locations, often places with no direct road or trails.  The gazatteers provide fast detail access to areas in question over the GPS or atlas and are invaluable to me while in the vehical.  Although, the GPS is my lifeline away from the vehical, the gazatteers are large and not weather resistant.\n",
      "compound: 0.6908, \n",
      "neg: 0.0, \n",
      "neu: 0.513, \n",
      "pos: 0.487, \n",
      "Arrived on time.  Nice Atlas - Easy to read.\n",
      "compound: 0.5859, \n",
      "neg: 0.0, \n",
      "neu: 0.838, \n",
      "pos: 0.162, \n",
      "More of a road map than a useful topographical map.  I don't think it would be good for any kind of orienteering.  Nice quality, and tons of details, but its not much more than a road atlas.\n",
      "compound: 0.8268, \n",
      "neg: 0.0, \n",
      "neu: 0.749, \n",
      "pos: 0.251, \n",
      "Comprehensive atlas. Very happy with how much detail is in here.\n",
      "\n",
      "I do wish there was a more detailed map of Syracuse so I could use it to navigate in the city.\n",
      "compound: 0.6696, \n",
      "neg: 0.0, \n",
      "neu: 0.743, \n",
      "pos: 0.257, \n",
      "Delorme has always made the best book maps in the USA.  Three thumbs up!\n"
     ]
    },
    {
     "name": "stderr",
     "output_type": "stream",
     "text": [
      "[nltk_data] Downloading package vader_lexicon to\n",
      "[nltk_data]     /Users/sujaykumar/nltk_data...\n",
      "[nltk_data]   Package vader_lexicon is already up-to-date!\n",
      "/var/folders/l2/_mks1sd56yjdxq9514qt1fnh0000gn/T/ipykernel_7411/3928246299.py:5: FutureWarning: The behavior of `series[i:j]` with an integer-dtype index is deprecated. In a future version, this will be treated as *label-based* indexing, consistent with e.g. `series[i]` lookups. To retain the old behavior, use `series.iloc[i:j]`. To get the future behavior, use `series.loc[i:j]`.\n",
      "  sample_review = df.reviewText[:10]\n"
     ]
    }
   ],
   "source": [
    "nltk.download('vader_lexicon')\n",
    "\n",
    "from nltk.sentiment.vader import SentimentIntensityAnalyzer\n",
    "analyser = SentimentIntensityAnalyzer()\n",
    "sample_review = df.reviewText[:10]\n",
    "for test in sample_review:\n",
    "    test\n",
    "    ss = analyser.polarity_scores(test)\n",
    "    for k in sorted(ss):\n",
    "        print('{0}: {1}, '.format(k, ss[k]))\n",
    "    print(test)"
   ]
  },
  {
   "cell_type": "code",
   "execution_count": 17,
   "metadata": {
    "id": "LAA4vfclNZEO"
   },
   "outputs": [],
   "source": [
    "test_reviewText = df.reviewText\n",
    "test_Ratings = df.overall\n",
    "text_vectorizer = TfidfVectorizer(max_df=.8)\n",
    "text_vectorizer.fit(test_reviewText)\n",
    "def rate(r):\n",
    "    ary2 = []\n",
    "    for rating in r:\n",
    "        tv = [0,0,0,0,0]\n",
    "        tv[rating-1] = 1\n",
    "        ary2.append(tv)\n",
    "    return np.array(ary2)"
   ]
  },
  {
   "cell_type": "code",
   "execution_count": 18,
   "metadata": {},
   "outputs": [
    {
     "data": {
      "text/plain": [
       "0                    What a spectacular tutu! Very slimming.\n",
       "1          What the heck? Is this a tutu for nuns? I know...\n",
       "2                          Exactly what we were looking for!\n",
       "3          I used this skirt for a Halloween costume and ...\n",
       "4          This is thick enough that you can't see throug...\n",
       "                                 ...                        \n",
       "2839935    Love the shorts.. amazing comfortable, perfect...\n",
       "2839936                                       Superb quality\n",
       "2839937                                     Works every time\n",
       "2839938    I have a briley bolt release paddle installed ...\n",
       "2839939                                          Works great\n",
       "Name: reviewText, Length: 2610195, dtype: object"
      ]
     },
     "execution_count": 18,
     "metadata": {},
     "output_type": "execute_result"
    }
   ],
   "source": [
    "test_reviewText"
   ]
  },
  {
   "cell_type": "code",
   "execution_count": 25,
   "metadata": {},
   "outputs": [
    {
     "data": {
      "text/plain": [
       "0          5.0\n",
       "1          1.0\n",
       "2          5.0\n",
       "3          5.0\n",
       "4          4.0\n",
       "          ... \n",
       "2839935    5.0\n",
       "2839936    5.0\n",
       "2839937    5.0\n",
       "2839938    5.0\n",
       "2839939    5.0\n",
       "Name: overall, Length: 2610195, dtype: float64"
      ]
     },
     "execution_count": 25,
     "metadata": {},
     "output_type": "execute_result"
    }
   ],
   "source": [
    "test_Ratings"
   ]
  },
  {
   "cell_type": "code",
   "execution_count": 26,
   "metadata": {},
   "outputs": [],
   "source": [
    "df = pd.DataFrame({\n",
    "    'reviewText': test_reviewText,\n",
    "    'Ratings': test_Ratings\n",
    "})"
   ]
  },
  {
   "cell_type": "code",
   "execution_count": null,
   "metadata": {},
   "outputs": [],
   "source": [
    "df.to_csv(\"processed_data/final_pre-processed.csv\")"
   ]
  },
  {
   "cell_type": "code",
   "execution_count": 29,
   "metadata": {},
   "outputs": [],
   "source": [
    "num_clients = list(range(1, 10 + 1))"
   ]
  },
  {
   "cell_type": "code",
   "execution_count": 32,
   "metadata": {},
   "outputs": [
    {
     "name": "stderr",
     "output_type": "stream",
     "text": [
      "/var/folders/l2/_mks1sd56yjdxq9514qt1fnh0000gn/T/ipykernel_7411/3397604115.py:1: DtypeWarning: Columns (11) have mixed types. Specify dtype option on import or set low_memory=False.\n",
      "  df1 = pd.read_csv('data/reviews_sports.csv')\n"
     ]
    }
   ],
   "source": [
    "df1 = pd.read_csv('data/reviews_sports.csv')"
   ]
  },
  {
   "cell_type": "code",
   "execution_count": 33,
   "metadata": {},
   "outputs": [
    {
     "data": {
      "text/html": [
       "<div>\n",
       "<style scoped>\n",
       "    .dataframe tbody tr th:only-of-type {\n",
       "        vertical-align: middle;\n",
       "    }\n",
       "\n",
       "    .dataframe tbody tr th {\n",
       "        vertical-align: top;\n",
       "    }\n",
       "\n",
       "    .dataframe thead th {\n",
       "        text-align: right;\n",
       "    }\n",
       "</style>\n",
       "<table border=\"1\" class=\"dataframe\">\n",
       "  <thead>\n",
       "    <tr style=\"text-align: right;\">\n",
       "      <th></th>\n",
       "      <th>Unnamed: 0</th>\n",
       "      <th>overall</th>\n",
       "      <th>verified</th>\n",
       "      <th>reviewTime</th>\n",
       "      <th>reviewerID</th>\n",
       "      <th>asin</th>\n",
       "      <th>reviewerName</th>\n",
       "      <th>reviewText</th>\n",
       "      <th>summary</th>\n",
       "      <th>unixReviewTime</th>\n",
       "      <th>style</th>\n",
       "      <th>vote</th>\n",
       "      <th>image</th>\n",
       "    </tr>\n",
       "  </thead>\n",
       "  <tbody>\n",
       "    <tr>\n",
       "      <th>0</th>\n",
       "      <td>0</td>\n",
       "      <td>5.0</td>\n",
       "      <td>True</td>\n",
       "      <td>06 3, 2015</td>\n",
       "      <td>A180LQZBUWVOLF</td>\n",
       "      <td>0000032034</td>\n",
       "      <td>Michelle A</td>\n",
       "      <td>What a spectacular tutu! Very slimming.</td>\n",
       "      <td>Five Stars</td>\n",
       "      <td>1433289600</td>\n",
       "      <td>NaN</td>\n",
       "      <td>NaN</td>\n",
       "      <td>NaN</td>\n",
       "    </tr>\n",
       "    <tr>\n",
       "      <th>1</th>\n",
       "      <td>1</td>\n",
       "      <td>1.0</td>\n",
       "      <td>True</td>\n",
       "      <td>04 1, 2015</td>\n",
       "      <td>ATMFGKU5SVEYY</td>\n",
       "      <td>0000032034</td>\n",
       "      <td>Crystal R</td>\n",
       "      <td>What the heck? Is this a tutu for nuns? I know...</td>\n",
       "      <td>Is this a tutu for nuns?!</td>\n",
       "      <td>1427846400</td>\n",
       "      <td>NaN</td>\n",
       "      <td>NaN</td>\n",
       "      <td>NaN</td>\n",
       "    </tr>\n",
       "    <tr>\n",
       "      <th>2</th>\n",
       "      <td>2</td>\n",
       "      <td>5.0</td>\n",
       "      <td>True</td>\n",
       "      <td>01 13, 2015</td>\n",
       "      <td>A1QE70QBJ8U6ZG</td>\n",
       "      <td>0000032034</td>\n",
       "      <td>darla Landreth</td>\n",
       "      <td>Exactly what we were looking for!</td>\n",
       "      <td>Five Stars</td>\n",
       "      <td>1421107200</td>\n",
       "      <td>NaN</td>\n",
       "      <td>NaN</td>\n",
       "      <td>NaN</td>\n",
       "    </tr>\n",
       "    <tr>\n",
       "      <th>3</th>\n",
       "      <td>3</td>\n",
       "      <td>5.0</td>\n",
       "      <td>True</td>\n",
       "      <td>12 23, 2014</td>\n",
       "      <td>A22CP6Z73MZTYU</td>\n",
       "      <td>0000032034</td>\n",
       "      <td>L. Huynh</td>\n",
       "      <td>I used this skirt for a Halloween costume and ...</td>\n",
       "      <td>I liked that the elastic waist didn't dig in (...</td>\n",
       "      <td>1419292800</td>\n",
       "      <td>NaN</td>\n",
       "      <td>NaN</td>\n",
       "      <td>NaN</td>\n",
       "    </tr>\n",
       "    <tr>\n",
       "      <th>4</th>\n",
       "      <td>4</td>\n",
       "      <td>4.0</td>\n",
       "      <td>True</td>\n",
       "      <td>12 15, 2014</td>\n",
       "      <td>A22L28G8NRNLLN</td>\n",
       "      <td>0000032034</td>\n",
       "      <td>McKenna</td>\n",
       "      <td>This is thick enough that you can't see throug...</td>\n",
       "      <td>This is thick enough that you can't see throug...</td>\n",
       "      <td>1418601600</td>\n",
       "      <td>NaN</td>\n",
       "      <td>NaN</td>\n",
       "      <td>NaN</td>\n",
       "    </tr>\n",
       "    <tr>\n",
       "      <th>...</th>\n",
       "      <td>...</td>\n",
       "      <td>...</td>\n",
       "      <td>...</td>\n",
       "      <td>...</td>\n",
       "      <td>...</td>\n",
       "      <td>...</td>\n",
       "      <td>...</td>\n",
       "      <td>...</td>\n",
       "      <td>...</td>\n",
       "      <td>...</td>\n",
       "      <td>...</td>\n",
       "      <td>...</td>\n",
       "      <td>...</td>\n",
       "    </tr>\n",
       "    <tr>\n",
       "      <th>2839935</th>\n",
       "      <td>2839935</td>\n",
       "      <td>5.0</td>\n",
       "      <td>True</td>\n",
       "      <td>04 5, 2018</td>\n",
       "      <td>A3TN0U64HONOPB</td>\n",
       "      <td>B01HJGAJ9O</td>\n",
       "      <td>Lewis Perez</td>\n",
       "      <td>Love the shorts.. amazing comfortable, perfect...</td>\n",
       "      <td>Five Stars</td>\n",
       "      <td>1522886400</td>\n",
       "      <td>{'Size:': ' Small', 'Color:': ' Black/White'}</td>\n",
       "      <td>NaN</td>\n",
       "      <td>NaN</td>\n",
       "    </tr>\n",
       "    <tr>\n",
       "      <th>2839936</th>\n",
       "      <td>2839936</td>\n",
       "      <td>5.0</td>\n",
       "      <td>True</td>\n",
       "      <td>03 1, 2018</td>\n",
       "      <td>AJDQLM8PT3YWT</td>\n",
       "      <td>B01HJGAJ9O</td>\n",
       "      <td>Andrew M. Silverman</td>\n",
       "      <td>Superb quality</td>\n",
       "      <td>Five Stars</td>\n",
       "      <td>1519862400</td>\n",
       "      <td>{'Size:': ' Large', 'Color:': ' Black/Nero'}</td>\n",
       "      <td>NaN</td>\n",
       "      <td>NaN</td>\n",
       "    </tr>\n",
       "    <tr>\n",
       "      <th>2839937</th>\n",
       "      <td>2839937</td>\n",
       "      <td>5.0</td>\n",
       "      <td>True</td>\n",
       "      <td>03 17, 2018</td>\n",
       "      <td>A3QK5ZLRE2KHLL</td>\n",
       "      <td>B01HJHHBHG</td>\n",
       "      <td>old hunter</td>\n",
       "      <td>Works every time</td>\n",
       "      <td>Quality catcher</td>\n",
       "      <td>1521244800</td>\n",
       "      <td>NaN</td>\n",
       "      <td>NaN</td>\n",
       "      <td>NaN</td>\n",
       "    </tr>\n",
       "    <tr>\n",
       "      <th>2839938</th>\n",
       "      <td>2839938</td>\n",
       "      <td>5.0</td>\n",
       "      <td>True</td>\n",
       "      <td>10 28, 2017</td>\n",
       "      <td>A3VDML80KNR9QQ</td>\n",
       "      <td>B01HJHHBHG</td>\n",
       "      <td>PJT</td>\n",
       "      <td>I have a briley bolt release paddle installed ...</td>\n",
       "      <td>Works for A400 with Briley Bolt Release</td>\n",
       "      <td>1509148800</td>\n",
       "      <td>NaN</td>\n",
       "      <td>NaN</td>\n",
       "      <td>NaN</td>\n",
       "    </tr>\n",
       "    <tr>\n",
       "      <th>2839939</th>\n",
       "      <td>2839939</td>\n",
       "      <td>5.0</td>\n",
       "      <td>True</td>\n",
       "      <td>06 11, 2017</td>\n",
       "      <td>A3ONWSRNZFNC3U</td>\n",
       "      <td>B01HJHHBHG</td>\n",
       "      <td>goosedowner</td>\n",
       "      <td>Works great</td>\n",
       "      <td>Five Stars</td>\n",
       "      <td>1497139200</td>\n",
       "      <td>NaN</td>\n",
       "      <td>NaN</td>\n",
       "      <td>NaN</td>\n",
       "    </tr>\n",
       "  </tbody>\n",
       "</table>\n",
       "<p>2839940 rows × 13 columns</p>\n",
       "</div>"
      ],
      "text/plain": [
       "         Unnamed: 0  overall  verified   reviewTime      reviewerID  \\\n",
       "0                 0      5.0      True   06 3, 2015  A180LQZBUWVOLF   \n",
       "1                 1      1.0      True   04 1, 2015   ATMFGKU5SVEYY   \n",
       "2                 2      5.0      True  01 13, 2015  A1QE70QBJ8U6ZG   \n",
       "3                 3      5.0      True  12 23, 2014  A22CP6Z73MZTYU   \n",
       "4                 4      4.0      True  12 15, 2014  A22L28G8NRNLLN   \n",
       "...             ...      ...       ...          ...             ...   \n",
       "2839935     2839935      5.0      True   04 5, 2018  A3TN0U64HONOPB   \n",
       "2839936     2839936      5.0      True   03 1, 2018   AJDQLM8PT3YWT   \n",
       "2839937     2839937      5.0      True  03 17, 2018  A3QK5ZLRE2KHLL   \n",
       "2839938     2839938      5.0      True  10 28, 2017  A3VDML80KNR9QQ   \n",
       "2839939     2839939      5.0      True  06 11, 2017  A3ONWSRNZFNC3U   \n",
       "\n",
       "               asin         reviewerName  \\\n",
       "0        0000032034           Michelle A   \n",
       "1        0000032034            Crystal R   \n",
       "2        0000032034       darla Landreth   \n",
       "3        0000032034             L. Huynh   \n",
       "4        0000032034              McKenna   \n",
       "...             ...                  ...   \n",
       "2839935  B01HJGAJ9O          Lewis Perez   \n",
       "2839936  B01HJGAJ9O  Andrew M. Silverman   \n",
       "2839937  B01HJHHBHG           old hunter   \n",
       "2839938  B01HJHHBHG                  PJT   \n",
       "2839939  B01HJHHBHG          goosedowner   \n",
       "\n",
       "                                                reviewText  \\\n",
       "0                  What a spectacular tutu! Very slimming.   \n",
       "1        What the heck? Is this a tutu for nuns? I know...   \n",
       "2                        Exactly what we were looking for!   \n",
       "3        I used this skirt for a Halloween costume and ...   \n",
       "4        This is thick enough that you can't see throug...   \n",
       "...                                                    ...   \n",
       "2839935  Love the shorts.. amazing comfortable, perfect...   \n",
       "2839936                                     Superb quality   \n",
       "2839937                                   Works every time   \n",
       "2839938  I have a briley bolt release paddle installed ...   \n",
       "2839939                                        Works great   \n",
       "\n",
       "                                                   summary  unixReviewTime  \\\n",
       "0                                               Five Stars      1433289600   \n",
       "1                                Is this a tutu for nuns?!      1427846400   \n",
       "2                                               Five Stars      1421107200   \n",
       "3        I liked that the elastic waist didn't dig in (...      1419292800   \n",
       "4        This is thick enough that you can't see throug...      1418601600   \n",
       "...                                                    ...             ...   \n",
       "2839935                                         Five Stars      1522886400   \n",
       "2839936                                         Five Stars      1519862400   \n",
       "2839937                                    Quality catcher      1521244800   \n",
       "2839938            Works for A400 with Briley Bolt Release      1509148800   \n",
       "2839939                                         Five Stars      1497139200   \n",
       "\n",
       "                                                 style vote image  \n",
       "0                                                  NaN  NaN   NaN  \n",
       "1                                                  NaN  NaN   NaN  \n",
       "2                                                  NaN  NaN   NaN  \n",
       "3                                                  NaN  NaN   NaN  \n",
       "4                                                  NaN  NaN   NaN  \n",
       "...                                                ...  ...   ...  \n",
       "2839935  {'Size:': ' Small', 'Color:': ' Black/White'}  NaN   NaN  \n",
       "2839936   {'Size:': ' Large', 'Color:': ' Black/Nero'}  NaN   NaN  \n",
       "2839937                                            NaN  NaN   NaN  \n",
       "2839938                                            NaN  NaN   NaN  \n",
       "2839939                                            NaN  NaN   NaN  \n",
       "\n",
       "[2839940 rows x 13 columns]"
      ]
     },
     "execution_count": 33,
     "metadata": {},
     "output_type": "execute_result"
    }
   ],
   "source": [
    "df1"
   ]
  },
  {
   "cell_type": "code",
   "execution_count": null,
   "metadata": {},
   "outputs": [],
   "source": []
  }
 ],
 "metadata": {
  "colab": {
   "provenance": []
  },
  "kernelspec": {
   "display_name": "Python 3.10 (tensorflow)",
   "language": "python",
   "name": "tensorflow"
  },
  "language_info": {
   "codemirror_mode": {
    "name": "ipython",
    "version": 3
   },
   "file_extension": ".py",
   "mimetype": "text/x-python",
   "name": "python",
   "nbconvert_exporter": "python",
   "pygments_lexer": "ipython3",
   "version": "3.10.11"
  }
 },
 "nbformat": 4,
 "nbformat_minor": 1
}
