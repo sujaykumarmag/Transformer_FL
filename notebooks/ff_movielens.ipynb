{
  "cells": [
    {
      "cell_type": "code",
      "execution_count": 2,
      "metadata": {
        "id": "s0h7vum9_6rv"
      },
      "outputs": [],
      "source": [
        "import zipfile\n",
        "import warnings\n",
        "warnings.filterwarnings('ignore')"
      ]
    },
    {
      "cell_type": "code",
      "execution_count": 3,
      "metadata": {
        "colab": {
          "base_uri": "https://localhost:8080/",
          "height": 206
        },
        "id": "oQ1IjXpAAabQ",
        "outputId": "ba2da891-f759-484b-bad7-327190ee7162"
      },
      "outputs": [
        {
          "data": {
            "text/html": [
              "<div>\n",
              "<style scoped>\n",
              "    .dataframe tbody tr th:only-of-type {\n",
              "        vertical-align: middle;\n",
              "    }\n",
              "\n",
              "    .dataframe tbody tr th {\n",
              "        vertical-align: top;\n",
              "    }\n",
              "\n",
              "    .dataframe thead th {\n",
              "        text-align: right;\n",
              "    }\n",
              "</style>\n",
              "<table border=\"1\" class=\"dataframe\">\n",
              "  <thead>\n",
              "    <tr style=\"text-align: right;\">\n",
              "      <th></th>\n",
              "      <th>UserID</th>\n",
              "      <th>Gender</th>\n",
              "      <th>Age</th>\n",
              "      <th>Occupation</th>\n",
              "      <th>Zip-code</th>\n",
              "    </tr>\n",
              "  </thead>\n",
              "  <tbody>\n",
              "    <tr>\n",
              "      <th>0</th>\n",
              "      <td>1</td>\n",
              "      <td>F</td>\n",
              "      <td>1</td>\n",
              "      <td>10</td>\n",
              "      <td>48067</td>\n",
              "    </tr>\n",
              "    <tr>\n",
              "      <th>1</th>\n",
              "      <td>2</td>\n",
              "      <td>M</td>\n",
              "      <td>56</td>\n",
              "      <td>16</td>\n",
              "      <td>70072</td>\n",
              "    </tr>\n",
              "    <tr>\n",
              "      <th>2</th>\n",
              "      <td>3</td>\n",
              "      <td>M</td>\n",
              "      <td>25</td>\n",
              "      <td>15</td>\n",
              "      <td>55117</td>\n",
              "    </tr>\n",
              "    <tr>\n",
              "      <th>3</th>\n",
              "      <td>4</td>\n",
              "      <td>M</td>\n",
              "      <td>45</td>\n",
              "      <td>7</td>\n",
              "      <td>02460</td>\n",
              "    </tr>\n",
              "    <tr>\n",
              "      <th>4</th>\n",
              "      <td>5</td>\n",
              "      <td>M</td>\n",
              "      <td>25</td>\n",
              "      <td>20</td>\n",
              "      <td>55455</td>\n",
              "    </tr>\n",
              "  </tbody>\n",
              "</table>\n",
              "</div>"
            ],
            "text/plain": [
              "   UserID Gender  Age  Occupation Zip-code\n",
              "0       1      F    1          10    48067\n",
              "1       2      M   56          16    70072\n",
              "2       3      M   25          15    55117\n",
              "3       4      M   45           7    02460\n",
              "4       5      M   25          20    55455"
            ]
          },
          "execution_count": 3,
          "metadata": {},
          "output_type": "execute_result"
        }
      ],
      "source": [
        "import pandas as pd\n",
        "\n",
        "users = pd.read_csv('../datasets/ml-1m/users.dat', sep='::', engine='python', names=['UserID', 'Gender', 'Age', 'Occupation', 'Zip-code'])\n",
        "users.head()\n",
        "\n"
      ]
    },
    {
      "cell_type": "code",
      "execution_count": 4,
      "metadata": {
        "colab": {
          "base_uri": "https://localhost:8080/",
          "height": 206
        },
        "id": "CfQfwcF4Aaqh",
        "outputId": "a31f642e-eb32-4703-9eff-9c17c1ba50fb"
      },
      "outputs": [
        {
          "data": {
            "text/html": [
              "<div>\n",
              "<style scoped>\n",
              "    .dataframe tbody tr th:only-of-type {\n",
              "        vertical-align: middle;\n",
              "    }\n",
              "\n",
              "    .dataframe tbody tr th {\n",
              "        vertical-align: top;\n",
              "    }\n",
              "\n",
              "    .dataframe thead th {\n",
              "        text-align: right;\n",
              "    }\n",
              "</style>\n",
              "<table border=\"1\" class=\"dataframe\">\n",
              "  <thead>\n",
              "    <tr style=\"text-align: right;\">\n",
              "      <th></th>\n",
              "      <th>UserID</th>\n",
              "      <th>MovieID</th>\n",
              "      <th>Rating</th>\n",
              "      <th>Timestamp</th>\n",
              "    </tr>\n",
              "  </thead>\n",
              "  <tbody>\n",
              "    <tr>\n",
              "      <th>0</th>\n",
              "      <td>1</td>\n",
              "      <td>1193</td>\n",
              "      <td>5</td>\n",
              "      <td>978300760</td>\n",
              "    </tr>\n",
              "    <tr>\n",
              "      <th>1</th>\n",
              "      <td>1</td>\n",
              "      <td>661</td>\n",
              "      <td>3</td>\n",
              "      <td>978302109</td>\n",
              "    </tr>\n",
              "    <tr>\n",
              "      <th>2</th>\n",
              "      <td>1</td>\n",
              "      <td>914</td>\n",
              "      <td>3</td>\n",
              "      <td>978301968</td>\n",
              "    </tr>\n",
              "    <tr>\n",
              "      <th>3</th>\n",
              "      <td>1</td>\n",
              "      <td>3408</td>\n",
              "      <td>4</td>\n",
              "      <td>978300275</td>\n",
              "    </tr>\n",
              "    <tr>\n",
              "      <th>4</th>\n",
              "      <td>1</td>\n",
              "      <td>2355</td>\n",
              "      <td>5</td>\n",
              "      <td>978824291</td>\n",
              "    </tr>\n",
              "  </tbody>\n",
              "</table>\n",
              "</div>"
            ],
            "text/plain": [
              "   UserID  MovieID  Rating  Timestamp\n",
              "0       1     1193       5  978300760\n",
              "1       1      661       3  978302109\n",
              "2       1      914       3  978301968\n",
              "3       1     3408       4  978300275\n",
              "4       1     2355       5  978824291"
            ]
          },
          "execution_count": 4,
          "metadata": {},
          "output_type": "execute_result"
        }
      ],
      "source": [
        "ratings = pd.read_csv('../datasets/ml-1m/ratings.dat', sep='::', engine='python', names=['UserID', 'MovieID','Rating','Timestamp'])\n",
        "ratings.head()"
      ]
    },
    {
      "cell_type": "code",
      "execution_count": 5,
      "metadata": {
        "colab": {
          "base_uri": "https://localhost:8080/",
          "height": 206
        },
        "id": "0jim14IlAa4l",
        "outputId": "21e07059-d34b-4770-d0df-26d417604d42"
      },
      "outputs": [
        {
          "data": {
            "text/html": [
              "<div>\n",
              "<style scoped>\n",
              "    .dataframe tbody tr th:only-of-type {\n",
              "        vertical-align: middle;\n",
              "    }\n",
              "\n",
              "    .dataframe tbody tr th {\n",
              "        vertical-align: top;\n",
              "    }\n",
              "\n",
              "    .dataframe thead th {\n",
              "        text-align: right;\n",
              "    }\n",
              "</style>\n",
              "<table border=\"1\" class=\"dataframe\">\n",
              "  <thead>\n",
              "    <tr style=\"text-align: right;\">\n",
              "      <th></th>\n",
              "      <th>MovieID</th>\n",
              "      <th>Title</th>\n",
              "      <th>Genres</th>\n",
              "    </tr>\n",
              "  </thead>\n",
              "  <tbody>\n",
              "    <tr>\n",
              "      <th>0</th>\n",
              "      <td>1</td>\n",
              "      <td>Toy Story (1995)</td>\n",
              "      <td>Animation|Children's|Comedy</td>\n",
              "    </tr>\n",
              "    <tr>\n",
              "      <th>1</th>\n",
              "      <td>2</td>\n",
              "      <td>Jumanji (1995)</td>\n",
              "      <td>Adventure|Children's|Fantasy</td>\n",
              "    </tr>\n",
              "    <tr>\n",
              "      <th>2</th>\n",
              "      <td>3</td>\n",
              "      <td>Grumpier Old Men (1995)</td>\n",
              "      <td>Comedy|Romance</td>\n",
              "    </tr>\n",
              "    <tr>\n",
              "      <th>3</th>\n",
              "      <td>4</td>\n",
              "      <td>Waiting to Exhale (1995)</td>\n",
              "      <td>Comedy|Drama</td>\n",
              "    </tr>\n",
              "    <tr>\n",
              "      <th>4</th>\n",
              "      <td>5</td>\n",
              "      <td>Father of the Bride Part II (1995)</td>\n",
              "      <td>Comedy</td>\n",
              "    </tr>\n",
              "  </tbody>\n",
              "</table>\n",
              "</div>"
            ],
            "text/plain": [
              "   MovieID                               Title                        Genres\n",
              "0        1                    Toy Story (1995)   Animation|Children's|Comedy\n",
              "1        2                      Jumanji (1995)  Adventure|Children's|Fantasy\n",
              "2        3             Grumpier Old Men (1995)                Comedy|Romance\n",
              "3        4            Waiting to Exhale (1995)                  Comedy|Drama\n",
              "4        5  Father of the Bride Part II (1995)                        Comedy"
            ]
          },
          "execution_count": 5,
          "metadata": {},
          "output_type": "execute_result"
        }
      ],
      "source": [
        "movies = pd.read_csv('../datasets/ml-1m/movies.dat', sep='::', engine='python', encoding='ISO-8859-1', names=['MovieID','Title','Genres'])\n",
        "movies.head()"
      ]
    },
    {
      "cell_type": "code",
      "execution_count": 6,
      "metadata": {
        "id": "jhsoQWRUAbEj"
      },
      "outputs": [],
      "source": [
        "import numpy as np\n",
        "import matplotlib.pyplot as plt\n",
        "import seaborn as sns"
      ]
    },
    {
      "cell_type": "code",
      "execution_count": 7,
      "metadata": {
        "colab": {
          "base_uri": "https://localhost:8080/"
        },
        "id": "ZfLpSPP4AbPS",
        "outputId": "6655556c-4685-45a1-cdce-0915bb3092dc"
      },
      "outputs": [
        {
          "name": "stdout",
          "output_type": "stream",
          "text": [
            "Users Data:\n",
            "            UserID          Age   Occupation\n",
            "count  6040.000000  6040.000000  6040.000000\n",
            "mean   3020.500000    30.639238     8.146854\n",
            "std    1743.742145    12.895962     6.329511\n",
            "min       1.000000     1.000000     0.000000\n",
            "25%    1510.750000    25.000000     3.000000\n",
            "50%    3020.500000    25.000000     7.000000\n",
            "75%    4530.250000    35.000000    14.000000\n",
            "max    6040.000000    56.000000    20.000000\n",
            "\n",
            "Movies Data:\n",
            "           MovieID\n",
            "count  3883.000000\n",
            "mean   1986.049446\n",
            "std    1146.778349\n",
            "min       1.000000\n",
            "25%     982.500000\n",
            "50%    2010.000000\n",
            "75%    2980.500000\n",
            "max    3952.000000\n",
            "\n",
            "Ratings Data:\n",
            "             UserID       MovieID        Rating     Timestamp\n",
            "count  1.000209e+06  1.000209e+06  1.000209e+06  1.000209e+06\n",
            "mean   3.024512e+03  1.865540e+03  3.581564e+00  9.722437e+08\n",
            "std    1.728413e+03  1.096041e+03  1.117102e+00  1.215256e+07\n",
            "min    1.000000e+00  1.000000e+00  1.000000e+00  9.567039e+08\n",
            "25%    1.506000e+03  1.030000e+03  3.000000e+00  9.653026e+08\n",
            "50%    3.070000e+03  1.835000e+03  4.000000e+00  9.730180e+08\n",
            "75%    4.476000e+03  2.770000e+03  4.000000e+00  9.752209e+08\n",
            "max    6.040000e+03  3.952000e+03  5.000000e+00  1.046455e+09\n",
            "\n",
            "Missing Values in Users Data:\n",
            "UserID        0\n",
            "Gender        0\n",
            "Age           0\n",
            "Occupation    0\n",
            "Zip-code      0\n",
            "dtype: int64\n",
            "\n",
            "Missing Values in Movies Data:\n",
            "MovieID    0\n",
            "Title      0\n",
            "Genres     0\n",
            "dtype: int64\n",
            "\n",
            "Missing Values in Ratings Data:\n",
            "UserID       0\n",
            "MovieID      0\n",
            "Rating       0\n",
            "Timestamp    0\n",
            "dtype: int64\n"
          ]
        }
      ],
      "source": [
        "print(\"Users Data:\")\n",
        "print(users.describe())\n",
        "print(\"\\nMovies Data:\")\n",
        "print(movies.describe())\n",
        "print(\"\\nRatings Data:\")\n",
        "print(ratings.describe())\n",
        "\n",
        "\n",
        "print(\"\\nMissing Values in Users Data:\")\n",
        "print(users.isnull().sum())\n",
        "print(\"\\nMissing Values in Movies Data:\")\n",
        "print(movies.isnull().sum())\n",
        "print(\"\\nMissing Values in Ratings Data:\")\n",
        "print(ratings.isnull().sum())"
      ]
    },
    {
      "cell_type": "code",
      "execution_count": 8,
      "metadata": {
        "colab": {
          "base_uri": "https://localhost:8080/",
          "height": 564
        },
        "id": "4m6pATkXAbZr",
        "outputId": "dbbc63ba-a3c0-4411-95b6-24a15191877b"
      },
      "outputs": [],
      "source": [
        "# import matplotlib.pyplot as plt\n",
        "\n",
        "# plt.figure(figsize=(10, 6))\n",
        "# plt.hist(ratings['Rating'], bins=5, edgecolor='black', align='mid', rwidth=0.2,color=\"gray\")  # Adjust the rwidth parameter\n",
        "# plt.xlabel('Rating')\n",
        "# plt.ylabel('Count')\n",
        "# plt.title('Distribution of Ratings')\n",
        "# plt.show()\n"
      ]
    },
    {
      "cell_type": "code",
      "execution_count": 9,
      "metadata": {
        "colab": {
          "base_uri": "https://localhost:8080/",
          "height": 487
        },
        "id": "CmW_LoErAyZy",
        "outputId": "eaf431d2-9df3-4f28-a13b-62cd4d1b4e9b"
      },
      "outputs": [],
      "source": [
        "# plt.figure(figsize=(6,5))\n",
        "# sns.countplot(data=users, x='Gender')\n",
        "# plt.title('Gender Distribution')\n",
        "# plt.show()\n"
      ]
    },
    {
      "cell_type": "code",
      "execution_count": 10,
      "metadata": {
        "colab": {
          "base_uri": "https://localhost:8080/",
          "height": 564
        },
        "id": "VzD36ROkAylO",
        "outputId": "fba85616-0483-43ac-bdaf-e5b78f7b5289"
      },
      "outputs": [],
      "source": [
        "# import matplotlib.pyplot as plt\n",
        "\n",
        "# ratings_per_user = ratings.groupby('UserID').size()\n",
        "\n",
        "# plt.figure(figsize=(10, 6))\n",
        "# plt.hist(ratings_per_user, bins=50, edgecolor='black',color=\"gray\")\n",
        "# plt.title('Ratings per User')\n",
        "# plt.xlabel('Number of Ratings')\n",
        "# plt.ylabel('Number of Users')\n",
        "# plt.show()\n"
      ]
    },
    {
      "cell_type": "code",
      "execution_count": 11,
      "metadata": {
        "colab": {
          "base_uri": "https://localhost:8080/",
          "height": 564
        },
        "id": "pTFWI5moAyoR",
        "outputId": "4759fd67-d8fe-4dae-d795-c6f8be49e73f"
      },
      "outputs": [],
      "source": [
        "# import matplotlib.pyplot as plt\n",
        "\n",
        "# occupation_map = {\n",
        "#     0: \"other\", 1: \"academic/educator\", 2: \"artist\", 3: \"clerical/admin\", 4: \"college/grad student\",\n",
        "#     5: \"customer service\", 6: \"doctor/health care\", 7: \"executive/managerial\", 8: \"farmer\",\n",
        "#     9: \"homemaker\", 10: \"K-12 student\", 11: \"lawyer\", 12: \"programmer\", 13: \"retired\",\n",
        "#     14: \"sales/marketing\", 15: \"scientist\", 16: \"self-employed\", 17: \"technician/engineer\",\n",
        "#     18: \"tradesman/craftsman\", 19: \"unemployed\", 20: \"writer\"\n",
        "# }\n",
        "\n",
        "# users['Occupation_name'] = users['Occupation'].map(occupation_map)\n",
        "\n",
        "# plt.figure(figsize=(10, 6))\n",
        "# plt.barh(users['Occupation_name'].value_counts().index, users['Occupation_name'].value_counts(),edgecolor='black',color=\"gray\")\n",
        "# plt.title('Occupation Distribution')\n",
        "# plt.xlabel('Number of Users')\n",
        "# plt.ylabel('Occupation')\n",
        "# plt.show()\n"
      ]
    },
    {
      "cell_type": "code",
      "execution_count": 13,
      "metadata": {
        "colab": {
          "base_uri": "https://localhost:8080/",
          "height": 664
        },
        "id": "nyUZnoA0AyrY",
        "outputId": "4cd339de-01b2-4851-8202-49013c479757"
      },
      "outputs": [],
      "source": [
        "# import matplotlib.pyplot as plt\n",
        "\n",
        "# all_genres = movies['Genres'].str.split('|', expand=True).stack().reset_index(drop=True)\n",
        "\n",
        "# plt.figure(figsize=(10, 6))\n",
        "# plt.barh(all_genres.value_counts().index, all_genres.value_counts(), edgecolor='black',color=\"gray\")\n",
        "# plt.title('Top Genres')\n",
        "# plt.xlabel('Number of Movies')\n",
        "# plt.ylabel('Genre')\n",
        "# plt.show()\n"
      ]
    },
    {
      "cell_type": "code",
      "execution_count": 14,
      "metadata": {
        "colab": {
          "base_uri": "https://localhost:8080/",
          "height": 363
        },
        "id": "V2qXzCEfAyuY",
        "outputId": "05196dbb-eef7-4959-b4ec-cafa17f73aef"
      },
      "outputs": [
        {
          "data": {
            "text/html": [
              "<div>\n",
              "<style scoped>\n",
              "    .dataframe tbody tr th:only-of-type {\n",
              "        vertical-align: middle;\n",
              "    }\n",
              "\n",
              "    .dataframe tbody tr th {\n",
              "        vertical-align: top;\n",
              "    }\n",
              "\n",
              "    .dataframe thead th {\n",
              "        text-align: right;\n",
              "    }\n",
              "</style>\n",
              "<table border=\"1\" class=\"dataframe\">\n",
              "  <thead>\n",
              "    <tr style=\"text-align: right;\">\n",
              "      <th></th>\n",
              "      <th>Title</th>\n",
              "      <th>mean</th>\n",
              "      <th>size</th>\n",
              "    </tr>\n",
              "  </thead>\n",
              "  <tbody>\n",
              "    <tr>\n",
              "      <th>1950</th>\n",
              "      <td>Seven Samurai (The Magnificent Seven) (Shichin...</td>\n",
              "      <td>4.560510</td>\n",
              "      <td>628</td>\n",
              "    </tr>\n",
              "    <tr>\n",
              "      <th>315</th>\n",
              "      <td>Shawshank Redemption, The (1994)</td>\n",
              "      <td>4.554558</td>\n",
              "      <td>2227</td>\n",
              "    </tr>\n",
              "    <tr>\n",
              "      <th>847</th>\n",
              "      <td>Godfather, The (1972)</td>\n",
              "      <td>4.524966</td>\n",
              "      <td>2223</td>\n",
              "    </tr>\n",
              "    <tr>\n",
              "      <th>735</th>\n",
              "      <td>Close Shave, A (1995)</td>\n",
              "      <td>4.520548</td>\n",
              "      <td>657</td>\n",
              "    </tr>\n",
              "    <tr>\n",
              "      <th>49</th>\n",
              "      <td>Usual Suspects, The (1995)</td>\n",
              "      <td>4.517106</td>\n",
              "      <td>1783</td>\n",
              "    </tr>\n",
              "    <tr>\n",
              "      <th>523</th>\n",
              "      <td>Schindler's List (1993)</td>\n",
              "      <td>4.510417</td>\n",
              "      <td>2304</td>\n",
              "    </tr>\n",
              "    <tr>\n",
              "      <th>1132</th>\n",
              "      <td>Wrong Trousers, The (1993)</td>\n",
              "      <td>4.507937</td>\n",
              "      <td>882</td>\n",
              "    </tr>\n",
              "    <tr>\n",
              "      <th>1180</th>\n",
              "      <td>Raiders of the Lost Ark (1981)</td>\n",
              "      <td>4.477725</td>\n",
              "      <td>2514</td>\n",
              "    </tr>\n",
              "    <tr>\n",
              "      <th>892</th>\n",
              "      <td>Rear Window (1954)</td>\n",
              "      <td>4.476190</td>\n",
              "      <td>1050</td>\n",
              "    </tr>\n",
              "    <tr>\n",
              "      <th>257</th>\n",
              "      <td>Star Wars: Episode IV - A New Hope (1977)</td>\n",
              "      <td>4.453694</td>\n",
              "      <td>2991</td>\n",
              "    </tr>\n",
              "  </tbody>\n",
              "</table>\n",
              "</div>"
            ],
            "text/plain": [
              "                                                  Title      mean  size\n",
              "1950  Seven Samurai (The Magnificent Seven) (Shichin...  4.560510   628\n",
              "315                    Shawshank Redemption, The (1994)  4.554558  2227\n",
              "847                               Godfather, The (1972)  4.524966  2223\n",
              "735                               Close Shave, A (1995)  4.520548   657\n",
              "49                           Usual Suspects, The (1995)  4.517106  1783\n",
              "523                             Schindler's List (1993)  4.510417  2304\n",
              "1132                         Wrong Trousers, The (1993)  4.507937   882\n",
              "1180                     Raiders of the Lost Ark (1981)  4.477725  2514\n",
              "892                                  Rear Window (1954)  4.476190  1050\n",
              "257           Star Wars: Episode IV - A New Hope (1977)  4.453694  2991"
            ]
          },
          "execution_count": 14,
          "metadata": {},
          "output_type": "execute_result"
        }
      ],
      "source": [
        "movie_stats = ratings.groupby('MovieID').agg({'Rating': [np.size, np.mean]})\n",
        "top_rated_movies = movie_stats['Rating'][(movie_stats['Rating']['size'] >= 500)].sort_values(by='mean', ascending=False).merge(movies, left_index=True, right_on='MovieID')\n",
        "top_rated_movies[['Title', 'mean', 'size']].head(10)\n"
      ]
    },
    {
      "cell_type": "code",
      "execution_count": 15,
      "metadata": {
        "colab": {
          "base_uri": "https://localhost:8080/",
          "height": 632
        },
        "id": "eVV3lRhOAyw8",
        "outputId": "2c6ee076-7ada-467f-b322-fa740d1c9d56"
      },
      "outputs": [],
      "source": [
        "# import matplotlib.pyplot as plt\n",
        "\n",
        "# occupation_map = {\n",
        "#     0: \"other\", 1: \"academic/educator\", 2: \"artist\", 3: \"clerical/admin\", 4: \"college/grad student\",\n",
        "#     5: \"customer service\", 6: \"doctor/health care\", 7: \"executive/managerial\", 8: \"farmer\",\n",
        "#     9: \"homemaker\", 10: \"K-12 student\", 11: \"lawyer\", 12: \"programmer\", 13: \"retired\",\n",
        "#     14: \"sales/marketing\", 15: \"scientist\", 16: \"self-employed\", 17: \"technician/engineer\",\n",
        "#     18: \"tradesman/craftsman\", 19: \"unemployed\", 20: \"writer\"\n",
        "# }\n",
        "\n",
        "# users['Occupation_name'] = users['Occupation'].map(occupation_map)\n",
        "\n",
        "# plt.figure(figsize=(12, 8))\n",
        "# plt.barh(users['Occupation_name'].value_counts().index, users['Occupation_name'].value_counts(),edgecolor='black',color=\"gray\")\n",
        "# plt.title('Occupation Distribution')\n",
        "# plt.xlabel('Number of Users')\n",
        "# plt.ylabel('Occupation')\n",
        "# plt.show()\n"
      ]
    },
    {
      "cell_type": "code",
      "execution_count": 16,
      "metadata": {
        "colab": {
          "base_uri": "https://localhost:8080/",
          "height": 363
        },
        "id": "1pkJmpEtAyzm",
        "outputId": "8c518f16-6d9d-418c-b1e3-761eec801515"
      },
      "outputs": [],
      "source": [
        "# user_ratings = pd.merge(ratings, users)\n",
        "# gender_avg_ratings = user_ratings.groupby(['MovieID', 'Gender']).mean().unstack()['Rating']\n",
        "# gender_avg_ratings = gender_avg_ratings.merge(movies, left_index=True, right_on='MovieID')\n",
        "# gender_avg_ratings[['Title', 'M', 'F']].head(10)"
      ]
    },
    {
      "cell_type": "code",
      "execution_count": 17,
      "metadata": {
        "colab": {
          "base_uri": "https://localhost:8080/",
          "height": 363
        },
        "id": "PchPEx5SAy2J",
        "outputId": "2ac052cb-8bb8-4f5a-a6e2-840e3ace450c"
      },
      "outputs": [],
      "source": [
        "# age_avg_ratings = user_ratings.groupby(['MovieID', 'Age']).mean().unstack()['Rating']\n",
        "# age_avg_ratings = age_avg_ratings.merge(movies, left_index=True, right_on='MovieID')\n",
        "# age_avg_ratings[['Title', 1, 18, 25, 35, 45, 50, 56]].head(10)  # Considering standard age groups in the dataset\n"
      ]
    },
    {
      "cell_type": "code",
      "execution_count": 18,
      "metadata": {
        "id": "mJWCMHJcAy5m"
      },
      "outputs": [],
      "source": [
        "users = users.drop_duplicates()\n",
        "movies = movies.drop_duplicates()\n",
        "ratings = ratings.drop_duplicates()"
      ]
    },
    {
      "cell_type": "code",
      "execution_count": 19,
      "metadata": {
        "colab": {
          "base_uri": "https://localhost:8080/"
        },
        "id": "WgqMQ63UBQDv",
        "outputId": "79bfd571-39a3-48e5-aeb4-1722b271951c"
      },
      "outputs": [
        {
          "name": "stdout",
          "output_type": "stream",
          "text": [
            "Users shape: (6040, 5)\n",
            "Movies shape: (3883, 3)\n",
            "Ratings shape: (1000209, 4)\n"
          ]
        }
      ],
      "source": [
        "print(\"Users shape:\", users.shape)\n",
        "print(\"Movies shape:\", movies.shape)\n",
        "print(\"Ratings shape:\", ratings.shape)"
      ]
    },
    {
      "cell_type": "code",
      "execution_count": 20,
      "metadata": {
        "id": "VGLDFMfMBViN"
      },
      "outputs": [],
      "source": [
        "import torch\n",
        "from torch.utils.data import Dataset, DataLoader\n",
        "\n",
        "class ClientDataset(Dataset):\n",
        "    def __init__(self, users, movies, ratings):\n",
        "\n",
        "        self.data = ratings.merge(users, on='UserID').merge(movies, on='MovieID')\n",
        "\n",
        "    def __len__(self):\n",
        "        return len(self.data)\n",
        "\n",
        "    def __getitem__(self, idx):\n",
        "        row = self.data.iloc[idx]\n",
        "        return (\n",
        "            row['UserID'],\n",
        "            row['MovieID'],\n",
        "            torch.tensor(mlb.transform([row['Genres'].split('|')])[0], dtype=torch.float),\n",
        "            torch.tensor(occupation_encoder.transform([[row['Occupation']]])[0], dtype=torch.float),\n",
        "            torch.tensor(row['Age_encoded'], dtype=torch.long),\n",
        "            row['Gender_encoded'],\n",
        "            row['Rating']\n",
        "        )"
      ]
    },
    {
      "cell_type": "code",
      "execution_count": 21,
      "metadata": {
        "id": "bZ4Oab3nBVq1"
      },
      "outputs": [],
      "source": [
        "from sklearn.preprocessing import OneHotEncoder, LabelEncoder\n",
        "from sklearn.preprocessing import MultiLabelBinarizer\n",
        "\n",
        "mlb = MultiLabelBinarizer()\n",
        "genres_encoded = mlb.fit_transform(movies['Genres'].str.split('|'))\n",
        "genres_df = pd.DataFrame(genres_encoded, columns=mlb.classes_, index=movies.index)\n",
        "\n",
        "\n",
        "occupation_encoder = OneHotEncoder(sparse=False)\n",
        "occupations_encoded = occupation_encoder.fit_transform(users[['Occupation']])\n",
        "occupations_df = pd.DataFrame(occupations_encoded, columns=occupation_encoder.get_feature_names_out(['Occupation']), index=users.index)\n",
        "\n",
        "gender_encoder = LabelEncoder()\n",
        "users['Gender_encoded'] = gender_encoder.fit_transform(users['Gender'])\n",
        "\n",
        "\n",
        "age_encoder = LabelEncoder()\n",
        "users['Age_encoded'] = age_encoder.fit_transform(users['Age'])\n"
      ]
    },
    {
      "cell_type": "code",
      "execution_count": 22,
      "metadata": {
        "id": "L1FvjZXKBa6V"
      },
      "outputs": [],
      "source": [
        "import torch.nn as nn\n",
        "import torch.nn.functional as F\n",
        "\n",
        "class ExpandedRecommender(nn.Module):\n",
        "    def __init__(self, num_users, num_movies, embedding_dim, num_genres, num_occupations, num_ages, num_genders=2):\n",
        "        super(ExpandedRecommender, self).__init__()\n",
        "\n",
        "\n",
        "        self.user_embedding = nn.Embedding(num_users, embedding_dim)\n",
        "        self.movie_embedding = nn.Embedding(num_movies + 1, embedding_dim)\n",
        "        self.age_embedding = nn.Embedding(num_ages, embedding_dim)\n",
        "        self.gender_embedding = nn.Embedding(2,embedding_dim)\n",
        "\n",
        "        self.genre_layer = nn.Linear(num_genres, embedding_dim)\n",
        "        self.occupation_layer = nn.Linear(num_occupations, embedding_dim)\n",
        "\n",
        "\n",
        "        self.fc1 = nn.Linear(embedding_dim * 6, 256)\n",
        "        self.fc2 = nn.Linear(256, 128)\n",
        "        self.fc3 = nn.Linear(128, 1)\n",
        "\n",
        "    def forward(self, user_ids, movie_ids, genres, occupations, ages, genders):\n",
        "        user_embedded = self.user_embedding(user_ids)\n",
        "        movie_embedded = self.movie_embedding(movie_ids)\n",
        "        age_embedded = self.age_embedding(ages)\n",
        "        gender_embedded = self.gender_embedding(genders)\n",
        "\n",
        "\n",
        "        genres = genres.float()\n",
        "        occupations = occupations.float()\n",
        "\n",
        "        genre_embedded = F.relu(self.genre_layer(genres))\n",
        "        occupation_embedded = F.relu(self.occupation_layer(occupations))\n",
        "\n",
        "        x = torch.cat((user_embedded, movie_embedded, genre_embedded, occupation_embedded, age_embedded, gender_embedded), 1)\n",
        "\n",
        "        x = F.relu(self.fc1(x))\n",
        "        x = F.relu(self.fc2(x))\n",
        "        x = self.fc3(x)\n",
        "\n",
        "        return x.squeeze()\n"
      ]
    },
    {
      "cell_type": "code",
      "execution_count": 23,
      "metadata": {
        "id": "CE1uackHBbFx"
      },
      "outputs": [],
      "source": [
        "from sklearn.model_selection import train_test_split\n",
        "\n",
        "all_train_data, test_data = train_test_split(ratings, test_size=0.1, random_state=42)\n",
        "\n",
        "num_clients = 10\n",
        "client_data_split = np.array_split(all_train_data, num_clients)\n",
        "client_datasets = [ClientDataset(users, movies, data) for data in client_data_split]\n",
        "client_loaders = [DataLoader(dataset, batch_size=256, shuffle=True) for dataset in client_datasets]\n",
        "\n",
        "test_dataset = ClientDataset(users, movies, test_data)\n",
        "test_loader = DataLoader(test_dataset, batch_size=256, shuffle=False)"
      ]
    },
    {
      "cell_type": "code",
      "execution_count": 24,
      "metadata": {},
      "outputs": [
        {
          "data": {
            "text/html": [
              "<div>\n",
              "<style scoped>\n",
              "    .dataframe tbody tr th:only-of-type {\n",
              "        vertical-align: middle;\n",
              "    }\n",
              "\n",
              "    .dataframe tbody tr th {\n",
              "        vertical-align: top;\n",
              "    }\n",
              "\n",
              "    .dataframe thead th {\n",
              "        text-align: right;\n",
              "    }\n",
              "</style>\n",
              "<table border=\"1\" class=\"dataframe\">\n",
              "  <thead>\n",
              "    <tr style=\"text-align: right;\">\n",
              "      <th></th>\n",
              "      <th>UserID</th>\n",
              "      <th>MovieID</th>\n",
              "      <th>Rating</th>\n",
              "      <th>Timestamp</th>\n",
              "    </tr>\n",
              "  </thead>\n",
              "  <tbody>\n",
              "    <tr>\n",
              "      <th>647085</th>\n",
              "      <td>3894</td>\n",
              "      <td>2750</td>\n",
              "      <td>1</td>\n",
              "      <td>965791718</td>\n",
              "    </tr>\n",
              "    <tr>\n",
              "      <th>130254</th>\n",
              "      <td>843</td>\n",
              "      <td>2791</td>\n",
              "      <td>4</td>\n",
              "      <td>975358667</td>\n",
              "    </tr>\n",
              "    <tr>\n",
              "      <th>232200</th>\n",
              "      <td>1408</td>\n",
              "      <td>2006</td>\n",
              "      <td>2</td>\n",
              "      <td>974762606</td>\n",
              "    </tr>\n",
              "    <tr>\n",
              "      <th>61200</th>\n",
              "      <td>412</td>\n",
              "      <td>3301</td>\n",
              "      <td>3</td>\n",
              "      <td>976651610</td>\n",
              "    </tr>\n",
              "    <tr>\n",
              "      <th>477192</th>\n",
              "      <td>2929</td>\n",
              "      <td>832</td>\n",
              "      <td>4</td>\n",
              "      <td>971642889</td>\n",
              "    </tr>\n",
              "    <tr>\n",
              "      <th>...</th>\n",
              "      <td>...</td>\n",
              "      <td>...</td>\n",
              "      <td>...</td>\n",
              "      <td>...</td>\n",
              "    </tr>\n",
              "    <tr>\n",
              "      <th>259178</th>\n",
              "      <td>1586</td>\n",
              "      <td>1077</td>\n",
              "      <td>5</td>\n",
              "      <td>974735719</td>\n",
              "    </tr>\n",
              "    <tr>\n",
              "      <th>365838</th>\n",
              "      <td>2129</td>\n",
              "      <td>2700</td>\n",
              "      <td>5</td>\n",
              "      <td>974643199</td>\n",
              "    </tr>\n",
              "    <tr>\n",
              "      <th>131932</th>\n",
              "      <td>854</td>\n",
              "      <td>3102</td>\n",
              "      <td>3</td>\n",
              "      <td>975355597</td>\n",
              "    </tr>\n",
              "    <tr>\n",
              "      <th>671155</th>\n",
              "      <td>4033</td>\n",
              "      <td>3479</td>\n",
              "      <td>5</td>\n",
              "      <td>965525805</td>\n",
              "    </tr>\n",
              "    <tr>\n",
              "      <th>121958</th>\n",
              "      <td>786</td>\n",
              "      <td>1391</td>\n",
              "      <td>4</td>\n",
              "      <td>975429588</td>\n",
              "    </tr>\n",
              "  </tbody>\n",
              "</table>\n",
              "<p>900188 rows × 4 columns</p>\n",
              "</div>"
            ],
            "text/plain": [
              "        UserID  MovieID  Rating  Timestamp\n",
              "647085    3894     2750       1  965791718\n",
              "130254     843     2791       4  975358667\n",
              "232200    1408     2006       2  974762606\n",
              "61200      412     3301       3  976651610\n",
              "477192    2929      832       4  971642889\n",
              "...        ...      ...     ...        ...\n",
              "259178    1586     1077       5  974735719\n",
              "365838    2129     2700       5  974643199\n",
              "131932     854     3102       3  975355597\n",
              "671155    4033     3479       5  965525805\n",
              "121958     786     1391       4  975429588\n",
              "\n",
              "[900188 rows x 4 columns]"
            ]
          },
          "execution_count": 24,
          "metadata": {},
          "output_type": "execute_result"
        }
      ],
      "source": [
        "all_train_data"
      ]
    },
    {
      "cell_type": "code",
      "execution_count": 25,
      "metadata": {
        "id": "WLUbUFIaBopS"
      },
      "outputs": [],
      "source": [
        "device = torch.device('cuda' if torch.cuda.is_available() else 'cpu')\n",
        "from collections import OrderedDict\n",
        "import copy"
      ]
    },
    {
      "cell_type": "code",
      "execution_count": 26,
      "metadata": {
        "colab": {
          "base_uri": "https://localhost:8080/"
        },
        "id": "pmGU0oKJBrrk",
        "outputId": "b5c99667-f4d3-4534-86eb-cc3a8c7782cf"
      },
      "outputs": [
        {
          "name": "stdout",
          "output_type": "stream",
          "text": [
            "Max UserID in Train: 6040\n",
            "Max UserID in Test: 6040\n",
            "Max MovieID in Train: 3952\n",
            "Max MovieID in Test: 3952\n"
          ]
        }
      ],
      "source": [
        "print(\"Max UserID in Train:\", all_train_data['UserID'].max())\n",
        "print(\"Max UserID in Test:\", test_data['UserID'].max())\n",
        "print(\"Max MovieID in Train:\", all_train_data['MovieID'].max())\n",
        "print(\"Max MovieID in Test:\", test_data['MovieID'].max())"
      ]
    },
    {
      "cell_type": "code",
      "execution_count": 27,
      "metadata": {
        "colab": {
          "base_uri": "https://localhost:8080/"
        },
        "id": "DGoP47TgBu8H",
        "outputId": "dceb9883-dc33-496d-a344-3c3bf45ddf3f"
      },
      "outputs": [
        {
          "name": "stdout",
          "output_type": "stream",
          "text": [
            "Max UserID in Train: 6040\n",
            "Max MovieID in Train: 3952\n",
            "Max UserID in Test: 6040\n",
            "Max MovieID in Test: 3952\n"
          ]
        }
      ],
      "source": [
        "print(\"Max UserID in Train:\", all_train_data['UserID'].max())\n",
        "print(\"Max MovieID in Train:\", all_train_data['MovieID'].max())\n",
        "\n",
        "print(\"Max UserID in Test:\", test_data['UserID'].max())\n",
        "print(\"Max MovieID in Test:\", test_data['MovieID'].max())"
      ]
    },
    {
      "cell_type": "code",
      "execution_count": 28,
      "metadata": {
        "id": "gAEXRJwkBvIb"
      },
      "outputs": [],
      "source": [
        "import os\n",
        "\n",
        "model_dir = './saved_models'\n",
        "if not os.path.exists(model_dir):\n",
        "    os.makedirs(model_dir)"
      ]
    },
    {
      "cell_type": "code",
      "execution_count": 29,
      "metadata": {
        "colab": {
          "base_uri": "https://localhost:8080/",
          "height": 715
        },
        "id": "Gj3Q2B0uBvLt",
        "outputId": "99e13ccf-ba7d-4150-9237-b8818677ebb3"
      },
      "outputs": [
        {
          "name": "stdout",
          "output_type": "stream",
          "text": [
            "Client 1 - Epoch 1, Loss: 1.3939\n",
            "Client 2 - Epoch 1, Loss: 1.3783\n",
            "Client 3 - Epoch 1, Loss: 1.3832\n"
          ]
        },
        {
          "ename": "KeyboardInterrupt",
          "evalue": "",
          "output_type": "error",
          "traceback": [
            "\u001b[0;31m---------------------------------------------------------------------------\u001b[0m",
            "\u001b[0;31mKeyboardInterrupt\u001b[0m                         Traceback (most recent call last)",
            "Cell \u001b[0;32mIn[29], line 62\u001b[0m\n\u001b[1;32m     59\u001b[0m client_models[client]\u001b[38;5;241m.\u001b[39mtrain()\n\u001b[1;32m     60\u001b[0m running_loss \u001b[38;5;241m=\u001b[39m \u001b[38;5;241m0.0\u001b[39m\n\u001b[0;32m---> 62\u001b[0m \u001b[43m\u001b[49m\u001b[38;5;28;43;01mfor\u001b[39;49;00m\u001b[43m \u001b[49m\u001b[43mbatch_data\u001b[49m\u001b[43m \u001b[49m\u001b[38;5;129;43;01min\u001b[39;49;00m\u001b[43m \u001b[49m\u001b[43mclient_loaders\u001b[49m\u001b[43m[\u001b[49m\u001b[43mclient\u001b[49m\u001b[43m]\u001b[49m\u001b[43m:\u001b[49m\n\u001b[1;32m     63\u001b[0m \u001b[43m    \u001b[49m\u001b[43muser_ids\u001b[49m\u001b[43m,\u001b[49m\u001b[43m \u001b[49m\u001b[43mmovie_ids\u001b[49m\u001b[43m,\u001b[49m\u001b[43m \u001b[49m\u001b[43mgenres\u001b[49m\u001b[43m,\u001b[49m\u001b[43m \u001b[49m\u001b[43moccupations\u001b[49m\u001b[43m,\u001b[49m\u001b[43m \u001b[49m\u001b[43mages\u001b[49m\u001b[43m,\u001b[49m\u001b[43m \u001b[49m\u001b[43mgenders\u001b[49m\u001b[43m,\u001b[49m\u001b[43m \u001b[49m\u001b[43mrating\u001b[49m\u001b[43m \u001b[49m\u001b[38;5;241;43m=\u001b[39;49m\u001b[43m \u001b[49m\u001b[43m[\u001b[49m\u001b[43mitem\u001b[49m\u001b[38;5;241;43m.\u001b[39;49m\u001b[43mto\u001b[49m\u001b[43m(\u001b[49m\u001b[43mdevice\u001b[49m\u001b[43m)\u001b[49m\u001b[43m \u001b[49m\u001b[38;5;28;43;01mfor\u001b[39;49;00m\u001b[43m \u001b[49m\u001b[43mitem\u001b[49m\u001b[43m \u001b[49m\u001b[38;5;129;43;01min\u001b[39;49;00m\u001b[43m \u001b[49m\u001b[43mbatch_data\u001b[49m\u001b[43m]\u001b[49m\n\u001b[1;32m     64\u001b[0m \u001b[43m    \u001b[49m\u001b[43moptimizer\u001b[49m\u001b[38;5;241;43m.\u001b[39;49m\u001b[43mzero_grad\u001b[49m\u001b[43m(\u001b[49m\u001b[43m)\u001b[49m\n",
            "File \u001b[0;32m~/miniconda3/envs/pytorch/lib/python3.11/site-packages/torch/utils/data/dataloader.py:631\u001b[0m, in \u001b[0;36m_BaseDataLoaderIter.__next__\u001b[0;34m(self)\u001b[0m\n\u001b[1;32m    628\u001b[0m \u001b[38;5;28;01mif\u001b[39;00m \u001b[38;5;28mself\u001b[39m\u001b[38;5;241m.\u001b[39m_sampler_iter \u001b[38;5;129;01mis\u001b[39;00m \u001b[38;5;28;01mNone\u001b[39;00m:\n\u001b[1;32m    629\u001b[0m     \u001b[38;5;66;03m# TODO(https://github.com/pytorch/pytorch/issues/76750)\u001b[39;00m\n\u001b[1;32m    630\u001b[0m     \u001b[38;5;28mself\u001b[39m\u001b[38;5;241m.\u001b[39m_reset()  \u001b[38;5;66;03m# type: ignore[call-arg]\u001b[39;00m\n\u001b[0;32m--> 631\u001b[0m data \u001b[38;5;241m=\u001b[39m \u001b[38;5;28;43mself\u001b[39;49m\u001b[38;5;241;43m.\u001b[39;49m\u001b[43m_next_data\u001b[49m\u001b[43m(\u001b[49m\u001b[43m)\u001b[49m\n\u001b[1;32m    632\u001b[0m \u001b[38;5;28mself\u001b[39m\u001b[38;5;241m.\u001b[39m_num_yielded \u001b[38;5;241m+\u001b[39m\u001b[38;5;241m=\u001b[39m \u001b[38;5;241m1\u001b[39m\n\u001b[1;32m    633\u001b[0m \u001b[38;5;28;01mif\u001b[39;00m \u001b[38;5;28mself\u001b[39m\u001b[38;5;241m.\u001b[39m_dataset_kind \u001b[38;5;241m==\u001b[39m _DatasetKind\u001b[38;5;241m.\u001b[39mIterable \u001b[38;5;129;01mand\u001b[39;00m \\\n\u001b[1;32m    634\u001b[0m         \u001b[38;5;28mself\u001b[39m\u001b[38;5;241m.\u001b[39m_IterableDataset_len_called \u001b[38;5;129;01mis\u001b[39;00m \u001b[38;5;129;01mnot\u001b[39;00m \u001b[38;5;28;01mNone\u001b[39;00m \u001b[38;5;129;01mand\u001b[39;00m \\\n\u001b[1;32m    635\u001b[0m         \u001b[38;5;28mself\u001b[39m\u001b[38;5;241m.\u001b[39m_num_yielded \u001b[38;5;241m>\u001b[39m \u001b[38;5;28mself\u001b[39m\u001b[38;5;241m.\u001b[39m_IterableDataset_len_called:\n",
            "File \u001b[0;32m~/miniconda3/envs/pytorch/lib/python3.11/site-packages/torch/utils/data/dataloader.py:675\u001b[0m, in \u001b[0;36m_SingleProcessDataLoaderIter._next_data\u001b[0;34m(self)\u001b[0m\n\u001b[1;32m    673\u001b[0m \u001b[38;5;28;01mdef\u001b[39;00m \u001b[38;5;21m_next_data\u001b[39m(\u001b[38;5;28mself\u001b[39m):\n\u001b[1;32m    674\u001b[0m     index \u001b[38;5;241m=\u001b[39m \u001b[38;5;28mself\u001b[39m\u001b[38;5;241m.\u001b[39m_next_index()  \u001b[38;5;66;03m# may raise StopIteration\u001b[39;00m\n\u001b[0;32m--> 675\u001b[0m     data \u001b[38;5;241m=\u001b[39m \u001b[38;5;28;43mself\u001b[39;49m\u001b[38;5;241;43m.\u001b[39;49m\u001b[43m_dataset_fetcher\u001b[49m\u001b[38;5;241;43m.\u001b[39;49m\u001b[43mfetch\u001b[49m\u001b[43m(\u001b[49m\u001b[43mindex\u001b[49m\u001b[43m)\u001b[49m  \u001b[38;5;66;03m# may raise StopIteration\u001b[39;00m\n\u001b[1;32m    676\u001b[0m     \u001b[38;5;28;01mif\u001b[39;00m \u001b[38;5;28mself\u001b[39m\u001b[38;5;241m.\u001b[39m_pin_memory:\n\u001b[1;32m    677\u001b[0m         data \u001b[38;5;241m=\u001b[39m _utils\u001b[38;5;241m.\u001b[39mpin_memory\u001b[38;5;241m.\u001b[39mpin_memory(data, \u001b[38;5;28mself\u001b[39m\u001b[38;5;241m.\u001b[39m_pin_memory_device)\n",
            "File \u001b[0;32m~/miniconda3/envs/pytorch/lib/python3.11/site-packages/torch/utils/data/_utils/fetch.py:51\u001b[0m, in \u001b[0;36m_MapDatasetFetcher.fetch\u001b[0;34m(self, possibly_batched_index)\u001b[0m\n\u001b[1;32m     49\u001b[0m         data \u001b[38;5;241m=\u001b[39m \u001b[38;5;28mself\u001b[39m\u001b[38;5;241m.\u001b[39mdataset\u001b[38;5;241m.\u001b[39m__getitems__(possibly_batched_index)\n\u001b[1;32m     50\u001b[0m     \u001b[38;5;28;01melse\u001b[39;00m:\n\u001b[0;32m---> 51\u001b[0m         data \u001b[38;5;241m=\u001b[39m \u001b[43m[\u001b[49m\u001b[38;5;28;43mself\u001b[39;49m\u001b[38;5;241;43m.\u001b[39;49m\u001b[43mdataset\u001b[49m\u001b[43m[\u001b[49m\u001b[43midx\u001b[49m\u001b[43m]\u001b[49m\u001b[43m \u001b[49m\u001b[38;5;28;43;01mfor\u001b[39;49;00m\u001b[43m \u001b[49m\u001b[43midx\u001b[49m\u001b[43m \u001b[49m\u001b[38;5;129;43;01min\u001b[39;49;00m\u001b[43m \u001b[49m\u001b[43mpossibly_batched_index\u001b[49m\u001b[43m]\u001b[49m\n\u001b[1;32m     52\u001b[0m \u001b[38;5;28;01melse\u001b[39;00m:\n\u001b[1;32m     53\u001b[0m     data \u001b[38;5;241m=\u001b[39m \u001b[38;5;28mself\u001b[39m\u001b[38;5;241m.\u001b[39mdataset[possibly_batched_index]\n",
            "File \u001b[0;32m~/miniconda3/envs/pytorch/lib/python3.11/site-packages/torch/utils/data/_utils/fetch.py:51\u001b[0m, in \u001b[0;36m<listcomp>\u001b[0;34m(.0)\u001b[0m\n\u001b[1;32m     49\u001b[0m         data \u001b[38;5;241m=\u001b[39m \u001b[38;5;28mself\u001b[39m\u001b[38;5;241m.\u001b[39mdataset\u001b[38;5;241m.\u001b[39m__getitems__(possibly_batched_index)\n\u001b[1;32m     50\u001b[0m     \u001b[38;5;28;01melse\u001b[39;00m:\n\u001b[0;32m---> 51\u001b[0m         data \u001b[38;5;241m=\u001b[39m [\u001b[38;5;28;43mself\u001b[39;49m\u001b[38;5;241;43m.\u001b[39;49m\u001b[43mdataset\u001b[49m\u001b[43m[\u001b[49m\u001b[43midx\u001b[49m\u001b[43m]\u001b[49m \u001b[38;5;28;01mfor\u001b[39;00m idx \u001b[38;5;129;01min\u001b[39;00m possibly_batched_index]\n\u001b[1;32m     52\u001b[0m \u001b[38;5;28;01melse\u001b[39;00m:\n\u001b[1;32m     53\u001b[0m     data \u001b[38;5;241m=\u001b[39m \u001b[38;5;28mself\u001b[39m\u001b[38;5;241m.\u001b[39mdataset[possibly_batched_index]\n",
            "Cell \u001b[0;32mIn[20], line 18\u001b[0m, in \u001b[0;36mClientDataset.__getitem__\u001b[0;34m(self, idx)\u001b[0m\n\u001b[1;32m     12\u001b[0m \u001b[38;5;28;01mdef\u001b[39;00m \u001b[38;5;21m__getitem__\u001b[39m(\u001b[38;5;28mself\u001b[39m, idx):\n\u001b[1;32m     13\u001b[0m     row \u001b[38;5;241m=\u001b[39m \u001b[38;5;28mself\u001b[39m\u001b[38;5;241m.\u001b[39mdata\u001b[38;5;241m.\u001b[39miloc[idx]\n\u001b[1;32m     14\u001b[0m     \u001b[38;5;28;01mreturn\u001b[39;00m (\n\u001b[1;32m     15\u001b[0m         row[\u001b[38;5;124m'\u001b[39m\u001b[38;5;124mUserID\u001b[39m\u001b[38;5;124m'\u001b[39m],\n\u001b[1;32m     16\u001b[0m         row[\u001b[38;5;124m'\u001b[39m\u001b[38;5;124mMovieID\u001b[39m\u001b[38;5;124m'\u001b[39m],\n\u001b[1;32m     17\u001b[0m         torch\u001b[38;5;241m.\u001b[39mtensor(mlb\u001b[38;5;241m.\u001b[39mtransform([row[\u001b[38;5;124m'\u001b[39m\u001b[38;5;124mGenres\u001b[39m\u001b[38;5;124m'\u001b[39m]\u001b[38;5;241m.\u001b[39msplit(\u001b[38;5;124m'\u001b[39m\u001b[38;5;124m|\u001b[39m\u001b[38;5;124m'\u001b[39m)])[\u001b[38;5;241m0\u001b[39m], dtype\u001b[38;5;241m=\u001b[39mtorch\u001b[38;5;241m.\u001b[39mfloat),\n\u001b[0;32m---> 18\u001b[0m         torch\u001b[38;5;241m.\u001b[39mtensor(\u001b[43moccupation_encoder\u001b[49m\u001b[38;5;241;43m.\u001b[39;49m\u001b[43mtransform\u001b[49m\u001b[43m(\u001b[49m\u001b[43m[\u001b[49m\u001b[43m[\u001b[49m\u001b[43mrow\u001b[49m\u001b[43m[\u001b[49m\u001b[38;5;124;43m'\u001b[39;49m\u001b[38;5;124;43mOccupation\u001b[39;49m\u001b[38;5;124;43m'\u001b[39;49m\u001b[43m]\u001b[49m\u001b[43m]\u001b[49m\u001b[43m]\u001b[49m\u001b[43m)\u001b[49m[\u001b[38;5;241m0\u001b[39m], dtype\u001b[38;5;241m=\u001b[39mtorch\u001b[38;5;241m.\u001b[39mfloat),\n\u001b[1;32m     19\u001b[0m         torch\u001b[38;5;241m.\u001b[39mtensor(row[\u001b[38;5;124m'\u001b[39m\u001b[38;5;124mAge_encoded\u001b[39m\u001b[38;5;124m'\u001b[39m], dtype\u001b[38;5;241m=\u001b[39mtorch\u001b[38;5;241m.\u001b[39mlong),\n\u001b[1;32m     20\u001b[0m         row[\u001b[38;5;124m'\u001b[39m\u001b[38;5;124mGender_encoded\u001b[39m\u001b[38;5;124m'\u001b[39m],\n\u001b[1;32m     21\u001b[0m         row[\u001b[38;5;124m'\u001b[39m\u001b[38;5;124mRating\u001b[39m\u001b[38;5;124m'\u001b[39m]\n\u001b[1;32m     22\u001b[0m     )\n",
            "File \u001b[0;32m~/miniconda3/envs/pytorch/lib/python3.11/site-packages/sklearn/utils/_set_output.py:140\u001b[0m, in \u001b[0;36m_wrap_method_output.<locals>.wrapped\u001b[0;34m(self, X, *args, **kwargs)\u001b[0m\n\u001b[1;32m    138\u001b[0m \u001b[38;5;129m@wraps\u001b[39m(f)\n\u001b[1;32m    139\u001b[0m \u001b[38;5;28;01mdef\u001b[39;00m \u001b[38;5;21mwrapped\u001b[39m(\u001b[38;5;28mself\u001b[39m, X, \u001b[38;5;241m*\u001b[39margs, \u001b[38;5;241m*\u001b[39m\u001b[38;5;241m*\u001b[39mkwargs):\n\u001b[0;32m--> 140\u001b[0m     data_to_wrap \u001b[38;5;241m=\u001b[39m \u001b[43mf\u001b[49m\u001b[43m(\u001b[49m\u001b[38;5;28;43mself\u001b[39;49m\u001b[43m,\u001b[49m\u001b[43m \u001b[49m\u001b[43mX\u001b[49m\u001b[43m,\u001b[49m\u001b[43m \u001b[49m\u001b[38;5;241;43m*\u001b[39;49m\u001b[43margs\u001b[49m\u001b[43m,\u001b[49m\u001b[43m \u001b[49m\u001b[38;5;241;43m*\u001b[39;49m\u001b[38;5;241;43m*\u001b[39;49m\u001b[43mkwargs\u001b[49m\u001b[43m)\u001b[49m\n\u001b[1;32m    141\u001b[0m     \u001b[38;5;28;01mif\u001b[39;00m \u001b[38;5;28misinstance\u001b[39m(data_to_wrap, \u001b[38;5;28mtuple\u001b[39m):\n\u001b[1;32m    142\u001b[0m         \u001b[38;5;66;03m# only wrap the first output for cross decomposition\u001b[39;00m\n\u001b[1;32m    143\u001b[0m         \u001b[38;5;28;01mreturn\u001b[39;00m (\n\u001b[1;32m    144\u001b[0m             _wrap_data_with_container(method, data_to_wrap[\u001b[38;5;241m0\u001b[39m], X, \u001b[38;5;28mself\u001b[39m),\n\u001b[1;32m    145\u001b[0m             \u001b[38;5;241m*\u001b[39mdata_to_wrap[\u001b[38;5;241m1\u001b[39m:],\n\u001b[1;32m    146\u001b[0m         )\n",
            "File \u001b[0;32m~/miniconda3/envs/pytorch/lib/python3.11/site-packages/sklearn/preprocessing/_encoders.py:917\u001b[0m, in \u001b[0;36mOneHotEncoder.transform\u001b[0;34m(self, X)\u001b[0m\n\u001b[1;32m    912\u001b[0m \u001b[38;5;66;03m# validation of X happens in _check_X called by _transform\u001b[39;00m\n\u001b[1;32m    913\u001b[0m warn_on_unknown \u001b[38;5;241m=\u001b[39m \u001b[38;5;28mself\u001b[39m\u001b[38;5;241m.\u001b[39mdrop \u001b[38;5;129;01mis\u001b[39;00m \u001b[38;5;129;01mnot\u001b[39;00m \u001b[38;5;28;01mNone\u001b[39;00m \u001b[38;5;129;01mand\u001b[39;00m \u001b[38;5;28mself\u001b[39m\u001b[38;5;241m.\u001b[39mhandle_unknown \u001b[38;5;129;01min\u001b[39;00m {\n\u001b[1;32m    914\u001b[0m     \u001b[38;5;124m\"\u001b[39m\u001b[38;5;124mignore\u001b[39m\u001b[38;5;124m\"\u001b[39m,\n\u001b[1;32m    915\u001b[0m     \u001b[38;5;124m\"\u001b[39m\u001b[38;5;124minfrequent_if_exist\u001b[39m\u001b[38;5;124m\"\u001b[39m,\n\u001b[1;32m    916\u001b[0m }\n\u001b[0;32m--> 917\u001b[0m X_int, X_mask \u001b[38;5;241m=\u001b[39m \u001b[38;5;28;43mself\u001b[39;49m\u001b[38;5;241;43m.\u001b[39;49m\u001b[43m_transform\u001b[49m\u001b[43m(\u001b[49m\n\u001b[1;32m    918\u001b[0m \u001b[43m    \u001b[49m\u001b[43mX\u001b[49m\u001b[43m,\u001b[49m\n\u001b[1;32m    919\u001b[0m \u001b[43m    \u001b[49m\u001b[43mhandle_unknown\u001b[49m\u001b[38;5;241;43m=\u001b[39;49m\u001b[38;5;28;43mself\u001b[39;49m\u001b[38;5;241;43m.\u001b[39;49m\u001b[43mhandle_unknown\u001b[49m\u001b[43m,\u001b[49m\n\u001b[1;32m    920\u001b[0m \u001b[43m    \u001b[49m\u001b[43mforce_all_finite\u001b[49m\u001b[38;5;241;43m=\u001b[39;49m\u001b[38;5;124;43m\"\u001b[39;49m\u001b[38;5;124;43mallow-nan\u001b[39;49m\u001b[38;5;124;43m\"\u001b[39;49m\u001b[43m,\u001b[49m\n\u001b[1;32m    921\u001b[0m \u001b[43m    \u001b[49m\u001b[43mwarn_on_unknown\u001b[49m\u001b[38;5;241;43m=\u001b[39;49m\u001b[43mwarn_on_unknown\u001b[49m\u001b[43m,\u001b[49m\n\u001b[1;32m    922\u001b[0m \u001b[43m\u001b[49m\u001b[43m)\u001b[49m\n\u001b[1;32m    923\u001b[0m \u001b[38;5;28mself\u001b[39m\u001b[38;5;241m.\u001b[39m_map_infrequent_categories(X_int, X_mask)\n\u001b[1;32m    925\u001b[0m n_samples, n_features \u001b[38;5;241m=\u001b[39m X_int\u001b[38;5;241m.\u001b[39mshape\n",
            "File \u001b[0;32m~/miniconda3/envs/pytorch/lib/python3.11/site-packages/sklearn/preprocessing/_encoders.py:168\u001b[0m, in \u001b[0;36m_BaseEncoder._transform\u001b[0;34m(self, X, handle_unknown, force_all_finite, warn_on_unknown)\u001b[0m\n\u001b[1;32m    165\u001b[0m Xi \u001b[38;5;241m=\u001b[39m X_list[i]\n\u001b[1;32m    166\u001b[0m diff, valid_mask \u001b[38;5;241m=\u001b[39m _check_unknown(Xi, \u001b[38;5;28mself\u001b[39m\u001b[38;5;241m.\u001b[39mcategories_[i], return_mask\u001b[38;5;241m=\u001b[39m\u001b[38;5;28;01mTrue\u001b[39;00m)\n\u001b[0;32m--> 168\u001b[0m \u001b[38;5;28;01mif\u001b[39;00m \u001b[38;5;129;01mnot\u001b[39;00m \u001b[43mnp\u001b[49m\u001b[38;5;241;43m.\u001b[39;49m\u001b[43mall\u001b[49m\u001b[43m(\u001b[49m\u001b[43mvalid_mask\u001b[49m\u001b[43m)\u001b[49m:\n\u001b[1;32m    169\u001b[0m     \u001b[38;5;28;01mif\u001b[39;00m handle_unknown \u001b[38;5;241m==\u001b[39m \u001b[38;5;124m\"\u001b[39m\u001b[38;5;124merror\u001b[39m\u001b[38;5;124m\"\u001b[39m:\n\u001b[1;32m    170\u001b[0m         msg \u001b[38;5;241m=\u001b[39m (\n\u001b[1;32m    171\u001b[0m             \u001b[38;5;124m\"\u001b[39m\u001b[38;5;124mFound unknown categories \u001b[39m\u001b[38;5;132;01m{0}\u001b[39;00m\u001b[38;5;124m in column \u001b[39m\u001b[38;5;132;01m{1}\u001b[39;00m\u001b[38;5;124m\"\u001b[39m\n\u001b[1;32m    172\u001b[0m             \u001b[38;5;124m\"\u001b[39m\u001b[38;5;124m during transform\u001b[39m\u001b[38;5;124m\"\u001b[39m\u001b[38;5;241m.\u001b[39mformat(diff, i)\n\u001b[1;32m    173\u001b[0m         )\n",
            "File \u001b[0;32m~/miniconda3/envs/pytorch/lib/python3.11/site-packages/numpy/core/fromnumeric.py:2421\u001b[0m, in \u001b[0;36mall\u001b[0;34m(a, axis, out, keepdims, where)\u001b[0m\n\u001b[1;32m   2416\u001b[0m \u001b[38;5;28;01mdef\u001b[39;00m \u001b[38;5;21m_all_dispatcher\u001b[39m(a, axis\u001b[38;5;241m=\u001b[39m\u001b[38;5;28;01mNone\u001b[39;00m, out\u001b[38;5;241m=\u001b[39m\u001b[38;5;28;01mNone\u001b[39;00m, keepdims\u001b[38;5;241m=\u001b[39m\u001b[38;5;28;01mNone\u001b[39;00m, \u001b[38;5;241m*\u001b[39m,\n\u001b[1;32m   2417\u001b[0m                     where\u001b[38;5;241m=\u001b[39m\u001b[38;5;28;01mNone\u001b[39;00m):\n\u001b[1;32m   2418\u001b[0m     \u001b[38;5;28;01mreturn\u001b[39;00m (a, where, out)\n\u001b[0;32m-> 2421\u001b[0m \u001b[38;5;129m@array_function_dispatch\u001b[39m(_all_dispatcher)\n\u001b[1;32m   2422\u001b[0m \u001b[38;5;28;01mdef\u001b[39;00m \u001b[38;5;21mall\u001b[39m(a, axis\u001b[38;5;241m=\u001b[39m\u001b[38;5;28;01mNone\u001b[39;00m, out\u001b[38;5;241m=\u001b[39m\u001b[38;5;28;01mNone\u001b[39;00m, keepdims\u001b[38;5;241m=\u001b[39mnp\u001b[38;5;241m.\u001b[39m_NoValue, \u001b[38;5;241m*\u001b[39m, where\u001b[38;5;241m=\u001b[39mnp\u001b[38;5;241m.\u001b[39m_NoValue):\n\u001b[1;32m   2423\u001b[0m \u001b[38;5;250m    \u001b[39m\u001b[38;5;124;03m\"\"\"\u001b[39;00m\n\u001b[1;32m   2424\u001b[0m \u001b[38;5;124;03m    Test whether all array elements along a given axis evaluate to True.\u001b[39;00m\n\u001b[1;32m   2425\u001b[0m \n\u001b[0;32m   (...)\u001b[0m\n\u001b[1;32m   2502\u001b[0m \n\u001b[1;32m   2503\u001b[0m \u001b[38;5;124;03m    \"\"\"\u001b[39;00m\n\u001b[1;32m   2504\u001b[0m     \u001b[38;5;28;01mreturn\u001b[39;00m _wrapreduction(a, np\u001b[38;5;241m.\u001b[39mlogical_and, \u001b[38;5;124m'\u001b[39m\u001b[38;5;124mall\u001b[39m\u001b[38;5;124m'\u001b[39m, axis, \u001b[38;5;28;01mNone\u001b[39;00m, out,\n\u001b[1;32m   2505\u001b[0m                           keepdims\u001b[38;5;241m=\u001b[39mkeepdims, where\u001b[38;5;241m=\u001b[39mwhere)\n",
            "\u001b[0;31mKeyboardInterrupt\u001b[0m: "
          ]
        }
      ],
      "source": [
        "import copy\n",
        "import os\n",
        "import torch\n",
        "import torch.nn as nn\n",
        "from collections import OrderedDict\n",
        "import matplotlib.pyplot as plt\n",
        "from sklearn.metrics import mean_absolute_error, mean_absolute_percentage_error,r2_score,mean_squared_error,mean_squared_log_error\n",
        "import numpy as np\n",
        "\n",
        "def rmse_score(y_true, y_pred):\n",
        "    return np.sqrt(mean_squared_error(y_true, y_pred))\n",
        "\n",
        "\n",
        "\n",
        "def average_weights(client_models):\n",
        "    average_model_weights = OrderedDict()\n",
        "    for k in client_models[0].state_dict().keys():\n",
        "        average_model_weights[k] = torch.stack([client_models[i].state_dict()[k].float() for i in range(num_clients)], 0).mean(0)\n",
        "    return average_model_weights\n",
        "\n",
        "\n",
        "global_model = ExpandedRecommender(\n",
        "    num_users=users['UserID'].max()+1,\n",
        "    num_movies=ratings['MovieID'].max()+1,\n",
        "    embedding_dim=50,\n",
        "    num_genres=len(mlb.classes_),\n",
        "    num_occupations=len(occupation_encoder.categories_[0]),\n",
        "    num_ages=len(age_encoder.classes_)+1\n",
        ").to(device)\n",
        "\n",
        "criterion = nn.MSELoss()\n",
        "optimizer = torch.optim.Adam(global_model.parameters(), lr=0.001)\n",
        "epochs = 1\n",
        "rounds = 1\n",
        "num_clients = 10\n",
        "\n",
        "\n",
        "client_losses = {i: [] for i in range(num_clients)}\n",
        "global_losses = []\n",
        "\n",
        "client_accuracies = {i: [] for i in range(num_clients)}\n",
        "global_accuracies = []\n",
        "\n",
        "client_mae = {i: [] for i in range(num_clients)}\n",
        "global_maes = []\n",
        "\n",
        "acc = []\n",
        "c_loss = []\n",
        "model_dir = 'model_dir'\n",
        "if not os.path.exists(model_dir):\n",
        "    os.makedirs(model_dir)\n",
        "\n",
        "for round in range(rounds):\n",
        "    client_models = [copy.deepcopy(global_model) for _ in range(num_clients)]\n",
        "    for client in range(num_clients):\n",
        "        optimizer = torch.optim.Adam(client_models[client].parameters(), lr=0.001)\n",
        "        los = []\n",
        "        for epoch in range(epochs):\n",
        "            client_models[client].train()\n",
        "            running_loss = 0.0\n",
        "            \n",
        "            for batch_data in client_loaders[client]:\n",
        "                user_ids, movie_ids, genres, occupations, ages, genders, rating = [item.to(device) for item in batch_data]\n",
        "                optimizer.zero_grad()\n",
        "                outputs = client_models[client](user_ids, movie_ids, genres, occupations, ages, genders)\n",
        "                loss = criterion(outputs, rating.float())\n",
        "                loss.backward()\n",
        "                optimizer.step()\n",
        "                running_loss += loss.item()\n",
        "\n",
        "            epoch_loss = running_loss / len(client_loaders[client])\n",
        "            print(f\"Client {client+1} - Epoch {epoch+1}, Loss: {epoch_loss:.4f}\")\n",
        "            client_losses[client].append(epoch_loss)\n",
        "            los.append(epoch_loss)\n",
        "            \n",
        "            torch.save(client_models[client].state_dict(), os.path.join(model_dir, f'client_{client+1}_round_{round+1}.pth'))\n",
        "        c_loss.append(los)\n",
        "    for client in range(num_clients):\n",
        "        predictions = []\n",
        "        true_labels = []\n",
        "        client_models[client].eval()  # Set model to evaluation mode\n",
        "        with torch.no_grad():\n",
        "            for data in client_loaders[client]:\n",
        "                user_ids, movie_ids, genres, occupations, ages, genders, rating = [item.to(device) for item in data]\n",
        "                outputs = client_models[client](user_ids, movie_ids, genres, occupations, ages, genders)\n",
        "                predictions.extend(outputs.cpu().numpy())\n",
        "                true_labels.extend(rating.cpu().numpy())\n",
        "\n",
        "        mae = mean_absolute_error(true_labels, predictions)\n",
        "        a = mean_absolute_percentage_error(true_labels,predictions)\n",
        "        b = r2_score(true_labels,predictions)\n",
        "        c = mean_squared_error(true_labels,predictions)\n",
        "        d = rmse_score(true_labels,predictions)\n",
        "        #e = mean_squared_log_error(true_labels,predictions)\n",
        "        acc.append([mae,a,b,c,d])\n",
        "        client_mae[client].append(mae)\n",
        "    global_weights = average_weights(client_models)\n",
        "    global_model.load_state_dict(global_weights)\n",
        "\n",
        "    predictions = []\n",
        "    true_labels = []\n",
        "    global_model.eval()\n",
        "    with torch.no_grad():\n",
        "        for batch_data in test_loader:\n",
        "            user_ids, movie_ids, genres, occupations, ages, genders, rating = [item.to(device) for item in batch_data]\n",
        "            outputs = global_model(user_ids, movie_ids, genres, occupations, ages, genders)\n",
        "            predictions.extend(outputs.cpu().numpy())\n",
        "            true_labels.extend(rating.cpu().numpy())\n",
        "\n",
        "    global_mae = mean_absolute_error(true_labels, predictions)\n",
        "    global_maes.append(global_mae)\n",
        "    print(f\"After Round {round+1}, Global Model Test MAE: {global_mae:.4f}\")"
      ]
    },
    {
      "cell_type": "code",
      "execution_count": 28,
      "metadata": {},
      "outputs": [
        {
          "data": {
            "text/plain": [
              "[[0.8612705252467967,\n",
              "  0.34193676649287497,\n",
              "  0.12144344369359805,\n",
              "  1.110640855932279,\n",
              "  1.0538694681659009],\n",
              " [0.8445571179107567,\n",
              "  0.3397984378119983,\n",
              "  0.12883306341073697,\n",
              "  1.0839263934684407,\n",
              "  1.0411178576263307],\n",
              " [0.838203499061559,\n",
              "  0.341737368883331,\n",
              "  0.13082186928405204,\n",
              "  1.0780160133445673,\n",
              "  1.038275499732401],\n",
              " [0.8430044456761365,\n",
              "  0.3487327746096592,\n",
              "  0.12351530314351233,\n",
              "  1.0945597702470862,\n",
              "  1.0462121057639728],\n",
              " [0.8378600290384465,\n",
              "  0.35227289194779227,\n",
              "  0.118944736897179,\n",
              "  1.099636396585302,\n",
              "  1.0486354927167505],\n",
              " [0.8565342715838025,\n",
              "  0.33510564703179396,\n",
              "  0.12085409093250576,\n",
              "  1.0959975772615005,\n",
              "  1.046899029162555],\n",
              " [0.8503499927781791,\n",
              "  0.33967661728709553,\n",
              "  0.12286571494352427,\n",
              "  1.093216414146902,\n",
              "  1.0455698992161653],\n",
              " [0.8440249967019411,\n",
              "  0.3406876477035149,\n",
              "  0.13067513366610162,\n",
              "  1.0859789283246655,\n",
              "  1.0421031274901085],\n",
              " [0.8584430126976577,\n",
              "  0.3389785991187125,\n",
              "  0.11223914054562167,\n",
              "  1.1058870209059812,\n",
              "  1.0516116302637497],\n",
              " [0.8459141020583191,\n",
              "  0.3407729122068766,\n",
              "  0.12701546545073072,\n",
              "  1.0886383664824182,\n",
              "  1.0433783429238017]]"
            ]
          },
          "execution_count": 28,
          "metadata": {},
          "output_type": "execute_result"
        }
      ],
      "source": [
        "acc"
      ]
    },
    {
      "cell_type": "code",
      "execution_count": 38,
      "metadata": {},
      "outputs": [],
      "source": [
        "data = [acc, c_loss]\n",
        "data = list(map(list, zip(*data)))\n",
        "column_names = ['Accuracy', 'Train Losses']\n",
        "df1 = pd.DataFrame(data, columns=column_names)\n",
        "df1.to_csv('results_ff.csv')"
      ]
    },
    {
      "cell_type": "code",
      "execution_count": null,
      "metadata": {
        "colab": {
          "base_uri": "https://localhost:8080/",
          "height": 1000
        },
        "id": "g82TWkqrBvSb",
        "outputId": "e105fa14-849d-46ec-e0f0-8481b134c3c6"
      },
      "outputs": [
        {
          "data": {
            "image/png": "[encoded data removed]",
            "text/plain": [
              "<Figure size 1000x1500 with 3 Axes>"
            ]
          },
          "metadata": {},
          "output_type": "display_data"
        }
      ],
      "source": [
        "fig, axs = plt.subplots(num_clients, 1, figsize=(10, 5 * num_clients))\n",
        "for client, losses in client_losses.items():\n",
        "    if not losses:\n",
        "        print(f\"No losses recorded for client {client + 1}. Skipping...\")\n",
        "        continue\n",
        "    axs[client].plot(range(1, epochs * rounds + 1), losses, label=f'Client {client + 1}')\n",
        "    axs[client].set(xlabel='Epoch', ylabel='Loss')\n",
        "    axs[client].legend()\n",
        "    axs[client].grid(True)\n",
        "plt.tight_layout()\n",
        "plt.show()\n"
      ]
    },
    {
      "cell_type": "code",
      "execution_count": null,
      "metadata": {
        "colab": {
          "base_uri": "https://localhost:8080/",
          "height": 487
        },
        "id": "i2lNsR0jqE5k",
        "outputId": "d6172cff-13d9-4fcf-ce71-c1eaa0926c42"
      },
      "outputs": [
        {
          "data": {
            "image/png": "[encoded data removed]",
            "text/plain": [
              "<Figure size 1000x500 with 1 Axes>"
            ]
          },
          "metadata": {},
          "output_type": "display_data"
        }
      ],
      "source": [
        "clients = list(range(1, num_clients + 1))\n",
        "final_maes = [maes[-1] for maes in client_mae.values()]\n",
        "plt.figure(figsize=(10, 5))\n",
        "plt.bar(clients, final_maes, color='blue', alpha=0.7, label='Local Models')\n",
        "plt.axhline(y=global_maes[-1], color='r', linestyle='--', label='Global Model')\n",
        "plt.xlabel('Client Number')\n",
        "plt.ylabel('Mean Absolute Error')\n",
        "plt.title('Clients and Mean Absolute Error')\n",
        "plt.legend()\n",
        "plt.show()\n"
      ]
    },
    {
      "cell_type": "code",
      "execution_count": null,
      "metadata": {
        "colab": {
          "base_uri": "https://localhost:8080/",
          "height": 487
        },
        "id": "0XH_6TlyqMwP",
        "outputId": "aeb774c6-ed0a-438f-b02b-0b789ab3778c"
      },
      "outputs": [
        {
          "data": {
            "image/png": "[encoded data removed]",
            "text/plain": [
              "<Figure size 1000x500 with 1 Axes>"
            ]
          },
          "metadata": {},
          "output_type": "display_data"
        }
      ],
      "source": [
        "import numpy as np  # Ensure that numpy is imported\n",
        "\n",
        "rounds_list = list(range(1, rounds + 1))\n",
        "plt.figure(figsize=(10, 5))\n",
        "\n",
        "plt.plot(rounds_list, global_maes, color='red', marker='o', linestyle='dashed', linewidth=2, markersize=12, label='Global Model')\n",
        "\n",
        "local_avg_mae = [np.mean([client_mae[client][i] for client in range(num_clients)]) for i in range(rounds)]\n",
        "plt.plot(rounds_list, local_avg_mae, color='blue', marker='s', linestyle='solid', linewidth=2, markersize=12, label='Local Models')\n",
        "\n",
        "plt.xlabel('Round')\n",
        "plt.ylabel('Mean Absolute Error')\n",
        "plt.title('Global Model vs Local Model Mean Absolute Error')\n",
        "plt.legend()\n",
        "plt.show()\n"
      ]
    },
    {
      "cell_type": "code",
      "execution_count": null,
      "metadata": {
        "id": "Lb8IBSq-uybl"
      },
      "outputs": [],
      "source": []
    }
  ],
  "metadata": {
    "colab": {
      "provenance": []
    },
    "kernelspec": {
      "display_name": "Python 3",
      "language": "python",
      "name": "python3"
    },
    "language_info": {
      "codemirror_mode": {
        "name": "ipython",
        "version": 3
      },
      "file_extension": ".py",
      "mimetype": "text/x-python",
      "name": "python",
      "nbconvert_exporter": "python",
      "pygments_lexer": "ipython3",
      "version": "3.11.4"
    }
  },
  "nbformat": 4,
  "nbformat_minor": 0
}
