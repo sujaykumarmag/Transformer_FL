{
 "cells": [
  {
   "cell_type": "code",
   "execution_count": 1,
   "metadata": {
    "colab": {
     "base_uri": "https://localhost:8080/"
    },
    "id": "j77Jde2BwPDp",
    "outputId": "ee065620-115b-4655-9205-ef672aed8de2"
   },
   "outputs": [
    {
     "name": "stderr",
     "output_type": "stream",
     "text": [
      "[nltk_data] Downloading package stopwords to\n",
      "[nltk_data]     /Users/sujaykumar/nltk_data...\n",
      "[nltk_data]   Package stopwords is already up-to-date!\n"
     ]
    }
   ],
   "source": [
    "%matplotlib inline\n",
    "import re\n",
    "import seaborn as sbn\n",
    "import nltk\n",
    "import tqdm as tqdm\n",
    "import sqlite3\n",
    "import pandas as pd\n",
    "import numpy as np\n",
    "nltk.download('stopwords')\n",
    "\n",
    "\n",
    "import string\n",
    "from nltk.corpus import stopwords\n",
    "stop = stopwords.words(\"english\")\n",
    "import matplotlib.pyplot as plt\n",
    "\n",
    "from sklearn.metrics import accuracy_score\n",
    "from sklearn.metrics import confusion_matrix\n",
    "from math import floor,ceil\n",
    "from nltk.stem.porter import PorterStemmer\n",
    "english_stemmer=nltk.stem.SnowballStemmer('english')\n",
    "\n",
    "from sklearn.feature_extraction.text import TfidfTransformer\n",
    "from sklearn.feature_extraction.text import CountVectorizer\n",
    "\n",
    "from sklearn.metrics import confusion_matrix\n",
    "from sklearn import metrics\n",
    "from sklearn.metrics import roc_curve, auc\n",
    "\n",
    "from sklearn.svm import LinearSVC\n",
    "\n",
    "from keras.models import Sequential\n",
    "from keras.layers import LSTM, Dense, Embedding\n",
    "from nltk.tokenize import word_tokenize\n",
    "from sklearn.feature_extraction.text import TfidfVectorizer\n",
    "from sklearn.model_selection import train_test_split"
   ]
  },
  {
   "cell_type": "code",
   "execution_count": 2,
   "metadata": {
    "colab": {
     "base_uri": "https://localhost:8080/"
    },
    "id": "1M8vdvWJykZd",
    "outputId": "2439954e-6b92-4ae9-bdc2-438bb81dac89"
   },
   "outputs": [],
   "source": [
    "df = pd.read_csv('../data/software_text.csv')"
   ]
  },
  {
   "cell_type": "code",
   "execution_count": 3,
   "metadata": {
    "id": "06kloO_l_MoY"
   },
   "outputs": [],
   "source": [
    "df = df.drop(['Unnamed: 0','style','vote','image'],axis=1)"
   ]
  },
  {
   "cell_type": "markdown",
   "metadata": {
    "id": "IwJSS-5a_V0l"
   },
   "source": [
    "<h2>As we are taking only verified Users we drop all the false Reviews</h2>"
   ]
  },
  {
   "cell_type": "code",
   "execution_count": 4,
   "metadata": {
    "colab": {
     "base_uri": "https://localhost:8080/"
    },
    "id": "11m-sCLc_hIs",
    "outputId": "7f730f2a-b978-43a5-bcaa-a1b4d68a575d"
   },
   "outputs": [
    {
     "data": {
      "text/plain": [
       "False    7631\n",
       "True     5174\n",
       "Name: verified, dtype: int64"
      ]
     },
     "execution_count": 4,
     "metadata": {},
     "output_type": "execute_result"
    }
   ],
   "source": [
    "df[\"verified\"].value_counts()"
   ]
  },
  {
   "cell_type": "code",
   "execution_count": 5,
   "metadata": {
    "id": "p6POV_34zBkD"
   },
   "outputs": [],
   "source": [
    "df = df[df['verified']]"
   ]
  },
  {
   "cell_type": "code",
   "execution_count": 6,
   "metadata": {
    "colab": {
     "base_uri": "https://localhost:8080/"
    },
    "id": "oRnXEKWV_De1",
    "outputId": "36b48309-16ac-4934-cbe1-aec675c63abe"
   },
   "outputs": [
    {
     "data": {
      "text/plain": [
       "True    5174\n",
       "Name: verified, dtype: int64"
      ]
     },
     "execution_count": 6,
     "metadata": {},
     "output_type": "execute_result"
    }
   ],
   "source": [
    "df[\"verified\"].value_counts()"
   ]
  },
  {
   "cell_type": "markdown",
   "metadata": {
    "id": "g_bbLFR2_o8d"
   },
   "source": [
    "<h3>We Consider only the Text Based to Recommend the Products</h3>"
   ]
  },
  {
   "cell_type": "code",
   "execution_count": 7,
   "metadata": {
    "id": "QWyQqTqn_FIi"
   },
   "outputs": [],
   "source": [
    "df = df.drop(['reviewTime','reviewerName','unixReviewTime','verified'],axis=1)"
   ]
  },
  {
   "cell_type": "code",
   "execution_count": 8,
   "metadata": {
    "id": "qbR0mi3aOU1_"
   },
   "outputs": [],
   "source": [
    "df = df.dropna(axis=0)"
   ]
  },
  {
   "cell_type": "code",
   "execution_count": 9,
   "metadata": {
    "colab": {
     "base_uri": "https://localhost:8080/",
     "height": 424
    },
    "id": "r63mNeRO_ytf",
    "outputId": "f6ab5b4f-a7d5-44d3-be78-938e74ccd2ed"
   },
   "outputs": [
    {
     "data": {
      "text/html": [
       "<div>\n",
       "<style scoped>\n",
       "    .dataframe tbody tr th:only-of-type {\n",
       "        vertical-align: middle;\n",
       "    }\n",
       "\n",
       "    .dataframe tbody tr th {\n",
       "        vertical-align: top;\n",
       "    }\n",
       "\n",
       "    .dataframe thead th {\n",
       "        text-align: right;\n",
       "    }\n",
       "</style>\n",
       "<table border=\"1\" class=\"dataframe\">\n",
       "  <thead>\n",
       "    <tr style=\"text-align: right;\">\n",
       "      <th></th>\n",
       "      <th>overall</th>\n",
       "      <th>reviewerID</th>\n",
       "      <th>asin</th>\n",
       "      <th>reviewText</th>\n",
       "      <th>summary</th>\n",
       "    </tr>\n",
       "  </thead>\n",
       "  <tbody>\n",
       "    <tr>\n",
       "      <th>22</th>\n",
       "      <td>5.0</td>\n",
       "      <td>AHEZP9ACDYJII</td>\n",
       "      <td>0763855553</td>\n",
       "      <td>Microsoft Office is still the standard all the...</td>\n",
       "      <td>Still the Standard</td>\n",
       "    </tr>\n",
       "    <tr>\n",
       "      <th>23</th>\n",
       "      <td>1.0</td>\n",
       "      <td>A2WUYJJ7NPQ5H4</td>\n",
       "      <td>0763855553</td>\n",
       "      <td>Been using Office for over twenty years.  Stil...</td>\n",
       "      <td>and easily corrupted. Outlook is all messed up</td>\n",
       "    </tr>\n",
       "    <tr>\n",
       "      <th>24</th>\n",
       "      <td>5.0</td>\n",
       "      <td>AXGLPF6X39874</td>\n",
       "      <td>0763855553</td>\n",
       "      <td>Always liked Office Products.  Expensive for a...</td>\n",
       "      <td>Best value</td>\n",
       "    </tr>\n",
       "    <tr>\n",
       "      <th>25</th>\n",
       "      <td>5.0</td>\n",
       "      <td>AJK49DENMS2BT</td>\n",
       "      <td>0763855553</td>\n",
       "      <td>I have been using MS Office professional for d...</td>\n",
       "      <td>despite competing support elsewhere in the sof...</td>\n",
       "    </tr>\n",
       "    <tr>\n",
       "      <th>26</th>\n",
       "      <td>5.0</td>\n",
       "      <td>A3UI63EESKUYHU</td>\n",
       "      <td>0763855553</td>\n",
       "      <td>This is really a great buy.  It breaks down to...</td>\n",
       "      <td>Excellent value</td>\n",
       "    </tr>\n",
       "    <tr>\n",
       "      <th>...</th>\n",
       "      <td>...</td>\n",
       "      <td>...</td>\n",
       "      <td>...</td>\n",
       "      <td>...</td>\n",
       "      <td>...</td>\n",
       "    </tr>\n",
       "    <tr>\n",
       "      <th>12792</th>\n",
       "      <td>5.0</td>\n",
       "      <td>A3PGN4ZXMQRSYH</td>\n",
       "      <td>B01DEG0SGC</td>\n",
       "      <td>Arrived as described.  I was pleased with purc...</td>\n",
       "      <td>I was pleased with</td>\n",
       "    </tr>\n",
       "    <tr>\n",
       "      <th>12793</th>\n",
       "      <td>1.0</td>\n",
       "      <td>A2DKUVUY6M48YF</td>\n",
       "      <td>B01E6C5D1S</td>\n",
       "      <td>Was not what I expected</td>\n",
       "      <td>Was not what I expected</td>\n",
       "    </tr>\n",
       "    <tr>\n",
       "      <th>12794</th>\n",
       "      <td>4.0</td>\n",
       "      <td>A1MOLMEBRO23PR</td>\n",
       "      <td>B01E6C5D1S</td>\n",
       "      <td>great buy</td>\n",
       "      <td>Four Stars</td>\n",
       "    </tr>\n",
       "    <tr>\n",
       "      <th>12795</th>\n",
       "      <td>4.0</td>\n",
       "      <td>A1RHJX6OA0O9KQ</td>\n",
       "      <td>B01E6C5D1S</td>\n",
       "      <td>The product itself is quite good, in depth fix...</td>\n",
       "      <td>They put out a good product...all they need is...</td>\n",
       "    </tr>\n",
       "    <tr>\n",
       "      <th>12796</th>\n",
       "      <td>4.0</td>\n",
       "      <td>A20QR509GXKL2A</td>\n",
       "      <td>B01E6C5D1S</td>\n",
       "      <td>ok</td>\n",
       "      <td>Four Stars</td>\n",
       "    </tr>\n",
       "  </tbody>\n",
       "</table>\n",
       "<p>5168 rows × 5 columns</p>\n",
       "</div>"
      ],
      "text/plain": [
       "       overall      reviewerID        asin  \\\n",
       "22         5.0   AHEZP9ACDYJII  0763855553   \n",
       "23         1.0  A2WUYJJ7NPQ5H4  0763855553   \n",
       "24         5.0   AXGLPF6X39874  0763855553   \n",
       "25         5.0   AJK49DENMS2BT  0763855553   \n",
       "26         5.0  A3UI63EESKUYHU  0763855553   \n",
       "...        ...             ...         ...   \n",
       "12792      5.0  A3PGN4ZXMQRSYH  B01DEG0SGC   \n",
       "12793      1.0  A2DKUVUY6M48YF  B01E6C5D1S   \n",
       "12794      4.0  A1MOLMEBRO23PR  B01E6C5D1S   \n",
       "12795      4.0  A1RHJX6OA0O9KQ  B01E6C5D1S   \n",
       "12796      4.0  A20QR509GXKL2A  B01E6C5D1S   \n",
       "\n",
       "                                              reviewText  \\\n",
       "22     Microsoft Office is still the standard all the...   \n",
       "23     Been using Office for over twenty years.  Stil...   \n",
       "24     Always liked Office Products.  Expensive for a...   \n",
       "25     I have been using MS Office professional for d...   \n",
       "26     This is really a great buy.  It breaks down to...   \n",
       "...                                                  ...   \n",
       "12792  Arrived as described.  I was pleased with purc...   \n",
       "12793                            Was not what I expected   \n",
       "12794                                          great buy   \n",
       "12795  The product itself is quite good, in depth fix...   \n",
       "12796                                                 ok   \n",
       "\n",
       "                                                 summary  \n",
       "22                                    Still the Standard  \n",
       "23        and easily corrupted. Outlook is all messed up  \n",
       "24                                            Best value  \n",
       "25     despite competing support elsewhere in the sof...  \n",
       "26                                       Excellent value  \n",
       "...                                                  ...  \n",
       "12792                                 I was pleased with  \n",
       "12793                            Was not what I expected  \n",
       "12794                                         Four Stars  \n",
       "12795  They put out a good product...all they need is...  \n",
       "12796                                         Four Stars  \n",
       "\n",
       "[5168 rows x 5 columns]"
      ]
     },
     "execution_count": 9,
     "metadata": {},
     "output_type": "execute_result"
    }
   ],
   "source": [
    "df"
   ]
  },
  {
   "cell_type": "code",
   "execution_count": 10,
   "metadata": {
    "colab": {
     "base_uri": "https://localhost:8080/"
    },
    "id": "W6xaP8Bd_9zA",
    "outputId": "33017465-6ec6-4d16-83db-b66b22e8a89a"
   },
   "outputs": [
    {
     "data": {
      "text/plain": [
       "5.0    3250\n",
       "4.0     837\n",
       "3.0     447\n",
       "1.0     428\n",
       "2.0     206\n",
       "Name: overall, dtype: int64"
      ]
     },
     "execution_count": 10,
     "metadata": {},
     "output_type": "execute_result"
    }
   ],
   "source": [
    "df['overall'].value_counts()"
   ]
  },
  {
   "cell_type": "markdown",
   "metadata": {
    "id": "twg6Il6XATRe"
   },
   "source": [
    "<h3> Cleaning the Data (NLP)</h3>"
   ]
  },
  {
   "cell_type": "code",
   "execution_count": 11,
   "metadata": {
    "id": "ixAaL2A6AES_"
   },
   "outputs": [],
   "source": [
    "def data_clean(rev, remove_stopwords=True):\n",
    "    if isinstance(rev, str):\n",
    "        new_text = re.sub(\"[^a-zA-Z]\", \" \", rev)\n",
    "        words = new_text.lower().split()\n",
    "        if remove_stopwords:\n",
    "            sts = set(stopwords.words(\"english\"))\n",
    "            words = [w for w in words if not w in sts]\n",
    "        ary = []\n",
    "        eng_stemmer = english_stemmer\n",
    "        for word in words:\n",
    "            ary.append(eng_stemmer.stem(word))\n",
    "        return ary\n",
    "    else:\n",
    "        return []"
   ]
  },
  {
   "cell_type": "code",
   "execution_count": 12,
   "metadata": {
    "id": "8hJPriumAQ4A"
   },
   "outputs": [],
   "source": [
    "clean_reviewData = []\n",
    "for rev in df['reviewText']:\n",
    "    clean_reviewData.append( \" \".join(data_clean(rev)))\n",
    "\n",
    "clean_summaryData = []\n",
    "for rev in df['summary']:\n",
    "    clean_summaryData.append( \" \".join(data_clean(rev)))"
   ]
  },
  {
   "cell_type": "code",
   "execution_count": 13,
   "metadata": {
    "colab": {
     "base_uri": "https://localhost:8080/"
    },
    "id": "bZhHKme9AaHz",
    "outputId": "45ed2a12-ff46-410d-e3d8-0215947331a4"
   },
   "outputs": [
    {
     "name": "stdout",
     "output_type": "stream",
     "text": [
      "use        3736\n",
      "year       2419\n",
      "work       2211\n",
      "softwar    1907\n",
      "product    1837\n",
      "instal     1776\n",
      "tax        1703\n",
      "window     1637\n",
      "program    1575\n",
      "version    1506\n",
      "one        1459\n",
      "get        1333\n",
      "time       1292\n",
      "like       1252\n",
      "comput     1197\n",
      "good       1173\n",
      "need       1160\n",
      "great      1071\n",
      "file       1056\n",
      "problem     964\n",
      "dtype: int64\n"
     ]
    }
   ],
   "source": [
    "Most_used_Words_Review = pd.Series(' '.join(clean_reviewData).lower().split()).value_counts()[:20]\n",
    "print(Most_used_Words_Review)"
   ]
  },
  {
   "cell_type": "code",
   "execution_count": 14,
   "metadata": {
    "colab": {
     "base_uri": "https://localhost:8080/"
    },
    "id": "0fKqefrZA1hl",
    "outputId": "33963fda-fd42-44ad-c0d6-ebef0d0ffba8"
   },
   "outputs": [
    {
     "name": "stdout",
     "output_type": "stream",
     "text": [
      "star        1223\n",
      "five         789\n",
      "great        482\n",
      "work         422\n",
      "good         406\n",
      "product      307\n",
      "tax          278\n",
      "softwar      244\n",
      "use          243\n",
      "four         201\n",
      "best         194\n",
      "year         162\n",
      "easi         160\n",
      "excel        138\n",
      "price        128\n",
      "one          127\n",
      "program      125\n",
      "norton       112\n",
      "better       108\n",
      "turbotax     105\n",
      "dtype: int64\n"
     ]
    }
   ],
   "source": [
    "Most_used_Words_Summary = pd.Series(' '.join(clean_summaryData).lower().split()).value_counts()[:20]\n",
    "print (Most_used_Words_Summary)"
   ]
  },
  {
   "cell_type": "code",
   "execution_count": 15,
   "metadata": {
    "id": "O8roUQTlMuj1"
   },
   "outputs": [],
   "source": [
    "from sklearn.feature_extraction.text import TfidfVectorizer\n",
    "text_vectorizer = TfidfVectorizer(min_df=4, max_features = 1000)\n",
    "test_vecor = text_vectorizer.fit_transform(clean_reviewData)\n",
    "tfidf_vector = dict(zip(text_vectorizer.get_feature_names_out(), text_vectorizer.idf_))"
   ]
  },
  {
   "cell_type": "code",
   "execution_count": 16,
   "metadata": {
    "colab": {
     "base_uri": "https://localhost:8080/"
    },
    "id": "eerCBTRIMwZ8",
    "outputId": "8b820a79-2597-4627-88f2-2008dc6a4819"
   },
   "outputs": [
    {
     "name": "stdout",
     "output_type": "stream",
     "text": [
      "compound: 0.4767, \n",
      "neg: 0.056, \n",
      "neu: 0.806, \n",
      "pos: 0.138, \n",
      "Microsoft Office is still the standard all the rest are compared to.  Office 365 is a great value when you consider the licensing options for standalone packages.  You might be tempted to use a free online office solution, but you'll be disappointed.  The cost and licensing options for this software are a bargain compared to the cost of owning the package on the same machines, and keeping them upgraded.\n",
      "compound: 0.8302, \n",
      "neg: 0.03, \n",
      "neu: 0.901, \n",
      "pos: 0.07, \n",
      "Been using Office for over twenty years.  Still not worth the money.  Buggy, and easily corrupted. Outlook is all messed up. This is fourth year on 365.  Thought I could just click \"renew\" somewhere, pay, and be done with it.  Took for ever to finally find the right Office site, tried to renew, but couldn't as I didn't buy originally from there.  So I came here, bought it, and spent a good bit of time trying to figure out where to enter the key.  Ended up being where I couldn't buy but could enter the key.\n",
      "\n",
      "My goal this year is to sever from MS completely after getting my first PC in '86.  I don't think there is anything they sell that can't be had for free elsewhere.  You'd think after being in business almost thirty-five years they get it right.\n",
      "compound: 0.5023, \n",
      "neg: 0.0, \n",
      "neu: 0.721, \n",
      "pos: 0.279, \n",
      "Always liked Office Products.  Expensive for a retiree but worth it for everything I do.\n",
      "compound: -0.8218, \n",
      "neg: 0.078, \n",
      "neu: 0.9, \n",
      "pos: 0.022, \n",
      "I have been using MS Office professional for decades. This latest version simply provides the top version in the most convenient, automatically updated, and economical format. The annual subscription renews the app on all 5 machines for a year, for under $100 ($20 per year per PC or device). I have had a number of scary moments with the Outlook component, but each was quickly fixed by the readily-available Microsoft telephone service for this product (I let them take over my machine and they quickly fix it in less than 10 minutes). Frankly, this telephone service deserves more than five stars--competing at a near-perfect level, despite competing support elsewhere in the software market being scandalously poor.\n",
      "compound: 0.807, \n",
      "neg: 0.043, \n",
      "neu: 0.734, \n",
      "pos: 0.222, \n",
      "This is really a great buy.  It breaks down to a full MS Office software suite for 5 computers plus 1TB of online storage.  The storage alone is worth the price.  Well worth $100 per year, or less than $10 per month.\n",
      "compound: 0.871, \n",
      "neg: 0.062, \n",
      "neu: 0.776, \n",
      "pos: 0.162, \n",
      "The software is well known and excellent.  It provides at least ten times the capabilities I need.  The annual licenses are reasonable in cost since they amount to $20 per user.\n",
      "\n",
      "The licenses are easy to manage.  I used this one-year package to extend an existing license.  It took perhaps two minutes to access the website and enter the license key.  I like that the added license extended the current license from the end of the previous license - no time is lost.  This is not true with Norton Security, for example.  With Norton Security renewals are a timing hassle.\n",
      "compound: 0.9935, \n",
      "neg: 0.023, \n",
      "neu: 0.877, \n",
      "pos: 0.1, \n",
      "The bottom line:  I like this deal much better than trying to buy an Office 365 license outright from Microsoft because it's cheaper, you get more, and you have a lot more options.\n",
      "\n",
      "The full review:\n",
      "More to the point though, Office has become a different animal than it was.  In the long run, Office 365 is a better deal than buying a downloadable, installable product--because you *get* a downloadable, installable product with this deal.\n",
      "\n",
      "So what exactly are you getting here?\n",
      "\n",
      "This package is the ability to use the latest version of Office in the browser--meaning, if you're on a machine that doesn't have Office installed, you can log into your Microsoft account (required) and use browser-based versions of all the Office apps.  This also means that the online storage place called \"OneDrive\" (formerly known as \"SkyDrive\") can be used to store up to one TeraByte (1,000GB) of stuff, anything you like, private or public or just shared out as you wish.\n",
      "\n",
      "It's ALSO the ability to download and install Office 2013 OR Office 2016, on up to 5 machines, for up to 4 people!  That's the cool part.  In the past, you might have to buy more than one copy of Office, or be the sole user, or only put it on a desktop and a laptop.  Now I can put this on my desktop, laptop, and Surface Pro, then install it on my wife's PC and my daughter can also have a copy installed to use.  I've been running Office 2016 for the most part and have been pretty happy with the way it works.  2016 is not hugely different from 2013 or 2010, just in little ways.\n",
      "\n",
      "This package lets you use Office for a year.  You can buy two or three and stack them to prolong your subscription (if you're afraid the price of Office will go up) or you can extend your subscription to more people (in case you have a bunch of kids and want to add mom and dad and grandma into the number of users).  I added a year using this code.  It was only easy to do because I looked online first for HOW to do it.\n",
      "\n",
      "Which brings us to the only real drawback to Office 365:  anything to do with the browser.  The browser-based apps try to be as much like the desktop as possible, but they're still not quite the same.  OneNote is probably the closest match I've seen, while Outlook is the ugliest and least useful.  The fact that the browser-based versions run in Azure (\"the Cloud\", a.k.a., \"on the Internet\") means that they typically run a bit slower, depending on your Internet connection.  OneDrive is more annoying to manage using the browser, so I find myself using a computer to do most of the work like uploading files/folders, creating new folders, etc.  I use the browser-based OneDrive interface to download individual stuff or share stuff out to people.  The entire browser interface is trying to do the \"Kanban\" look that you also see in Windows 8's \"Metro-now-called-Modern\" apps and parts of Windows 10's look and feel.\n",
      "\n",
      "My rule of thumb is that the browser-based Office is for small tasks on the go, but for anything substantial I go with the PC.\n",
      "\n",
      "You also have to use the Office website to mange things like who you share Office with, or how you download.  They make it annoyingly over-complicated to download the 64-bit version of Office if you don't want to use the 32-bit.  You have to choose \"Install-->Language and Install Options-->Additional Install Options--> then pick the specific 64-bit version you want.  There's no good reason to bury the better-performing version that far down except that they hope it prevents tech support complications.\n",
      "\n",
      "The Home Subscription is: Word, Excel, PowerPoint, OneNote, Outlook, and a 1TB bump-up to OneDrive, up to 4 people across 5 machines.\n",
      "The Personal Subscription is the same, but only for one individual user, on up to 5 machines.\n",
      "The Business version has a lot of other options *and* things to consider when choosing.\n",
      "\n",
      "Overall, I find this a much better deal than shelling out a few hundred dollars up front and knowing the next version will require me to buy it again, and I don't get the benefit of the added OneDrive storage space.  With this price, it's cheaper and I will always have the option of downloading the latest version of Office or sticking with the one I have.  The browser-based versions I consider an afterthought, or \"bonus feature\" - I wouldn't rely solely on those for everyday work.  And I would like to see managing the subscriptions and installs get a bit easier.\n",
      "compound: 0.2716, \n",
      "neg: 0.0, \n",
      "neu: 0.944, \n",
      "pos: 0.056, \n",
      "I have this running on my Macbook Air and two HP laptops. Set up took less than 3 minutes. It is a one year subscription which is totally fine with me considering it averages out to $20 per year.\n",
      "compound: 0.1265, \n",
      "neg: 0.168, \n",
      "neu: 0.629, \n",
      "pos: 0.203, \n",
      "not that easy to understand or install, documentation should be better.\n",
      "compound: 0.6892, \n",
      "neg: 0.0, \n",
      "neu: 0.514, \n",
      "pos: 0.486, \n",
      "Works well! Use for Outlook and Word, Excel!\n"
     ]
    },
    {
     "name": "stderr",
     "output_type": "stream",
     "text": [
      "[nltk_data] Downloading package vader_lexicon to\n",
      "[nltk_data]     /Users/sujaykumar/nltk_data...\n",
      "[nltk_data]   Package vader_lexicon is already up-to-date!\n",
      "/var/folders/l2/_mks1sd56yjdxq9514qt1fnh0000gn/T/ipykernel_12058/3928246299.py:5: FutureWarning: The behavior of `series[i:j]` with an integer-dtype index is deprecated. In a future version, this will be treated as *label-based* indexing, consistent with e.g. `series[i]` lookups. To retain the old behavior, use `series.iloc[i:j]`. To get the future behavior, use `series.loc[i:j]`.\n",
      "  sample_review = df.reviewText[:10]\n"
     ]
    }
   ],
   "source": [
    "nltk.download('vader_lexicon')\n",
    "\n",
    "from nltk.sentiment.vader import SentimentIntensityAnalyzer\n",
    "analyser = SentimentIntensityAnalyzer()\n",
    "sample_review = df.reviewText[:10]\n",
    "for test in sample_review:\n",
    "    test\n",
    "    ss = analyser.polarity_scores(test)\n",
    "    for k in sorted(ss):\n",
    "        print('{0}: {1}, '.format(k, ss[k]))\n",
    "    print(test)"
   ]
  },
  {
   "cell_type": "code",
   "execution_count": 17,
   "metadata": {
    "id": "LAA4vfclNZEO"
   },
   "outputs": [],
   "source": [
    "test_reviewText = df.reviewText\n",
    "test_Ratings = df.overall\n",
    "text_vectorizer = TfidfVectorizer(max_df=.8)\n",
    "text_vectorizer.fit(test_reviewText)\n",
    "def rate(r):\n",
    "    ary2 = []\n",
    "    for rating in r:\n",
    "        tv = [0,0,0,0,0]\n",
    "        tv[rating-1] = 1\n",
    "        ary2.append(tv)\n",
    "    return np.array(ary2)"
   ]
  },
  {
   "cell_type": "code",
   "execution_count": 18,
   "metadata": {},
   "outputs": [],
   "source": [
    "test_Ratings = df.overall"
   ]
  },
  {
   "cell_type": "code",
   "execution_count": 19,
   "metadata": {},
   "outputs": [
    {
     "data": {
      "text/plain": [
       "22       Microsoft Office is still the standard all the...\n",
       "23       Been using Office for over twenty years.  Stil...\n",
       "24       Always liked Office Products.  Expensive for a...\n",
       "25       I have been using MS Office professional for d...\n",
       "26       This is really a great buy.  It breaks down to...\n",
       "                               ...                        \n",
       "12792    Arrived as described.  I was pleased with purc...\n",
       "12793                              Was not what I expected\n",
       "12794                                            great buy\n",
       "12795    The product itself is quite good, in depth fix...\n",
       "12796                                                   ok\n",
       "Name: reviewText, Length: 5168, dtype: object"
      ]
     },
     "execution_count": 19,
     "metadata": {},
     "output_type": "execute_result"
    }
   ],
   "source": [
    "test_reviewText"
   ]
  },
  {
   "cell_type": "code",
   "execution_count": 32,
   "metadata": {},
   "outputs": [],
   "source": [
    "test_Ratings\n",
    "rate = []\n",
    "for i in test_Ratings:\n",
    "    if i >=3:\n",
    "        rate.append(1)\n",
    "    else:\n",
    "        rate.append(0)"
   ]
  },
  {
   "cell_type": "code",
   "execution_count": 36,
   "metadata": {},
   "outputs": [
    {
     "data": {
      "text/plain": [
       "22       5.0\n",
       "23       1.0\n",
       "24       5.0\n",
       "25       5.0\n",
       "26       5.0\n",
       "        ... \n",
       "12792    5.0\n",
       "12793    1.0\n",
       "12794    4.0\n",
       "12795    4.0\n",
       "12796    4.0\n",
       "Name: overall, Length: 5168, dtype: float64"
      ]
     },
     "execution_count": 36,
     "metadata": {},
     "output_type": "execute_result"
    }
   ],
   "source": [
    "test_Ratings"
   ]
  },
  {
   "cell_type": "code",
   "execution_count": 34,
   "metadata": {},
   "outputs": [],
   "source": [
    "df = pd.DataFrame({\n",
    "    'reviewText': test_reviewText,\n",
    "    'Ratings': rate\n",
    "})"
   ]
  },
  {
   "cell_type": "code",
   "execution_count": 35,
   "metadata": {},
   "outputs": [],
   "source": [
    "df.to_csv(\"processed_data/final_pre-processed.csv\")"
   ]
  },
  {
   "cell_type": "code",
   "execution_count": 37,
   "metadata": {},
   "outputs": [],
   "source": [
    "df1 = pd.read_csv('../data/software_text.csv')"
   ]
  },
  {
   "cell_type": "code",
   "execution_count": 39,
   "metadata": {},
   "outputs": [
    {
     "data": {
      "text/plain": [
       "False    7631\n",
       "True     5174\n",
       "Name: verified, dtype: int64"
      ]
     },
     "execution_count": 39,
     "metadata": {},
     "output_type": "execute_result"
    }
   ],
   "source": [
    "df1[\"verified\"].value_counts()"
   ]
  },
  {
   "cell_type": "code",
   "execution_count": 40,
   "metadata": {},
   "outputs": [
    {
     "data": {
      "text/html": [
       "<div>\n",
       "<style scoped>\n",
       "    .dataframe tbody tr th:only-of-type {\n",
       "        vertical-align: middle;\n",
       "    }\n",
       "\n",
       "    .dataframe tbody tr th {\n",
       "        vertical-align: top;\n",
       "    }\n",
       "\n",
       "    .dataframe thead th {\n",
       "        text-align: right;\n",
       "    }\n",
       "</style>\n",
       "<table border=\"1\" class=\"dataframe\">\n",
       "  <thead>\n",
       "    <tr style=\"text-align: right;\">\n",
       "      <th></th>\n",
       "      <th>Unnamed: 0</th>\n",
       "      <th>overall</th>\n",
       "      <th>verified</th>\n",
       "      <th>reviewTime</th>\n",
       "      <th>reviewerID</th>\n",
       "      <th>asin</th>\n",
       "      <th>style</th>\n",
       "      <th>reviewerName</th>\n",
       "      <th>reviewText</th>\n",
       "      <th>summary</th>\n",
       "      <th>unixReviewTime</th>\n",
       "      <th>vote</th>\n",
       "      <th>image</th>\n",
       "    </tr>\n",
       "  </thead>\n",
       "  <tbody>\n",
       "    <tr>\n",
       "      <th>0</th>\n",
       "      <td>0</td>\n",
       "      <td>4.0</td>\n",
       "      <td>False</td>\n",
       "      <td>10 20, 2010</td>\n",
       "      <td>A38NELQT98S4H8</td>\n",
       "      <td>0321719816</td>\n",
       "      <td>{'Format:': ' DVD-ROM'}</td>\n",
       "      <td>WB Halper</td>\n",
       "      <td>I've been using Dreamweaver (and it's predeces...</td>\n",
       "      <td>A solid overview of Dreamweaver CS5</td>\n",
       "      <td>1287532800</td>\n",
       "      <td>NaN</td>\n",
       "      <td>NaN</td>\n",
       "    </tr>\n",
       "    <tr>\n",
       "      <th>1</th>\n",
       "      <td>1</td>\n",
       "      <td>4.0</td>\n",
       "      <td>False</td>\n",
       "      <td>10 18, 2010</td>\n",
       "      <td>A3QJU4FEN8PQSZ</td>\n",
       "      <td>0321719816</td>\n",
       "      <td>{'Format:': ' DVD-ROM'}</td>\n",
       "      <td>Grimmy</td>\n",
       "      <td>The demo is done with the PC version, with ref...</td>\n",
       "      <td>A good value</td>\n",
       "      <td>1287360000</td>\n",
       "      <td>NaN</td>\n",
       "      <td>NaN</td>\n",
       "    </tr>\n",
       "    <tr>\n",
       "      <th>2</th>\n",
       "      <td>2</td>\n",
       "      <td>5.0</td>\n",
       "      <td>False</td>\n",
       "      <td>10 16, 2010</td>\n",
       "      <td>ACJT8MUC0LRF0</td>\n",
       "      <td>0321719816</td>\n",
       "      <td>{'Format:': ' DVD-ROM'}</td>\n",
       "      <td>D. Fowler</td>\n",
       "      <td>If you've been wanting to learn how to create ...</td>\n",
       "      <td>This is excellent software for those who want ...</td>\n",
       "      <td>1287187200</td>\n",
       "      <td>3</td>\n",
       "      <td>NaN</td>\n",
       "    </tr>\n",
       "    <tr>\n",
       "      <th>3</th>\n",
       "      <td>3</td>\n",
       "      <td>5.0</td>\n",
       "      <td>False</td>\n",
       "      <td>10 12, 2010</td>\n",
       "      <td>AYUF7YETYOLNX</td>\n",
       "      <td>0321719816</td>\n",
       "      <td>{'Format:': ' DVD-ROM'}</td>\n",
       "      <td>Bryan Newman</td>\n",
       "      <td>I've been creating websites with Dreamweaver f...</td>\n",
       "      <td>A Fantastic Overview of Dream Weaver and Web D...</td>\n",
       "      <td>1286841600</td>\n",
       "      <td>NaN</td>\n",
       "      <td>NaN</td>\n",
       "    </tr>\n",
       "    <tr>\n",
       "      <th>4</th>\n",
       "      <td>4</td>\n",
       "      <td>5.0</td>\n",
       "      <td>False</td>\n",
       "      <td>10 7, 2010</td>\n",
       "      <td>A31ICLWQ9CSHRS</td>\n",
       "      <td>0321719816</td>\n",
       "      <td>{'Format:': ' DVD-ROM'}</td>\n",
       "      <td>Al Swanson</td>\n",
       "      <td>I decided (after trying a number of other prod...</td>\n",
       "      <td>Excellent Tutorials!</td>\n",
       "      <td>1286409600</td>\n",
       "      <td>NaN</td>\n",
       "      <td>NaN</td>\n",
       "    </tr>\n",
       "    <tr>\n",
       "      <th>...</th>\n",
       "      <td>...</td>\n",
       "      <td>...</td>\n",
       "      <td>...</td>\n",
       "      <td>...</td>\n",
       "      <td>...</td>\n",
       "      <td>...</td>\n",
       "      <td>...</td>\n",
       "      <td>...</td>\n",
       "      <td>...</td>\n",
       "      <td>...</td>\n",
       "      <td>...</td>\n",
       "      <td>...</td>\n",
       "      <td>...</td>\n",
       "    </tr>\n",
       "    <tr>\n",
       "      <th>12800</th>\n",
       "      <td>12800</td>\n",
       "      <td>4.0</td>\n",
       "      <td>False</td>\n",
       "      <td>07 16, 2016</td>\n",
       "      <td>A1E50L7PCVXLN4</td>\n",
       "      <td>B01FFVDY9M</td>\n",
       "      <td>{'Platform:': ' Key Card'}</td>\n",
       "      <td>Colinda</td>\n",
       "      <td>When I ordered this it was listed as Photo Edi...</td>\n",
       "      <td>File Management Software with Basic Editing Ca...</td>\n",
       "      <td>1468627200</td>\n",
       "      <td>NaN</td>\n",
       "      <td>NaN</td>\n",
       "    </tr>\n",
       "    <tr>\n",
       "      <th>12801</th>\n",
       "      <td>12801</td>\n",
       "      <td>3.0</td>\n",
       "      <td>False</td>\n",
       "      <td>06 17, 2017</td>\n",
       "      <td>AVU1ILDDYW301</td>\n",
       "      <td>B01HAP3NUG</td>\n",
       "      <td>NaN</td>\n",
       "      <td>G. Hearn</td>\n",
       "      <td>This software has SO much going on.  Theres a ...</td>\n",
       "      <td>Might not be for the \"novice\"</td>\n",
       "      <td>1497657600</td>\n",
       "      <td>NaN</td>\n",
       "      <td>NaN</td>\n",
       "    </tr>\n",
       "    <tr>\n",
       "      <th>12802</th>\n",
       "      <td>12802</td>\n",
       "      <td>4.0</td>\n",
       "      <td>False</td>\n",
       "      <td>01 24, 2017</td>\n",
       "      <td>A2LW5AL0KQ9P1M</td>\n",
       "      <td>B01HAP3NUG</td>\n",
       "      <td>NaN</td>\n",
       "      <td>Dr. E</td>\n",
       "      <td>I have used both more complex and less complex...</td>\n",
       "      <td>Great, Inexpensive Software for Those Who Have...</td>\n",
       "      <td>1485216000</td>\n",
       "      <td>NaN</td>\n",
       "      <td>NaN</td>\n",
       "    </tr>\n",
       "    <tr>\n",
       "      <th>12803</th>\n",
       "      <td>12803</td>\n",
       "      <td>3.0</td>\n",
       "      <td>False</td>\n",
       "      <td>06 14, 2018</td>\n",
       "      <td>AZ515FFZ7I2P7</td>\n",
       "      <td>B01HAP47PQ</td>\n",
       "      <td>{'Platform:': ' PC Disc'}</td>\n",
       "      <td>Jerry Jackson Jr.</td>\n",
       "      <td>Pinnacle Studio 20 Ultimate is a perfectly ser...</td>\n",
       "      <td>Gets the job done ... but not as easy as it sh...</td>\n",
       "      <td>1528934400</td>\n",
       "      <td>NaN</td>\n",
       "      <td>NaN</td>\n",
       "    </tr>\n",
       "    <tr>\n",
       "      <th>12804</th>\n",
       "      <td>12804</td>\n",
       "      <td>4.0</td>\n",
       "      <td>False</td>\n",
       "      <td>04 16, 2018</td>\n",
       "      <td>A2WPL6Y08K6ZQH</td>\n",
       "      <td>B01HAP47PQ</td>\n",
       "      <td>{'Platform:': ' PC Disc'}</td>\n",
       "      <td>Narut Ujnat</td>\n",
       "      <td>A program that is fairly easy to use and provi...</td>\n",
       "      <td>Good overall program.</td>\n",
       "      <td>1523836800</td>\n",
       "      <td>NaN</td>\n",
       "      <td>NaN</td>\n",
       "    </tr>\n",
       "  </tbody>\n",
       "</table>\n",
       "<p>12805 rows × 13 columns</p>\n",
       "</div>"
      ],
      "text/plain": [
       "       Unnamed: 0  overall  verified   reviewTime      reviewerID        asin  \\\n",
       "0               0      4.0     False  10 20, 2010  A38NELQT98S4H8  0321719816   \n",
       "1               1      4.0     False  10 18, 2010  A3QJU4FEN8PQSZ  0321719816   \n",
       "2               2      5.0     False  10 16, 2010   ACJT8MUC0LRF0  0321719816   \n",
       "3               3      5.0     False  10 12, 2010   AYUF7YETYOLNX  0321719816   \n",
       "4               4      5.0     False   10 7, 2010  A31ICLWQ9CSHRS  0321719816   \n",
       "...           ...      ...       ...          ...             ...         ...   \n",
       "12800       12800      4.0     False  07 16, 2016  A1E50L7PCVXLN4  B01FFVDY9M   \n",
       "12801       12801      3.0     False  06 17, 2017   AVU1ILDDYW301  B01HAP3NUG   \n",
       "12802       12802      4.0     False  01 24, 2017  A2LW5AL0KQ9P1M  B01HAP3NUG   \n",
       "12803       12803      3.0     False  06 14, 2018   AZ515FFZ7I2P7  B01HAP47PQ   \n",
       "12804       12804      4.0     False  04 16, 2018  A2WPL6Y08K6ZQH  B01HAP47PQ   \n",
       "\n",
       "                            style       reviewerName  \\\n",
       "0         {'Format:': ' DVD-ROM'}          WB Halper   \n",
       "1         {'Format:': ' DVD-ROM'}             Grimmy   \n",
       "2         {'Format:': ' DVD-ROM'}          D. Fowler   \n",
       "3         {'Format:': ' DVD-ROM'}       Bryan Newman   \n",
       "4         {'Format:': ' DVD-ROM'}         Al Swanson   \n",
       "...                           ...                ...   \n",
       "12800  {'Platform:': ' Key Card'}            Colinda   \n",
       "12801                         NaN           G. Hearn   \n",
       "12802                         NaN              Dr. E   \n",
       "12803   {'Platform:': ' PC Disc'}  Jerry Jackson Jr.   \n",
       "12804   {'Platform:': ' PC Disc'}        Narut Ujnat   \n",
       "\n",
       "                                              reviewText  \\\n",
       "0      I've been using Dreamweaver (and it's predeces...   \n",
       "1      The demo is done with the PC version, with ref...   \n",
       "2      If you've been wanting to learn how to create ...   \n",
       "3      I've been creating websites with Dreamweaver f...   \n",
       "4      I decided (after trying a number of other prod...   \n",
       "...                                                  ...   \n",
       "12800  When I ordered this it was listed as Photo Edi...   \n",
       "12801  This software has SO much going on.  Theres a ...   \n",
       "12802  I have used both more complex and less complex...   \n",
       "12803  Pinnacle Studio 20 Ultimate is a perfectly ser...   \n",
       "12804  A program that is fairly easy to use and provi...   \n",
       "\n",
       "                                                 summary  unixReviewTime vote  \\\n",
       "0                    A solid overview of Dreamweaver CS5      1287532800  NaN   \n",
       "1                                           A good value      1287360000  NaN   \n",
       "2      This is excellent software for those who want ...      1287187200    3   \n",
       "3      A Fantastic Overview of Dream Weaver and Web D...      1286841600  NaN   \n",
       "4                                   Excellent Tutorials!      1286409600  NaN   \n",
       "...                                                  ...             ...  ...   \n",
       "12800  File Management Software with Basic Editing Ca...      1468627200  NaN   \n",
       "12801                      Might not be for the \"novice\"      1497657600  NaN   \n",
       "12802  Great, Inexpensive Software for Those Who Have...      1485216000  NaN   \n",
       "12803  Gets the job done ... but not as easy as it sh...      1528934400  NaN   \n",
       "12804                              Good overall program.      1523836800  NaN   \n",
       "\n",
       "      image  \n",
       "0       NaN  \n",
       "1       NaN  \n",
       "2       NaN  \n",
       "3       NaN  \n",
       "4       NaN  \n",
       "...     ...  \n",
       "12800   NaN  \n",
       "12801   NaN  \n",
       "12802   NaN  \n",
       "12803   NaN  \n",
       "12804   NaN  \n",
       "\n",
       "[12805 rows x 13 columns]"
      ]
     },
     "execution_count": 40,
     "metadata": {},
     "output_type": "execute_result"
    }
   ],
   "source": [
    "df1"
   ]
  },
  {
   "cell_type": "code",
   "execution_count": 43,
   "metadata": {},
   "outputs": [
    {
     "data": {
      "text/plain": [
       "{'Platform:': ' PC Disc'}        1394\n",
       "{'Platform:': ' PC Download'}     693\n",
       "{'Format:': ' Software'}          668\n",
       "{'Format:': ' CD-ROM'}            630\n",
       "{'Platform:': ' PC/Mac Disc'}     494\n",
       "                                 ... \n",
       "{'Color:': ' 0.0385987943'}         1\n",
       "{'Color:': ' 0.5087989573'}         1\n",
       "{'Color:': ' 0.4882057053'}         1\n",
       "{'Color:': ' 0.2551958794'}         1\n",
       "{'Color:': ' 0.0811504547'}         1\n",
       "Name: style, Length: 238, dtype: int64"
      ]
     },
     "execution_count": 43,
     "metadata": {},
     "output_type": "execute_result"
    }
   ],
   "source": [
    "df1['style'].value_counts()"
   ]
  },
  {
   "cell_type": "code",
   "execution_count": null,
   "metadata": {},
   "outputs": [],
   "source": []
  }
 ],
 "metadata": {
  "colab": {
   "provenance": []
  },
  "kernelspec": {
   "display_name": "Python 3.10 (tensorflow)",
   "language": "python",
   "name": "tensorflow"
  },
  "language_info": {
   "codemirror_mode": {
    "name": "ipython",
    "version": 3
   },
   "file_extension": ".py",
   "mimetype": "text/x-python",
   "name": "python",
   "nbconvert_exporter": "python",
   "pygments_lexer": "ipython3",
   "version": "3.10.11"
  }
 },
 "nbformat": 4,
 "nbformat_minor": 1
}
