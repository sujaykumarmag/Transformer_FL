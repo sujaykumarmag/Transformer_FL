{
 "cells": [
  {
   "cell_type": "code",
   "execution_count": 1,
   "id": "72840c8e",
   "metadata": {},
   "outputs": [],
   "source": [
    "import pandas as pd\n",
    "import numpy as np\n",
    "from keras.models import Sequential\n",
    "from keras.layers import LSTM, Dense, Embedding\n",
    "from sklearn.feature_extraction.text import TfidfVectorizer\n",
    "from sklearn.model_selection import train_test_split"
   ]
  },
  {
   "cell_type": "code",
   "execution_count": 2,
   "id": "feddfcad",
   "metadata": {},
   "outputs": [],
   "source": [
    "df = pd.read_csv(\"processed_data/final_pre-processed.csv\")"
   ]
  },
  {
   "cell_type": "code",
   "execution_count": 3,
   "id": "c31e1e0c",
   "metadata": {},
   "outputs": [
    {
     "data": {
      "text/html": [
       "<div>\n",
       "<style scoped>\n",
       "    .dataframe tbody tr th:only-of-type {\n",
       "        vertical-align: middle;\n",
       "    }\n",
       "\n",
       "    .dataframe tbody tr th {\n",
       "        vertical-align: top;\n",
       "    }\n",
       "\n",
       "    .dataframe thead th {\n",
       "        text-align: right;\n",
       "    }\n",
       "</style>\n",
       "<table border=\"1\" class=\"dataframe\">\n",
       "  <thead>\n",
       "    <tr style=\"text-align: right;\">\n",
       "      <th></th>\n",
       "      <th>Unnamed: 0</th>\n",
       "      <th>reviewText</th>\n",
       "      <th>Ratings</th>\n",
       "    </tr>\n",
       "  </thead>\n",
       "  <tbody>\n",
       "    <tr>\n",
       "      <th>0</th>\n",
       "      <td>0</td>\n",
       "      <td>What a spectacular tutu! Very slimming.</td>\n",
       "      <td>5.0</td>\n",
       "    </tr>\n",
       "    <tr>\n",
       "      <th>1</th>\n",
       "      <td>1</td>\n",
       "      <td>What the heck? Is this a tutu for nuns? I know...</td>\n",
       "      <td>1.0</td>\n",
       "    </tr>\n",
       "    <tr>\n",
       "      <th>2</th>\n",
       "      <td>2</td>\n",
       "      <td>Exactly what we were looking for!</td>\n",
       "      <td>5.0</td>\n",
       "    </tr>\n",
       "    <tr>\n",
       "      <th>3</th>\n",
       "      <td>3</td>\n",
       "      <td>I used this skirt for a Halloween costume and ...</td>\n",
       "      <td>5.0</td>\n",
       "    </tr>\n",
       "    <tr>\n",
       "      <th>4</th>\n",
       "      <td>4</td>\n",
       "      <td>This is thick enough that you can't see throug...</td>\n",
       "      <td>4.0</td>\n",
       "    </tr>\n",
       "    <tr>\n",
       "      <th>...</th>\n",
       "      <td>...</td>\n",
       "      <td>...</td>\n",
       "      <td>...</td>\n",
       "    </tr>\n",
       "    <tr>\n",
       "      <th>2610129</th>\n",
       "      <td>2839935</td>\n",
       "      <td>Love the shorts.. amazing comfortable, perfect...</td>\n",
       "      <td>5.0</td>\n",
       "    </tr>\n",
       "    <tr>\n",
       "      <th>2610130</th>\n",
       "      <td>2839936</td>\n",
       "      <td>Superb quality</td>\n",
       "      <td>5.0</td>\n",
       "    </tr>\n",
       "    <tr>\n",
       "      <th>2610131</th>\n",
       "      <td>2839937</td>\n",
       "      <td>Works every time</td>\n",
       "      <td>5.0</td>\n",
       "    </tr>\n",
       "    <tr>\n",
       "      <th>2610132</th>\n",
       "      <td>2839938</td>\n",
       "      <td>I have a briley bolt release paddle installed ...</td>\n",
       "      <td>5.0</td>\n",
       "    </tr>\n",
       "    <tr>\n",
       "      <th>2610133</th>\n",
       "      <td>2839939</td>\n",
       "      <td>Works great</td>\n",
       "      <td>5.0</td>\n",
       "    </tr>\n",
       "  </tbody>\n",
       "</table>\n",
       "<p>2610134 rows × 3 columns</p>\n",
       "</div>"
      ],
      "text/plain": [
       "         Unnamed: 0                                         reviewText  \\\n",
       "0                 0            What a spectacular tutu! Very slimming.   \n",
       "1                 1  What the heck? Is this a tutu for nuns? I know...   \n",
       "2                 2                  Exactly what we were looking for!   \n",
       "3                 3  I used this skirt for a Halloween costume and ...   \n",
       "4                 4  This is thick enough that you can't see throug...   \n",
       "...             ...                                                ...   \n",
       "2610129     2839935  Love the shorts.. amazing comfortable, perfect...   \n",
       "2610130     2839936                                     Superb quality   \n",
       "2610131     2839937                                   Works every time   \n",
       "2610132     2839938  I have a briley bolt release paddle installed ...   \n",
       "2610133     2839939                                        Works great   \n",
       "\n",
       "         Ratings  \n",
       "0            5.0  \n",
       "1            1.0  \n",
       "2            5.0  \n",
       "3            5.0  \n",
       "4            4.0  \n",
       "...          ...  \n",
       "2610129      5.0  \n",
       "2610130      5.0  \n",
       "2610131      5.0  \n",
       "2610132      5.0  \n",
       "2610133      5.0  \n",
       "\n",
       "[2610134 rows x 3 columns]"
      ]
     },
     "execution_count": 3,
     "metadata": {},
     "output_type": "execute_result"
    }
   ],
   "source": [
    "df"
   ]
  },
  {
   "cell_type": "code",
   "execution_count": 4,
   "id": "23a7f5d3",
   "metadata": {},
   "outputs": [],
   "source": [
    "df = df.drop('Unnamed: 0',axis=1)[:4000]"
   ]
  },
  {
   "cell_type": "code",
   "execution_count": 5,
   "id": "21bcf12e",
   "metadata": {},
   "outputs": [],
   "source": [
    "df[\"Ratings\"] = df[\"Ratings\"].astype(int)"
   ]
  },
  {
   "cell_type": "code",
   "execution_count": 6,
   "id": "d5e87ae6",
   "metadata": {},
   "outputs": [],
   "source": [
    "text_vectorizer = TfidfVectorizer(max_df=.8)\n",
    "text_vectorizer.fit(df['reviewText'])\n",
    "def rate(r):\n",
    "    ary2 = []\n",
    "    for rating in r:\n",
    "        tv = [0,0,0,0,0]\n",
    "        tv[rating-1] = 1\n",
    "        ary2.append(tv)\n",
    "    return np.array(ary2)"
   ]
  },
  {
   "cell_type": "code",
   "execution_count": 7,
   "id": "e6c7733f",
   "metadata": {},
   "outputs": [],
   "source": [
    "X = text_vectorizer.transform(df['reviewText']).toarray()\n",
    "y = rate(df['Ratings'].values)"
   ]
  },
  {
   "cell_type": "code",
   "execution_count": 8,
   "id": "ea4c693e",
   "metadata": {},
   "outputs": [
    {
     "data": {
      "text/plain": [
       "array([[0., 0., 0., ..., 0., 0., 0.],\n",
       "       [0., 0., 0., ..., 0., 0., 0.],\n",
       "       [0., 0., 0., ..., 0., 0., 0.],\n",
       "       ...,\n",
       "       [0., 0., 0., ..., 0., 0., 0.],\n",
       "       [0., 0., 0., ..., 0., 0., 0.],\n",
       "       [0., 0., 0., ..., 0., 0., 0.]])"
      ]
     },
     "execution_count": 8,
     "metadata": {},
     "output_type": "execute_result"
    }
   ],
   "source": [
    "X"
   ]
  },
  {
   "cell_type": "code",
   "execution_count": 9,
   "id": "bb57ab3a",
   "metadata": {},
   "outputs": [
    {
     "data": {
      "text/plain": [
       "array([[0, 0, 0, 0, 1],\n",
       "       [1, 0, 0, 0, 0],\n",
       "       [0, 0, 0, 0, 1],\n",
       "       ...,\n",
       "       [0, 0, 0, 0, 1],\n",
       "       [1, 0, 0, 0, 0],\n",
       "       [0, 0, 0, 0, 1]])"
      ]
     },
     "execution_count": 9,
     "metadata": {},
     "output_type": "execute_result"
    }
   ],
   "source": [
    "y"
   ]
  },
  {
   "cell_type": "code",
   "execution_count": 10,
   "id": "16cd699c",
   "metadata": {},
   "outputs": [],
   "source": [
    "X_train, X_test, y_train, y_test = train_test_split(X,y,test_size=.2)"
   ]
  },
  {
   "cell_type": "code",
   "execution_count": 11,
   "id": "a91f05cc",
   "metadata": {},
   "outputs": [
    {
     "name": "stdout",
     "output_type": "stream",
     "text": [
      "Metal device set to: Apple M1\n",
      "Epoch 1/10\n"
     ]
    },
    {
     "name": "stderr",
     "output_type": "stream",
     "text": [
      "2023-08-23 22:51:33.724224: W tensorflow/tsl/platform/profile_utils/cpu_utils.cc:128] Failed to get CPU frequency: 0 Hz\n"
     ]
    },
    {
     "name": "stdout",
     "output_type": "stream",
     "text": [
      "100/100 [==============================] - 1s 11ms/step - loss: 1.0256 - accuracy: 0.6862 - val_loss: 0.8839 - val_accuracy: 0.6975\n",
      "Epoch 2/10\n",
      "100/100 [==============================] - 1s 10ms/step - loss: 0.7912 - accuracy: 0.6959 - val_loss: 0.8160 - val_accuracy: 0.7000\n",
      "Epoch 3/10\n",
      "100/100 [==============================] - 1s 10ms/step - loss: 0.6819 - accuracy: 0.7312 - val_loss: 0.7806 - val_accuracy: 0.7038\n",
      "Epoch 4/10\n",
      "100/100 [==============================] - 1s 10ms/step - loss: 0.5890 - accuracy: 0.7763 - val_loss: 0.7800 - val_accuracy: 0.6963\n",
      "Epoch 5/10\n",
      "100/100 [==============================] - 1s 10ms/step - loss: 0.5072 - accuracy: 0.8203 - val_loss: 0.7859 - val_accuracy: 0.6963\n",
      "Epoch 6/10\n",
      "100/100 [==============================] - 1s 10ms/step - loss: 0.4346 - accuracy: 0.8594 - val_loss: 0.8069 - val_accuracy: 0.6800\n",
      "Epoch 7/10\n",
      "100/100 [==============================] - 1s 10ms/step - loss: 0.3729 - accuracy: 0.8869 - val_loss: 0.8309 - val_accuracy: 0.6875\n",
      "Epoch 8/10\n",
      "100/100 [==============================] - 1s 10ms/step - loss: 0.3215 - accuracy: 0.9062 - val_loss: 0.8668 - val_accuracy: 0.6888\n",
      "Epoch 9/10\n",
      "100/100 [==============================] - 1s 10ms/step - loss: 0.2773 - accuracy: 0.9197 - val_loss: 0.9037 - val_accuracy: 0.6700\n",
      "Epoch 10/10\n",
      "100/100 [==============================] - 1s 10ms/step - loss: 0.2424 - accuracy: 0.9275 - val_loss: 0.9402 - val_accuracy: 0.6787\n",
      "25/25 [==============================] - 0s 7ms/step - loss: 0.9402 - accuracy: 0.6787\n"
     ]
    },
    {
     "data": {
      "text/plain": [
       "0.6787499785423279"
      ]
     },
     "execution_count": 11,
     "metadata": {},
     "output_type": "execute_result"
    }
   ],
   "source": [
    "model = Sequential()\n",
    "model.add(Dense(128,input_dim=X_train.shape[1]))\n",
    "model.add(Dense(5,activation='softmax'))\n",
    "model.compile(loss='categorical_crossentropy',optimizer='rmsprop',metrics=['accuracy'])\n",
    "model.fit(X_train,y_train,validation_data=(X_test, y_test),epochs=10,batch_size=32,verbose=1)\n",
    "model.evaluate(X_test,y_test)[1]"
   ]
  }
 ],
 "metadata": {
  "kernelspec": {
   "display_name": "Python 3.10 (tensorflow)",
   "language": "python",
   "name": "tensorflow"
  },
  "language_info": {
   "codemirror_mode": {
    "name": "ipython",
    "version": 3
   },
   "file_extension": ".py",
   "mimetype": "text/x-python",
   "name": "python",
   "nbconvert_exporter": "python",
   "pygments_lexer": "ipython3",
   "version": "3.10.11"
  }
 },
 "nbformat": 4,
 "nbformat_minor": 5
}
