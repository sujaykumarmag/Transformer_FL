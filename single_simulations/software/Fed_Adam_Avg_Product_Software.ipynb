{
 "cells": [
  {
   "cell_type": "code",
   "execution_count": 1,
   "id": "c974149a",
   "metadata": {},
   "outputs": [],
   "source": [
    "import pandas as pd\n",
    "import numpy as np\n",
    "from keras.models import Sequential\n",
    "from keras.layers import LSTM, Dense, Embedding\n",
    "from sklearn.feature_extraction.text import TfidfVectorizer\n",
    "from sklearn.model_selection import train_test_split\n",
    "import tensorflow as tf\n",
    "from tensorflow.keras.datasets import mnist\n",
    "from tensorflow.keras.utils import to_categorical"
   ]
  },
  {
   "cell_type": "code",
   "execution_count": 2,
   "id": "b491ea98",
   "metadata": {},
   "outputs": [],
   "source": [
    "df = pd.read_csv(\"processed_data/final_pre-processed.csv\")"
   ]
  },
  {
   "cell_type": "code",
   "execution_count": 3,
   "id": "ed7af4aa",
   "metadata": {},
   "outputs": [],
   "source": [
    "df = df.drop('Unnamed: 0',axis=1)\n",
    "df[\"Ratings\"] = df[\"Ratings\"].astype(int)"
   ]
  },
  {
   "cell_type": "code",
   "execution_count": 4,
   "id": "7e40d72c",
   "metadata": {},
   "outputs": [
    {
     "data": {
      "text/plain": [
       "Ratings\n",
       "1    4534\n",
       "0     634\n",
       "Name: count, dtype: int64"
      ]
     },
     "execution_count": 4,
     "metadata": {},
     "output_type": "execute_result"
    }
   ],
   "source": [
    "df[\"Ratings\"].value_counts()"
   ]
  },
  {
   "cell_type": "code",
   "execution_count": 6,
   "id": "3d234f03",
   "metadata": {},
   "outputs": [
    {
     "data": {
      "text/plain": [
       "Ratings\n",
       "1    4534\n",
       "0     634\n",
       "Name: count, dtype: int64"
      ]
     },
     "execution_count": 6,
     "metadata": {},
     "output_type": "execute_result"
    }
   ],
   "source": [
    "df[\"Ratings\"].value_counts()"
   ]
  },
  {
   "cell_type": "code",
   "execution_count": 7,
   "id": "6c14ffb4",
   "metadata": {},
   "outputs": [],
   "source": [
    "text_vectorizer = TfidfVectorizer(max_df=.8)\n",
    "text_vectorizer.fit(df['reviewText'])\n",
    "def rate(r):\n",
    "    ary2 = []\n",
    "    for rating in r:\n",
    "        tv = [0,0]\n",
    "        tv[rating-1] = 1\n",
    "        ary2.append(tv)\n",
    "    return np.array(ary2)"
   ]
  },
  {
   "cell_type": "code",
   "execution_count": 8,
   "id": "d9c2b052",
   "metadata": {},
   "outputs": [],
   "source": [
    "X = text_vectorizer.transform(df['reviewText']).toarray()\n",
    "y = df['Ratings']\n",
    "X_train, X_test, y_train, y_test = train_test_split(X,y,test_size=.2)"
   ]
  },
  {
   "cell_type": "code",
   "execution_count": 9,
   "id": "c025a023",
   "metadata": {},
   "outputs": [],
   "source": [
    "NUM_ROUNDS = 10\n",
    "NUM_CLIENTS = 10\n",
    "BATCH_SIZE = 256\n",
    "EPOCHS_PER_ROUND = 10\n",
    "LEARNING_RATE = 0.1\n",
    "BETA_1 = 0.9\n",
    "BETA_2 = 0.999\n",
    "EPSILON = 1e-7"
   ]
  },
  {
   "cell_type": "code",
   "execution_count": 10,
   "id": "fc2ed740",
   "metadata": {},
   "outputs": [],
   "source": [
    "global_model = Sequential()\n",
    "global_model.add(Dense(128,input_dim=X_train.shape[1]))\n",
    "global_model.add(Dense(1,activation='softmax'))"
   ]
  },
  {
   "cell_type": "code",
   "execution_count": 11,
   "id": "5e63bbc7",
   "metadata": {},
   "outputs": [
    {
     "data": {
      "image/png": "[encoded data removed]",
      "text/plain": [
       "<IPython.core.display.Image object>"
      ]
     },
     "execution_count": 11,
     "metadata": {},
     "output_type": "execute_result"
    }
   ],
   "source": [
    "import visualkeras\n",
    "\n",
    "model = global_model\n",
    "\n",
    "from tensorflow.keras.utils import plot_model\n",
    "\n",
    "# Assuming `model` is your Keras modelz\n",
    "plot_model(model, to_file='model_plot.png', show_shapes=True, show_layer_names=True)\n"
   ]
  },
  {
   "cell_type": "code",
   "execution_count": 12,
   "id": "44bb0b2e",
   "metadata": {},
   "outputs": [],
   "source": [
    "global_model.compile(loss='binary_crossentropy',optimizer='adam',metrics=['accuracy'])"
   ]
  },
  {
   "cell_type": "code",
   "execution_count": 13,
   "id": "fcbdd17b",
   "metadata": {},
   "outputs": [
    {
     "name": "stderr",
     "output_type": "stream",
     "text": [
      "WARNING:absl:At this time, the v2.11+ optimizer `tf.keras.optimizers.Adam` runs slowly on M1/M2 Macs, please use the legacy Keras optimizer instead, located at `tf.keras.optimizers.legacy.Adam`.\n"
     ]
    }
   ],
   "source": [
    "# SERVER ADAM OPTIMIZER \n",
    "fedadam = tf.optimizers.Adam(learning_rate=LEARNING_RATE,beta_1=BETA_1,beta_2 = BETA_2,epsilon=EPSILON)"
   ]
  },
  {
   "cell_type": "code",
   "execution_count": 14,
   "id": "c171550a",
   "metadata": {},
   "outputs": [],
   "source": [
    "# # Train the Normal model\n",
    "# model = global_model\n",
    "# model.compile(optimizer=fedadam, loss='categorical_crossentropy',metrics=['accuracy'])\n",
    "# model.fit(X_train,y_train,epochs=5,batch_size=20)\n",
    "\n",
    "# acc = model.evaluate(X_test,y_test)\n",
    "# print(acc)"
   ]
  },
  {
   "cell_type": "code",
   "execution_count": 15,
   "id": "254688c9",
   "metadata": {},
   "outputs": [
    {
     "name": "stderr",
     "output_type": "stream",
     "text": [
      "/Users/sujaykumar/miniconda3/envs/tensorflow/lib/python3.10/site-packages/numpy/core/fromnumeric.py:57: FutureWarning: 'Series.swapaxes' is deprecated and will be removed in a future version. Please use 'Series.transpose' instead.\n",
      "  return bound(*args, **kwds)\n"
     ]
    }
   ],
   "source": [
    "x_train_clients = np.array_split(X_train,NUM_CLIENTS)\n",
    "y_train_clients = np.array_split(y_train,NUM_CLIENTS)\n",
    "\n",
    "x_test_clients = np.array_split(X_test,NUM_CLIENTS)\n",
    "y_test_clients = np.array_split(y_test,NUM_CLIENTS)"
   ]
  },
  {
   "cell_type": "code",
   "execution_count": 16,
   "id": "d0cc9ee5",
   "metadata": {},
   "outputs": [
    {
     "name": "stdout",
     "output_type": "stream",
     "text": [
      "Epoch 1/10\n",
      "13/13 [==============================] - 1s 33ms/step - loss: 0.5928 - accuracy: 0.8720\n",
      "Epoch 2/10\n",
      "13/13 [==============================] - 0s 12ms/step - loss: 0.4233 - accuracy: 0.8720\n",
      "Epoch 3/10\n",
      "13/13 [==============================] - 0s 11ms/step - loss: 0.3444 - accuracy: 0.8720\n",
      "Epoch 4/10\n",
      "13/13 [==============================] - 0s 11ms/step - loss: 0.2945 - accuracy: 0.8720\n",
      "Epoch 5/10\n",
      "13/13 [==============================] - 0s 19ms/step - loss: 0.2472 - accuracy: 0.8720\n",
      "Epoch 6/10\n",
      "13/13 [==============================] - 0s 18ms/step - loss: 0.2045 - accuracy: 0.8720\n",
      "Epoch 7/10\n",
      "13/13 [==============================] - 0s 15ms/step - loss: 0.1671 - accuracy: 0.8720\n",
      "Epoch 8/10\n",
      "13/13 [==============================] - 0s 15ms/step - loss: 0.1364 - accuracy: 0.8720\n",
      "Epoch 9/10\n",
      "13/13 [==============================] - 0s 13ms/step - loss: 0.1111 - accuracy: 0.8720\n",
      "Epoch 10/10\n",
      "13/13 [==============================] - 0s 15ms/step - loss: 0.0918 - accuracy: 0.8720\n",
      "4/4 [==============================] - 1s 111ms/step - loss: 0.3338 - accuracy: 0.8654\n",
      "4/4 [==============================] - 0s 6ms/step\n",
      "Epoch 1/10\n"
     ]
    },
    {
     "name": "stderr",
     "output_type": "stream",
     "text": [
      "/Users/sujaykumar/miniconda3/envs/tensorflow/lib/python3.10/site-packages/sklearn/metrics/_classification.py:1471: UndefinedMetricWarning: Precision and F-score are ill-defined and being set to 0.0 in labels with no predicted samples. Use `zero_division` parameter to control this behavior.\n",
      "  _warn_prf(average, modifier, msg_start, len(result))\n",
      "/Users/sujaykumar/miniconda3/envs/tensorflow/lib/python3.10/site-packages/sklearn/metrics/_classification.py:1471: UndefinedMetricWarning: Precision and F-score are ill-defined and being set to 0.0 in labels with no predicted samples. Use `zero_division` parameter to control this behavior.\n",
      "  _warn_prf(average, modifier, msg_start, len(result))\n",
      "/Users/sujaykumar/miniconda3/envs/tensorflow/lib/python3.10/site-packages/sklearn/metrics/_classification.py:1471: UndefinedMetricWarning: Precision and F-score are ill-defined and being set to 0.0 in labels with no predicted samples. Use `zero_division` parameter to control this behavior.\n",
      "  _warn_prf(average, modifier, msg_start, len(result))\n"
     ]
    },
    {
     "name": "stdout",
     "output_type": "stream",
     "text": [
      "13/13 [==============================] - 1s 20ms/step - loss: 0.5945 - accuracy: 0.8889\n",
      "Epoch 2/10\n",
      "13/13 [==============================] - 0s 12ms/step - loss: 0.4125 - accuracy: 0.8889\n",
      "Epoch 3/10\n",
      "13/13 [==============================] - 0s 12ms/step - loss: 0.3239 - accuracy: 0.8889\n",
      "Epoch 4/10\n",
      "13/13 [==============================] - 0s 11ms/step - loss: 0.2734 - accuracy: 0.8889\n",
      "Epoch 5/10\n",
      "13/13 [==============================] - 0s 11ms/step - loss: 0.2294 - accuracy: 0.8889\n",
      "Epoch 6/10\n",
      "13/13 [==============================] - 0s 13ms/step - loss: 0.1852 - accuracy: 0.8889\n",
      "Epoch 7/10\n",
      "13/13 [==============================] - 0s 16ms/step - loss: 0.1502 - accuracy: 0.8889\n",
      "Epoch 8/10\n",
      "13/13 [==============================] - 0s 12ms/step - loss: 0.1201 - accuracy: 0.8889\n",
      "Epoch 9/10\n",
      "13/13 [==============================] - 0s 12ms/step - loss: 0.0955 - accuracy: 0.8889\n",
      "Epoch 10/10\n",
      "13/13 [==============================] - 0s 11ms/step - loss: 0.0769 - accuracy: 0.8889\n",
      "4/4 [==============================] - 0s 27ms/step - loss: 0.2832 - accuracy: 0.8942\n",
      "4/4 [==============================] - 0s 4ms/step\n",
      "Epoch 1/10\n"
     ]
    },
    {
     "name": "stderr",
     "output_type": "stream",
     "text": [
      "/Users/sujaykumar/miniconda3/envs/tensorflow/lib/python3.10/site-packages/sklearn/metrics/_classification.py:1471: UndefinedMetricWarning: Precision and F-score are ill-defined and being set to 0.0 in labels with no predicted samples. Use `zero_division` parameter to control this behavior.\n",
      "  _warn_prf(average, modifier, msg_start, len(result))\n",
      "/Users/sujaykumar/miniconda3/envs/tensorflow/lib/python3.10/site-packages/sklearn/metrics/_classification.py:1471: UndefinedMetricWarning: Precision and F-score are ill-defined and being set to 0.0 in labels with no predicted samples. Use `zero_division` parameter to control this behavior.\n",
      "  _warn_prf(average, modifier, msg_start, len(result))\n",
      "/Users/sujaykumar/miniconda3/envs/tensorflow/lib/python3.10/site-packages/sklearn/metrics/_classification.py:1471: UndefinedMetricWarning: Precision and F-score are ill-defined and being set to 0.0 in labels with no predicted samples. Use `zero_division` parameter to control this behavior.\n",
      "  _warn_prf(average, modifier, msg_start, len(result))\n"
     ]
    },
    {
     "name": "stdout",
     "output_type": "stream",
     "text": [
      "13/13 [==============================] - 1s 23ms/step - loss: 0.5908 - accuracy: 0.8937\n",
      "Epoch 2/10\n",
      "13/13 [==============================] - 0s 12ms/step - loss: 0.4034 - accuracy: 0.8937\n",
      "Epoch 3/10\n",
      "13/13 [==============================] - 0s 12ms/step - loss: 0.3175 - accuracy: 0.8937\n",
      "Epoch 4/10\n",
      "13/13 [==============================] - 0s 12ms/step - loss: 0.2690 - accuracy: 0.8937\n",
      "Epoch 5/10\n",
      "13/13 [==============================] - 0s 12ms/step - loss: 0.2299 - accuracy: 0.8937\n",
      "Epoch 6/10\n",
      "13/13 [==============================] - 0s 19ms/step - loss: 0.1949 - accuracy: 0.8937\n",
      "Epoch 7/10\n",
      "13/13 [==============================] - 0s 12ms/step - loss: 0.1631 - accuracy: 0.8937\n",
      "Epoch 8/10\n",
      "13/13 [==============================] - 0s 11ms/step - loss: 0.1331 - accuracy: 0.8937\n",
      "Epoch 9/10\n",
      "13/13 [==============================] - 0s 12ms/step - loss: 0.1098 - accuracy: 0.8937\n",
      "Epoch 10/10\n",
      "13/13 [==============================] - 0s 12ms/step - loss: 0.0910 - accuracy: 0.8937\n",
      "4/4 [==============================] - 0s 28ms/step - loss: 0.2343 - accuracy: 0.9038\n",
      "4/4 [==============================] - 0s 4ms/step\n",
      "Epoch 1/10\n"
     ]
    },
    {
     "name": "stderr",
     "output_type": "stream",
     "text": [
      "/Users/sujaykumar/miniconda3/envs/tensorflow/lib/python3.10/site-packages/sklearn/metrics/_classification.py:1471: UndefinedMetricWarning: Precision and F-score are ill-defined and being set to 0.0 in labels with no predicted samples. Use `zero_division` parameter to control this behavior.\n",
      "  _warn_prf(average, modifier, msg_start, len(result))\n",
      "/Users/sujaykumar/miniconda3/envs/tensorflow/lib/python3.10/site-packages/sklearn/metrics/_classification.py:1471: UndefinedMetricWarning: Precision and F-score are ill-defined and being set to 0.0 in labels with no predicted samples. Use `zero_division` parameter to control this behavior.\n",
      "  _warn_prf(average, modifier, msg_start, len(result))\n",
      "/Users/sujaykumar/miniconda3/envs/tensorflow/lib/python3.10/site-packages/sklearn/metrics/_classification.py:1471: UndefinedMetricWarning: Precision and F-score are ill-defined and being set to 0.0 in labels with no predicted samples. Use `zero_division` parameter to control this behavior.\n",
      "  _warn_prf(average, modifier, msg_start, len(result))\n"
     ]
    },
    {
     "name": "stdout",
     "output_type": "stream",
     "text": [
      "13/13 [==============================] - 1s 23ms/step - loss: 0.6029 - accuracy: 0.8744\n",
      "Epoch 2/10\n",
      "13/13 [==============================] - 0s 13ms/step - loss: 0.4305 - accuracy: 0.8744\n",
      "Epoch 3/10\n",
      "13/13 [==============================] - 0s 13ms/step - loss: 0.3465 - accuracy: 0.8744\n",
      "Epoch 4/10\n",
      "13/13 [==============================] - 0s 13ms/step - loss: 0.2955 - accuracy: 0.8744\n",
      "Epoch 5/10\n",
      "13/13 [==============================] - 0s 12ms/step - loss: 0.2503 - accuracy: 0.8744\n",
      "Epoch 6/10\n",
      "13/13 [==============================] - 0s 15ms/step - loss: 0.2063 - accuracy: 0.8744\n",
      "Epoch 7/10\n",
      "13/13 [==============================] - 0s 12ms/step - loss: 0.1706 - accuracy: 0.8744\n",
      "Epoch 8/10\n",
      "13/13 [==============================] - 0s 12ms/step - loss: 0.1372 - accuracy: 0.8744\n",
      "Epoch 9/10\n",
      "13/13 [==============================] - 0s 12ms/step - loss: 0.1117 - accuracy: 0.8744\n",
      "Epoch 10/10\n",
      "13/13 [==============================] - 0s 11ms/step - loss: 0.0922 - accuracy: 0.8744\n",
      "4/4 [==============================] - 0s 43ms/step - loss: 0.3603 - accuracy: 0.8654\n",
      "4/4 [==============================] - 0s 10ms/step\n",
      "Epoch 1/10\n"
     ]
    },
    {
     "name": "stderr",
     "output_type": "stream",
     "text": [
      "/Users/sujaykumar/miniconda3/envs/tensorflow/lib/python3.10/site-packages/sklearn/metrics/_classification.py:1471: UndefinedMetricWarning: Precision and F-score are ill-defined and being set to 0.0 in labels with no predicted samples. Use `zero_division` parameter to control this behavior.\n",
      "  _warn_prf(average, modifier, msg_start, len(result))\n",
      "/Users/sujaykumar/miniconda3/envs/tensorflow/lib/python3.10/site-packages/sklearn/metrics/_classification.py:1471: UndefinedMetricWarning: Precision and F-score are ill-defined and being set to 0.0 in labels with no predicted samples. Use `zero_division` parameter to control this behavior.\n",
      "  _warn_prf(average, modifier, msg_start, len(result))\n",
      "/Users/sujaykumar/miniconda3/envs/tensorflow/lib/python3.10/site-packages/sklearn/metrics/_classification.py:1471: UndefinedMetricWarning: Precision and F-score are ill-defined and being set to 0.0 in labels with no predicted samples. Use `zero_division` parameter to control this behavior.\n",
      "  _warn_prf(average, modifier, msg_start, len(result))\n"
     ]
    },
    {
     "name": "stdout",
     "output_type": "stream",
     "text": [
      "13/13 [==============================] - 1s 27ms/step - loss: 0.5949 - accuracy: 0.8814\n",
      "Epoch 2/10\n",
      "13/13 [==============================] - 0s 13ms/step - loss: 0.4177 - accuracy: 0.8814\n",
      "Epoch 3/10\n",
      "13/13 [==============================] - 0s 14ms/step - loss: 0.3346 - accuracy: 0.8814\n",
      "Epoch 4/10\n",
      "13/13 [==============================] - 0s 13ms/step - loss: 0.2875 - accuracy: 0.8814\n",
      "Epoch 5/10\n",
      "13/13 [==============================] - 0s 12ms/step - loss: 0.2449 - accuracy: 0.8814\n",
      "Epoch 6/10\n",
      "13/13 [==============================] - 0s 12ms/step - loss: 0.2072 - accuracy: 0.8814\n",
      "Epoch 7/10\n",
      "13/13 [==============================] - 0s 12ms/step - loss: 0.1666 - accuracy: 0.8814\n",
      "Epoch 8/10\n",
      "13/13 [==============================] - 0s 17ms/step - loss: 0.1356 - accuracy: 0.8814\n",
      "Epoch 9/10\n",
      "13/13 [==============================] - 0s 13ms/step - loss: 0.1103 - accuracy: 0.8814\n",
      "Epoch 10/10\n",
      "13/13 [==============================] - 0s 12ms/step - loss: 0.0891 - accuracy: 0.8814\n",
      "4/4 [==============================] - 1s 128ms/step - loss: 0.3739 - accuracy: 0.8447\n",
      "4/4 [==============================] - 0s 9ms/step\n",
      "Epoch 1/10\n"
     ]
    },
    {
     "name": "stderr",
     "output_type": "stream",
     "text": [
      "/Users/sujaykumar/miniconda3/envs/tensorflow/lib/python3.10/site-packages/sklearn/metrics/_classification.py:1471: UndefinedMetricWarning: Precision and F-score are ill-defined and being set to 0.0 in labels with no predicted samples. Use `zero_division` parameter to control this behavior.\n",
      "  _warn_prf(average, modifier, msg_start, len(result))\n",
      "/Users/sujaykumar/miniconda3/envs/tensorflow/lib/python3.10/site-packages/sklearn/metrics/_classification.py:1471: UndefinedMetricWarning: Precision and F-score are ill-defined and being set to 0.0 in labels with no predicted samples. Use `zero_division` parameter to control this behavior.\n",
      "  _warn_prf(average, modifier, msg_start, len(result))\n",
      "/Users/sujaykumar/miniconda3/envs/tensorflow/lib/python3.10/site-packages/sklearn/metrics/_classification.py:1471: UndefinedMetricWarning: Precision and F-score are ill-defined and being set to 0.0 in labels with no predicted samples. Use `zero_division` parameter to control this behavior.\n",
      "  _warn_prf(average, modifier, msg_start, len(result))\n"
     ]
    },
    {
     "name": "stdout",
     "output_type": "stream",
     "text": [
      "13/13 [==============================] - 1s 34ms/step - loss: 0.5847 - accuracy: 0.8765\n",
      "Epoch 2/10\n",
      "13/13 [==============================] - 0s 15ms/step - loss: 0.4102 - accuracy: 0.8765\n",
      "Epoch 3/10\n",
      "13/13 [==============================] - 0s 13ms/step - loss: 0.3336 - accuracy: 0.8765\n",
      "Epoch 4/10\n",
      "13/13 [==============================] - 0s 13ms/step - loss: 0.2879 - accuracy: 0.8765\n",
      "Epoch 5/10\n",
      "13/13 [==============================] - 0s 12ms/step - loss: 0.2446 - accuracy: 0.8765\n",
      "Epoch 6/10\n",
      "13/13 [==============================] - 0s 12ms/step - loss: 0.2033 - accuracy: 0.8765\n",
      "Epoch 7/10\n",
      "13/13 [==============================] - 0s 12ms/step - loss: 0.1681 - accuracy: 0.8765\n",
      "Epoch 8/10\n",
      "13/13 [==============================] - 0s 13ms/step - loss: 0.1395 - accuracy: 0.8765\n",
      "Epoch 9/10\n",
      "13/13 [==============================] - 0s 12ms/step - loss: 0.1133 - accuracy: 0.8765\n",
      "Epoch 10/10\n",
      "13/13 [==============================] - 0s 12ms/step - loss: 0.0945 - accuracy: 0.8765\n",
      "4/4 [==============================] - 0s 36ms/step - loss: 0.3216 - accuracy: 0.8835\n",
      "4/4 [==============================] - 0s 8ms/step\n"
     ]
    },
    {
     "name": "stderr",
     "output_type": "stream",
     "text": [
      "/Users/sujaykumar/miniconda3/envs/tensorflow/lib/python3.10/site-packages/sklearn/metrics/_classification.py:1471: UndefinedMetricWarning: Precision and F-score are ill-defined and being set to 0.0 in labels with no predicted samples. Use `zero_division` parameter to control this behavior.\n",
      "  _warn_prf(average, modifier, msg_start, len(result))\n",
      "/Users/sujaykumar/miniconda3/envs/tensorflow/lib/python3.10/site-packages/sklearn/metrics/_classification.py:1471: UndefinedMetricWarning: Precision and F-score are ill-defined and being set to 0.0 in labels with no predicted samples. Use `zero_division` parameter to control this behavior.\n",
      "  _warn_prf(average, modifier, msg_start, len(result))\n",
      "/Users/sujaykumar/miniconda3/envs/tensorflow/lib/python3.10/site-packages/sklearn/metrics/_classification.py:1471: UndefinedMetricWarning: Precision and F-score are ill-defined and being set to 0.0 in labels with no predicted samples. Use `zero_division` parameter to control this behavior.\n",
      "  _warn_prf(average, modifier, msg_start, len(result))\n"
     ]
    },
    {
     "name": "stdout",
     "output_type": "stream",
     "text": [
      "Epoch 1/10\n",
      "13/13 [==============================] - 1s 29ms/step - loss: 0.6077 - accuracy: 0.8571\n",
      "Epoch 2/10\n",
      "13/13 [==============================] - 0s 15ms/step - loss: 0.4452 - accuracy: 0.8571\n",
      "Epoch 3/10\n",
      "13/13 [==============================] - 0s 16ms/step - loss: 0.3659 - accuracy: 0.8571\n",
      "Epoch 4/10\n",
      "13/13 [==============================] - 0s 15ms/step - loss: 0.3202 - accuracy: 0.8571\n",
      "Epoch 5/10\n",
      "13/13 [==============================] - 0s 14ms/step - loss: 0.2753 - accuracy: 0.8571\n",
      "Epoch 6/10\n",
      "13/13 [==============================] - 0s 15ms/step - loss: 0.2289 - accuracy: 0.8571\n",
      "Epoch 7/10\n",
      "13/13 [==============================] - 0s 20ms/step - loss: 0.1904 - accuracy: 0.8571\n",
      "Epoch 8/10\n",
      "13/13 [==============================] - 0s 15ms/step - loss: 0.1517 - accuracy: 0.8571\n",
      "Epoch 9/10\n",
      "13/13 [==============================] - 0s 15ms/step - loss: 0.1224 - accuracy: 0.8571\n",
      "Epoch 10/10\n",
      "13/13 [==============================] - 0s 14ms/step - loss: 0.0994 - accuracy: 0.8571\n",
      "4/4 [==============================] - 0s 44ms/step - loss: 0.3096 - accuracy: 0.8738\n",
      "4/4 [==============================] - 0s 6ms/step\n",
      "Epoch 1/10\n"
     ]
    },
    {
     "name": "stderr",
     "output_type": "stream",
     "text": [
      "/Users/sujaykumar/miniconda3/envs/tensorflow/lib/python3.10/site-packages/sklearn/metrics/_classification.py:1471: UndefinedMetricWarning: Precision and F-score are ill-defined and being set to 0.0 in labels with no predicted samples. Use `zero_division` parameter to control this behavior.\n",
      "  _warn_prf(average, modifier, msg_start, len(result))\n",
      "/Users/sujaykumar/miniconda3/envs/tensorflow/lib/python3.10/site-packages/sklearn/metrics/_classification.py:1471: UndefinedMetricWarning: Precision and F-score are ill-defined and being set to 0.0 in labels with no predicted samples. Use `zero_division` parameter to control this behavior.\n",
      "  _warn_prf(average, modifier, msg_start, len(result))\n",
      "/Users/sujaykumar/miniconda3/envs/tensorflow/lib/python3.10/site-packages/sklearn/metrics/_classification.py:1471: UndefinedMetricWarning: Precision and F-score are ill-defined and being set to 0.0 in labels with no predicted samples. Use `zero_division` parameter to control this behavior.\n",
      "  _warn_prf(average, modifier, msg_start, len(result))\n"
     ]
    },
    {
     "name": "stdout",
     "output_type": "stream",
     "text": [
      "13/13 [==============================] - 1s 49ms/step - loss: 0.5914 - accuracy: 0.8862\n",
      "Epoch 2/10\n",
      "13/13 [==============================] - 0s 19ms/step - loss: 0.4109 - accuracy: 0.8862\n",
      "Epoch 3/10\n",
      "13/13 [==============================] - 0s 31ms/step - loss: 0.3265 - accuracy: 0.8862\n",
      "Epoch 4/10\n",
      "13/13 [==============================] - 0s 19ms/step - loss: 0.2798 - accuracy: 0.8862\n",
      "Epoch 5/10\n",
      "13/13 [==============================] - 0s 16ms/step - loss: 0.2404 - accuracy: 0.8862\n",
      "Epoch 6/10\n",
      "13/13 [==============================] - 0s 14ms/step - loss: 0.1999 - accuracy: 0.8862\n",
      "Epoch 7/10\n",
      "13/13 [==============================] - 0s 13ms/step - loss: 0.1646 - accuracy: 0.8862\n",
      "Epoch 8/10\n",
      "13/13 [==============================] - 0s 14ms/step - loss: 0.1355 - accuracy: 0.8862\n",
      "Epoch 9/10\n",
      "13/13 [==============================] - 0s 22ms/step - loss: 0.1135 - accuracy: 0.8862\n",
      "Epoch 10/10\n",
      "13/13 [==============================] - 0s 24ms/step - loss: 0.0943 - accuracy: 0.8862\n",
      "4/4 [==============================] - 0s 53ms/step - loss: 0.2926 - accuracy: 0.9029\n",
      "4/4 [==============================] - 0s 7ms/step\n",
      "Epoch 1/10\n"
     ]
    },
    {
     "name": "stderr",
     "output_type": "stream",
     "text": [
      "/Users/sujaykumar/miniconda3/envs/tensorflow/lib/python3.10/site-packages/sklearn/metrics/_classification.py:1471: UndefinedMetricWarning: Precision and F-score are ill-defined and being set to 0.0 in labels with no predicted samples. Use `zero_division` parameter to control this behavior.\n",
      "  _warn_prf(average, modifier, msg_start, len(result))\n",
      "/Users/sujaykumar/miniconda3/envs/tensorflow/lib/python3.10/site-packages/sklearn/metrics/_classification.py:1471: UndefinedMetricWarning: Precision and F-score are ill-defined and being set to 0.0 in labels with no predicted samples. Use `zero_division` parameter to control this behavior.\n",
      "  _warn_prf(average, modifier, msg_start, len(result))\n",
      "/Users/sujaykumar/miniconda3/envs/tensorflow/lib/python3.10/site-packages/sklearn/metrics/_classification.py:1471: UndefinedMetricWarning: Precision and F-score are ill-defined and being set to 0.0 in labels with no predicted samples. Use `zero_division` parameter to control this behavior.\n",
      "  _warn_prf(average, modifier, msg_start, len(result))\n"
     ]
    },
    {
     "name": "stdout",
     "output_type": "stream",
     "text": [
      "13/13 [==============================] - 1s 40ms/step - loss: 0.6029 - accuracy: 0.8644\n",
      "Epoch 2/10\n",
      "13/13 [==============================] - 0s 16ms/step - loss: 0.4317 - accuracy: 0.8644\n",
      "Epoch 3/10\n",
      "13/13 [==============================] - 0s 14ms/step - loss: 0.3520 - accuracy: 0.8644\n",
      "Epoch 4/10\n",
      "13/13 [==============================] - 0s 18ms/step - loss: 0.2983 - accuracy: 0.8644\n",
      "Epoch 5/10\n",
      "13/13 [==============================] - 0s 14ms/step - loss: 0.2500 - accuracy: 0.8644\n",
      "Epoch 6/10\n",
      "13/13 [==============================] - 0s 14ms/step - loss: 0.2032 - accuracy: 0.8644\n",
      "Epoch 7/10\n",
      "13/13 [==============================] - 0s 13ms/step - loss: 0.1655 - accuracy: 0.8644\n",
      "Epoch 8/10\n",
      "13/13 [==============================] - 0s 14ms/step - loss: 0.1338 - accuracy: 0.8644\n",
      "Epoch 9/10\n",
      "13/13 [==============================] - 0s 13ms/step - loss: 0.1089 - accuracy: 0.8644\n",
      "Epoch 10/10\n",
      "13/13 [==============================] - 0s 13ms/step - loss: 0.0892 - accuracy: 0.8644\n",
      "4/4 [==============================] - 1s 69ms/step - loss: 0.3607 - accuracy: 0.8447\n",
      "4/4 [==============================] - 0s 11ms/step\n"
     ]
    },
    {
     "name": "stderr",
     "output_type": "stream",
     "text": [
      "/Users/sujaykumar/miniconda3/envs/tensorflow/lib/python3.10/site-packages/sklearn/metrics/_classification.py:1471: UndefinedMetricWarning: Precision and F-score are ill-defined and being set to 0.0 in labels with no predicted samples. Use `zero_division` parameter to control this behavior.\n",
      "  _warn_prf(average, modifier, msg_start, len(result))\n",
      "/Users/sujaykumar/miniconda3/envs/tensorflow/lib/python3.10/site-packages/sklearn/metrics/_classification.py:1471: UndefinedMetricWarning: Precision and F-score are ill-defined and being set to 0.0 in labels with no predicted samples. Use `zero_division` parameter to control this behavior.\n",
      "  _warn_prf(average, modifier, msg_start, len(result))\n",
      "/Users/sujaykumar/miniconda3/envs/tensorflow/lib/python3.10/site-packages/sklearn/metrics/_classification.py:1471: UndefinedMetricWarning: Precision and F-score are ill-defined and being set to 0.0 in labels with no predicted samples. Use `zero_division` parameter to control this behavior.\n",
      "  _warn_prf(average, modifier, msg_start, len(result))\n"
     ]
    },
    {
     "name": "stdout",
     "output_type": "stream",
     "text": [
      "Epoch 1/10\n",
      "13/13 [==============================] - 2s 28ms/step - loss: 0.5875 - accuracy: 0.8765\n",
      "Epoch 2/10\n",
      "13/13 [==============================] - 0s 15ms/step - loss: 0.4100 - accuracy: 0.8765\n",
      "Epoch 3/10\n",
      "13/13 [==============================] - 0s 12ms/step - loss: 0.3320 - accuracy: 0.8765\n",
      "Epoch 4/10\n",
      "13/13 [==============================] - 0s 13ms/step - loss: 0.2859 - accuracy: 0.8765\n",
      "Epoch 5/10\n",
      "13/13 [==============================] - 0s 11ms/step - loss: 0.2421 - accuracy: 0.8765\n",
      "Epoch 6/10\n",
      "13/13 [==============================] - 0s 10ms/step - loss: 0.1986 - accuracy: 0.8765\n",
      "Epoch 7/10\n",
      "13/13 [==============================] - 0s 9ms/step - loss: 0.1600 - accuracy: 0.8765\n",
      "Epoch 8/10\n",
      "13/13 [==============================] - 0s 10ms/step - loss: 0.1302 - accuracy: 0.8765\n",
      "Epoch 9/10\n",
      "13/13 [==============================] - 0s 16ms/step - loss: 0.1056 - accuracy: 0.8765\n",
      "Epoch 10/10\n",
      "13/13 [==============================] - 0s 10ms/step - loss: 0.0862 - accuracy: 0.8765\n",
      "4/4 [==============================] - 0s 33ms/step - loss: 0.2822 - accuracy: 0.9029\n",
      "4/4 [==============================] - 0s 9ms/step\n"
     ]
    },
    {
     "name": "stderr",
     "output_type": "stream",
     "text": [
      "/Users/sujaykumar/miniconda3/envs/tensorflow/lib/python3.10/site-packages/sklearn/metrics/_classification.py:1471: UndefinedMetricWarning: Precision and F-score are ill-defined and being set to 0.0 in labels with no predicted samples. Use `zero_division` parameter to control this behavior.\n",
      "  _warn_prf(average, modifier, msg_start, len(result))\n",
      "/Users/sujaykumar/miniconda3/envs/tensorflow/lib/python3.10/site-packages/sklearn/metrics/_classification.py:1471: UndefinedMetricWarning: Precision and F-score are ill-defined and being set to 0.0 in labels with no predicted samples. Use `zero_division` parameter to control this behavior.\n",
      "  _warn_prf(average, modifier, msg_start, len(result))\n",
      "/Users/sujaykumar/miniconda3/envs/tensorflow/lib/python3.10/site-packages/sklearn/metrics/_classification.py:1471: UndefinedMetricWarning: Precision and F-score are ill-defined and being set to 0.0 in labels with no predicted samples. Use `zero_division` parameter to control this behavior.\n",
      "  _warn_prf(average, modifier, msg_start, len(result))\n"
     ]
    }
   ],
   "source": [
    "from sklearn.metrics import classification_report\n",
    "import keras \n",
    "\n",
    "client_models = []\n",
    "client_losses = []\n",
    "client_train_losses = []\n",
    "client_classification = []\n",
    "client_acc = []\n",
    "global_maes = []\n",
    "\n",
    "client_models = []\n",
    "for i in range(NUM_CLIENTS):\n",
    "    local_model = Sequential()\n",
    "    local_model.add(Dense(128,input_dim=X_train.shape[1]))\n",
    "    local_model.add(Dense(1,activation='softmax'))\n",
    "    local_model.compile(optimizer='adam', loss='binary_crossentropy',metrics=['accuracy'])\n",
    "    # Initialize an empty list to store the training loss\n",
    "    training_losses = []\n",
    "\n",
    "    # Define a custom callback to capture training loss\n",
    "    class LossHistory(keras.callbacks.Callback):\n",
    "        def on_epoch_end(self, epoch, logs=None):\n",
    "            training_losses.append(logs['loss'])\n",
    "\n",
    "    #  Fit the model with the training data and capture the training loss\n",
    "    history_callback = local_model.fit(x_train_clients[i],y_train_clients[i], epochs=EPOCHS_PER_ROUND, callbacks=[LossHistory()])\n",
    "\n",
    "    local_model.fit(x_train_clients[i],y_train_clients[i],epochs=EPOCHS_PER_ROUND, batch_size=BATCH_SIZE,verbose=0)\n",
    "    acc = local_model.evaluate(x_test_clients[i],y_test_clients[i])\n",
    "    preds = local_model.predict(x_test_clients[i])\n",
    "    c2 = classification_report(y_test_clients[i],preds)\n",
    "    client_models.append(local_model)\n",
    "    client_train_losses.append(training_losses)\n",
    "    client_acc.append(acc[1])\n",
    "    client_classification.append(c2)\n",
    "    client_models.append(local_model)"
   ]
  },
  {
   "cell_type": "code",
   "execution_count": 17,
   "id": "af09b606",
   "metadata": {},
   "outputs": [],
   "source": [
    "data = [client_acc, client_train_losses, client_classification]\n",
    "data = list(map(list, zip(*data)))\n",
    "column_names = ['Accuracy', 'Train Losses', 'Classification']\n",
    "df1 = pd.DataFrame(data, columns=column_names)\n",
    "df1.to_csv('results.csv')"
   ]
  },
  {
   "cell_type": "code",
   "execution_count": 18,
   "id": "baf30c53",
   "metadata": {},
   "outputs": [],
   "source": [
    "global_model = Sequential()\n",
    "global_model.add(Dense(128,input_dim=X_train.shape[1]))\n",
    "global_model.add(Dense(1,activation='softmax'))"
   ]
  },
  {
   "cell_type": "code",
   "execution_count": 19,
   "id": "926b2afc",
   "metadata": {},
   "outputs": [],
   "source": [
    "global_model.compile(loss='categorical_crossentropy',optimizer='adam',metrics=['accuracy'])"
   ]
  },
  {
   "cell_type": "code",
   "execution_count": 20,
   "id": "d594d49b",
   "metadata": {},
   "outputs": [
    {
     "name": "stderr",
     "output_type": "stream",
     "text": [
      "/Users/sujaykumar/miniconda3/envs/tensorflow/lib/python3.10/site-packages/tensorflow/python/util/dispatch.py:1260: SyntaxWarning: In loss categorical_crossentropy, expected y_pred.shape to be (batch_size, num_classes) with num_classes > 1. Received: y_pred.shape=(None, 1). Consider using 'binary_crossentropy' if you only have 2 classes.\n",
      "  return dispatch_target(*args, **kwargs)\n"
     ]
    },
    {
     "name": "stdout",
     "output_type": "stream",
     "text": [
      "33/33 [==============================] - 1s 18ms/step - loss: 0.0000e+00 - accuracy: 0.8781\n",
      "[0.0, 0.8781431317329407]\n"
     ]
    }
   ],
   "source": [
    "acc = global_model.evaluate(X_test,y_test)\n",
    "print(acc)"
   ]
  },
  {
   "cell_type": "code",
   "execution_count": 21,
   "id": "5376ff6e",
   "metadata": {},
   "outputs": [],
   "source": [
    "# Performing Federated Averaging\n",
    "weights = global_model.get_weights()\n",
    "for i in range(len(weights)):\n",
    "    for j in range(NUM_CLIENTS):\n",
    "        client_weights = client_models[j].get_weights()\n",
    "        weights[i] += client_weights[i]/NUM_CLIENTS\n",
    "\n",
    "global_model.set_weights(weights)"
   ]
  },
  {
   "cell_type": "code",
   "execution_count": 22,
   "id": "b9aa3ce5",
   "metadata": {},
   "outputs": [
    {
     "name": "stdout",
     "output_type": "stream",
     "text": [
      "33/33 [==============================] - 0s 10ms/step - loss: 0.0000e+00 - accuracy: 0.8781\n",
      "[0.0, 0.8781431317329407]\n"
     ]
    }
   ],
   "source": [
    "acc = global_model.evaluate(X_test,y_test)\n",
    "print(acc)"
   ]
  },
  {
   "cell_type": "code",
   "execution_count": null,
   "id": "a27abacb",
   "metadata": {},
   "outputs": [],
   "source": []
  }
 ],
 "metadata": {
  "kernelspec": {
   "display_name": "Python 3.10 (tensorflow)",
   "language": "python",
   "name": "tensorflow"
  },
  "language_info": {
   "codemirror_mode": {
    "name": "ipython",
    "version": 3
   },
   "file_extension": ".py",
   "mimetype": "text/x-python",
   "name": "python",
   "nbconvert_exporter": "python",
   "pygments_lexer": "ipython3",
   "version": "3.10.13"
  }
 },
 "nbformat": 4,
 "nbformat_minor": 5
}
