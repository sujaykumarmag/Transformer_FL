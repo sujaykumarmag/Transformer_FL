{
 "cells": [
  {
   "cell_type": "code",
   "execution_count": 1,
   "metadata": {
    "colab": {
     "base_uri": "https://localhost:8080/"
    },
    "id": "j77Jde2BwPDp",
    "outputId": "ee065620-115b-4655-9205-ef672aed8de2"
   },
   "outputs": [
    {
     "name": "stderr",
     "output_type": "stream",
     "text": [
      "[nltk_data] Downloading package stopwords to\n",
      "[nltk_data]     /Users/sujaykumar/nltk_data...\n",
      "[nltk_data]   Package stopwords is already up-to-date!\n"
     ]
    }
   ],
   "source": [
    "%matplotlib inline\n",
    "import re\n",
    "import seaborn as sbn\n",
    "import nltk\n",
    "import tqdm as tqdm\n",
    "import sqlite3\n",
    "import pandas as pd\n",
    "import numpy as np\n",
    "nltk.download('stopwords')\n",
    "\n",
    "\n",
    "import string\n",
    "from nltk.corpus import stopwords\n",
    "stop = stopwords.words(\"english\")\n",
    "import matplotlib.pyplot as plt\n",
    "\n",
    "from sklearn.metrics import accuracy_score\n",
    "from sklearn.metrics import confusion_matrix\n",
    "from math import floor,ceil\n",
    "from nltk.stem.porter import PorterStemmer\n",
    "english_stemmer=nltk.stem.SnowballStemmer('english')\n",
    "\n",
    "from sklearn.feature_extraction.text import TfidfTransformer\n",
    "from sklearn.feature_extraction.text import CountVectorizer\n",
    "\n",
    "from sklearn.metrics import confusion_matrix\n",
    "from sklearn import metrics\n",
    "from sklearn.metrics import roc_curve, auc\n",
    "\n",
    "from sklearn.svm import LinearSVC\n",
    "\n",
    "from keras.models import Sequential\n",
    "from keras.layers import LSTM, Dense, Embedding\n",
    "from nltk.tokenize import word_tokenize\n",
    "from sklearn.feature_extraction.text import TfidfVectorizer\n",
    "from sklearn.model_selection import train_test_split"
   ]
  },
  {
   "cell_type": "code",
   "execution_count": 2,
   "metadata": {
    "colab": {
     "base_uri": "https://localhost:8080/"
    },
    "id": "1M8vdvWJykZd",
    "outputId": "2439954e-6b92-4ae9-bdc2-438bb81dac89"
   },
   "outputs": [
    {
     "name": "stderr",
     "output_type": "stream",
     "text": [
      "/var/folders/l2/_mks1sd56yjdxq9514qt1fnh0000gn/T/ipykernel_7411/3608450076.py:1: DtypeWarning: Columns (11) have mixed types. Specify dtype option on import or set low_memory=False.\n",
      "  df = pd.read_csv('data/reviews_sports.csv')\n"
     ]
    }
   ],
   "source": [
    "df = pd.read_csv('data/reviews_sports.csv')"
   ]
  },
  {
   "cell_type": "code",
   "execution_count": 3,
   "metadata": {
    "id": "06kloO_l_MoY"
   },
   "outputs": [],
   "source": [
    "df = df.drop(['Unnamed: 0','style','vote','image'],axis=1)"
   ]
  },
  {
   "cell_type": "markdown",
   "metadata": {
    "id": "IwJSS-5a_V0l"
   },
   "source": [
    "<h2>As we are taking only verified Users we drop all the false Reviews</h2>"
   ]
  },
  {
   "cell_type": "code",
   "execution_count": 4,
   "metadata": {
    "colab": {
     "base_uri": "https://localhost:8080/"
    },
    "id": "11m-sCLc_hIs",
    "outputId": "7f730f2a-b978-43a5-bcaa-a1b4d68a575d"
   },
   "outputs": [
    {
     "data": {
      "text/plain": [
       "True     2611805\n",
       "False     228135\n",
       "Name: verified, dtype: int64"
      ]
     },
     "execution_count": 4,
     "metadata": {},
     "output_type": "execute_result"
    }
   ],
   "source": [
    "df[\"verified\"].value_counts()"
   ]
  },
  {
   "cell_type": "code",
   "execution_count": 5,
   "metadata": {
    "id": "p6POV_34zBkD"
   },
   "outputs": [],
   "source": [
    "df = df[df['verified']]"
   ]
  },
  {
   "cell_type": "code",
   "execution_count": 6,
   "metadata": {
    "colab": {
     "base_uri": "https://localhost:8080/"
    },
    "id": "oRnXEKWV_De1",
    "outputId": "36b48309-16ac-4934-cbe1-aec675c63abe"
   },
   "outputs": [
    {
     "data": {
      "text/plain": [
       "True    2611805\n",
       "Name: verified, dtype: int64"
      ]
     },
     "execution_count": 6,
     "metadata": {},
     "output_type": "execute_result"
    }
   ],
   "source": [
    "df[\"verified\"].value_counts()"
   ]
  },
  {
   "cell_type": "markdown",
   "metadata": {
    "id": "g_bbLFR2_o8d"
   },
   "source": [
    "<h3>We Consider only the Text Based to Recommend the Products</h3>"
   ]
  },
  {
   "cell_type": "code",
   "execution_count": 7,
   "metadata": {
    "id": "QWyQqTqn_FIi"
   },
   "outputs": [],
   "source": [
    "df = df.drop(['reviewTime','reviewerName','unixReviewTime','verified'],axis=1)"
   ]
  },
  {
   "cell_type": "code",
   "execution_count": 8,
   "metadata": {
    "id": "qbR0mi3aOU1_"
   },
   "outputs": [],
   "source": [
    "df = df.dropna(axis=0)"
   ]
  },
  {
   "cell_type": "code",
   "execution_count": 9,
   "metadata": {
    "colab": {
     "base_uri": "https://localhost:8080/",
     "height": 424
    },
    "id": "r63mNeRO_ytf",
    "outputId": "f6ab5b4f-a7d5-44d3-be78-938e74ccd2ed"
   },
   "outputs": [
    {
     "data": {
      "text/html": [
       "<div>\n",
       "<style scoped>\n",
       "    .dataframe tbody tr th:only-of-type {\n",
       "        vertical-align: middle;\n",
       "    }\n",
       "\n",
       "    .dataframe tbody tr th {\n",
       "        vertical-align: top;\n",
       "    }\n",
       "\n",
       "    .dataframe thead th {\n",
       "        text-align: right;\n",
       "    }\n",
       "</style>\n",
       "<table border=\"1\" class=\"dataframe\">\n",
       "  <thead>\n",
       "    <tr style=\"text-align: right;\">\n",
       "      <th></th>\n",
       "      <th>overall</th>\n",
       "      <th>reviewerID</th>\n",
       "      <th>asin</th>\n",
       "      <th>reviewText</th>\n",
       "      <th>summary</th>\n",
       "    </tr>\n",
       "  </thead>\n",
       "  <tbody>\n",
       "    <tr>\n",
       "      <th>0</th>\n",
       "      <td>5.0</td>\n",
       "      <td>A180LQZBUWVOLF</td>\n",
       "      <td>0000032034</td>\n",
       "      <td>What a spectacular tutu! Very slimming.</td>\n",
       "      <td>Five Stars</td>\n",
       "    </tr>\n",
       "    <tr>\n",
       "      <th>1</th>\n",
       "      <td>1.0</td>\n",
       "      <td>ATMFGKU5SVEYY</td>\n",
       "      <td>0000032034</td>\n",
       "      <td>What the heck? Is this a tutu for nuns? I know...</td>\n",
       "      <td>Is this a tutu for nuns?!</td>\n",
       "    </tr>\n",
       "    <tr>\n",
       "      <th>2</th>\n",
       "      <td>5.0</td>\n",
       "      <td>A1QE70QBJ8U6ZG</td>\n",
       "      <td>0000032034</td>\n",
       "      <td>Exactly what we were looking for!</td>\n",
       "      <td>Five Stars</td>\n",
       "    </tr>\n",
       "    <tr>\n",
       "      <th>3</th>\n",
       "      <td>5.0</td>\n",
       "      <td>A22CP6Z73MZTYU</td>\n",
       "      <td>0000032034</td>\n",
       "      <td>I used this skirt for a Halloween costume and ...</td>\n",
       "      <td>I liked that the elastic waist didn't dig in (...</td>\n",
       "    </tr>\n",
       "    <tr>\n",
       "      <th>4</th>\n",
       "      <td>4.0</td>\n",
       "      <td>A22L28G8NRNLLN</td>\n",
       "      <td>0000032034</td>\n",
       "      <td>This is thick enough that you can't see throug...</td>\n",
       "      <td>This is thick enough that you can't see throug...</td>\n",
       "    </tr>\n",
       "    <tr>\n",
       "      <th>...</th>\n",
       "      <td>...</td>\n",
       "      <td>...</td>\n",
       "      <td>...</td>\n",
       "      <td>...</td>\n",
       "      <td>...</td>\n",
       "    </tr>\n",
       "    <tr>\n",
       "      <th>2839935</th>\n",
       "      <td>5.0</td>\n",
       "      <td>A3TN0U64HONOPB</td>\n",
       "      <td>B01HJGAJ9O</td>\n",
       "      <td>Love the shorts.. amazing comfortable, perfect...</td>\n",
       "      <td>Five Stars</td>\n",
       "    </tr>\n",
       "    <tr>\n",
       "      <th>2839936</th>\n",
       "      <td>5.0</td>\n",
       "      <td>AJDQLM8PT3YWT</td>\n",
       "      <td>B01HJGAJ9O</td>\n",
       "      <td>Superb quality</td>\n",
       "      <td>Five Stars</td>\n",
       "    </tr>\n",
       "    <tr>\n",
       "      <th>2839937</th>\n",
       "      <td>5.0</td>\n",
       "      <td>A3QK5ZLRE2KHLL</td>\n",
       "      <td>B01HJHHBHG</td>\n",
       "      <td>Works every time</td>\n",
       "      <td>Quality catcher</td>\n",
       "    </tr>\n",
       "    <tr>\n",
       "      <th>2839938</th>\n",
       "      <td>5.0</td>\n",
       "      <td>A3VDML80KNR9QQ</td>\n",
       "      <td>B01HJHHBHG</td>\n",
       "      <td>I have a briley bolt release paddle installed ...</td>\n",
       "      <td>Works for A400 with Briley Bolt Release</td>\n",
       "    </tr>\n",
       "    <tr>\n",
       "      <th>2839939</th>\n",
       "      <td>5.0</td>\n",
       "      <td>A3ONWSRNZFNC3U</td>\n",
       "      <td>B01HJHHBHG</td>\n",
       "      <td>Works great</td>\n",
       "      <td>Five Stars</td>\n",
       "    </tr>\n",
       "  </tbody>\n",
       "</table>\n",
       "<p>2610195 rows × 5 columns</p>\n",
       "</div>"
      ],
      "text/plain": [
       "         overall      reviewerID        asin  \\\n",
       "0            5.0  A180LQZBUWVOLF  0000032034   \n",
       "1            1.0   ATMFGKU5SVEYY  0000032034   \n",
       "2            5.0  A1QE70QBJ8U6ZG  0000032034   \n",
       "3            5.0  A22CP6Z73MZTYU  0000032034   \n",
       "4            4.0  A22L28G8NRNLLN  0000032034   \n",
       "...          ...             ...         ...   \n",
       "2839935      5.0  A3TN0U64HONOPB  B01HJGAJ9O   \n",
       "2839936      5.0   AJDQLM8PT3YWT  B01HJGAJ9O   \n",
       "2839937      5.0  A3QK5ZLRE2KHLL  B01HJHHBHG   \n",
       "2839938      5.0  A3VDML80KNR9QQ  B01HJHHBHG   \n",
       "2839939      5.0  A3ONWSRNZFNC3U  B01HJHHBHG   \n",
       "\n",
       "                                                reviewText  \\\n",
       "0                  What a spectacular tutu! Very slimming.   \n",
       "1        What the heck? Is this a tutu for nuns? I know...   \n",
       "2                        Exactly what we were looking for!   \n",
       "3        I used this skirt for a Halloween costume and ...   \n",
       "4        This is thick enough that you can't see throug...   \n",
       "...                                                    ...   \n",
       "2839935  Love the shorts.. amazing comfortable, perfect...   \n",
       "2839936                                     Superb quality   \n",
       "2839937                                   Works every time   \n",
       "2839938  I have a briley bolt release paddle installed ...   \n",
       "2839939                                        Works great   \n",
       "\n",
       "                                                   summary  \n",
       "0                                               Five Stars  \n",
       "1                                Is this a tutu for nuns?!  \n",
       "2                                               Five Stars  \n",
       "3        I liked that the elastic waist didn't dig in (...  \n",
       "4        This is thick enough that you can't see throug...  \n",
       "...                                                    ...  \n",
       "2839935                                         Five Stars  \n",
       "2839936                                         Five Stars  \n",
       "2839937                                    Quality catcher  \n",
       "2839938            Works for A400 with Briley Bolt Release  \n",
       "2839939                                         Five Stars  \n",
       "\n",
       "[2610195 rows x 5 columns]"
      ]
     },
     "execution_count": 9,
     "metadata": {},
     "output_type": "execute_result"
    }
   ],
   "source": [
    "df"
   ]
  },
  {
   "cell_type": "code",
   "execution_count": 10,
   "metadata": {
    "colab": {
     "base_uri": "https://localhost:8080/"
    },
    "id": "W6xaP8Bd_9zA",
    "outputId": "33017465-6ec6-4d16-83db-b66b22e8a89a"
   },
   "outputs": [
    {
     "data": {
      "text/plain": [
       "5.0    1777587\n",
       "4.0     450064\n",
       "3.0     192538\n",
       "1.0      98020\n",
       "2.0      91986\n",
       "Name: overall, dtype: int64"
      ]
     },
     "execution_count": 10,
     "metadata": {},
     "output_type": "execute_result"
    }
   ],
   "source": [
    "df['overall'].value_counts()"
   ]
  },
  {
   "cell_type": "markdown",
   "metadata": {
    "id": "twg6Il6XATRe"
   },
   "source": [
    "<h3> Cleaning the Data (NLP)</h3>"
   ]
  },
  {
   "cell_type": "code",
   "execution_count": 11,
   "metadata": {
    "id": "ixAaL2A6AES_"
   },
   "outputs": [],
   "source": [
    "def data_clean(rev, remove_stopwords=True):\n",
    "    if isinstance(rev, str):\n",
    "        new_text = re.sub(\"[^a-zA-Z]\", \" \", rev)\n",
    "        words = new_text.lower().split()\n",
    "        if remove_stopwords:\n",
    "            sts = set(stopwords.words(\"english\"))\n",
    "            words = [w for w in words if not w in sts]\n",
    "        ary = []\n",
    "        eng_stemmer = english_stemmer\n",
    "        for word in words:\n",
    "            ary.append(eng_stemmer.stem(word))\n",
    "        return ary\n",
    "    else:\n",
    "        return []"
   ]
  },
  {
   "cell_type": "code",
   "execution_count": null,
   "metadata": {
    "id": "8hJPriumAQ4A"
   },
   "outputs": [],
   "source": [
    "clean_reviewData = []\n",
    "for rev in df['reviewText']:\n",
    "    clean_reviewData.append( \" \".join(data_clean(rev)))\n",
    "\n",
    "clean_summaryData = []\n",
    "for rev in df['summary']:\n",
    "    clean_summaryData.append( \" \".join(data_clean(rev)))"
   ]
  },
  {
   "cell_type": "code",
   "execution_count": null,
   "metadata": {
    "colab": {
     "base_uri": "https://localhost:8080/"
    },
    "id": "bZhHKme9AaHz",
    "outputId": "45ed2a12-ff46-410d-e3d8-0215947331a4"
   },
   "outputs": [],
   "source": [
    "Most_used_Words_Review = pd.Series(' '.join(clean_reviewData).lower().split()).value_counts()[:20]\n",
    "print(Most_used_Words_Review)"
   ]
  },
  {
   "cell_type": "code",
   "execution_count": null,
   "metadata": {
    "colab": {
     "base_uri": "https://localhost:8080/"
    },
    "id": "0fKqefrZA1hl",
    "outputId": "33963fda-fd42-44ad-c0d6-ebef0d0ffba8"
   },
   "outputs": [],
   "source": [
    "Most_used_Words_Summary = pd.Series(' '.join(clean_summaryData).lower().split()).value_counts()[:20]\n",
    "print (Most_used_Words_Summary)"
   ]
  },
  {
   "cell_type": "code",
   "execution_count": null,
   "metadata": {
    "id": "O8roUQTlMuj1"
   },
   "outputs": [],
   "source": [
    "from sklearn.feature_extraction.text import TfidfVectorizer\n",
    "text_vectorizer = TfidfVectorizer(min_df=4, max_features = 1000)\n",
    "test_vecor = text_vectorizer.fit_transform(clean_reviewData)\n",
    "tfidf_vector = dict(zip(text_vectorizer.get_feature_names_out(), text_vectorizer.idf_))"
   ]
  },
  {
   "cell_type": "code",
   "execution_count": null,
   "metadata": {
    "colab": {
     "base_uri": "https://localhost:8080/"
    },
    "id": "eerCBTRIMwZ8",
    "outputId": "8b820a79-2597-4627-88f2-2008dc6a4819"
   },
   "outputs": [],
   "source": [
    "nltk.download('vader_lexicon')\n",
    "\n",
    "from nltk.sentiment.vader import SentimentIntensityAnalyzer\n",
    "analyser = SentimentIntensityAnalyzer()\n",
    "sample_review = df.reviewText[:10]\n",
    "for test in sample_review:\n",
    "    test\n",
    "    ss = analyser.polarity_scores(test)\n",
    "    for k in sorted(ss):\n",
    "        print('{0}: {1}, '.format(k, ss[k]))\n",
    "    print(test)"
   ]
  },
  {
   "cell_type": "code",
   "execution_count": null,
   "metadata": {
    "id": "LAA4vfclNZEO"
   },
   "outputs": [],
   "source": [
    "test_reviewText = df.reviewText\n",
    "test_Ratings = df.overall\n",
    "text_vectorizer = TfidfVectorizer(max_df=.8)\n",
    "text_vectorizer.fit(test_reviewText)\n",
    "def rate(r):\n",
    "    ary2 = []\n",
    "    for rating in r:\n",
    "        tv = [0,0,0,0,0]\n",
    "        tv[rating-1] = 1\n",
    "        ary2.append(tv)\n",
    "    return np.array(ary2)"
   ]
  },
  {
   "cell_type": "code",
   "execution_count": null,
   "metadata": {},
   "outputs": [],
   "source": [
    "test_reviewText"
   ]
  },
  {
   "cell_type": "code",
   "execution_count": null,
   "metadata": {},
   "outputs": [],
   "source": [
    "test_Ratings"
   ]
  },
  {
   "cell_type": "code",
   "execution_count": null,
   "metadata": {},
   "outputs": [],
   "source": [
    "df = pd.DataFrame({\n",
    "    'reviewText': test_reviewText,\n",
    "    'Ratings': test_Ratings\n",
    "})"
   ]
  },
  {
   "cell_type": "code",
   "execution_count": null,
   "metadata": {},
   "outputs": [],
   "source": [
    "df.to_csv(\"processed_data/final_pre-processed.csv\")"
   ]
  }
 ],
 "metadata": {
  "colab": {
   "provenance": []
  },
  "kernelspec": {
   "display_name": "Python 3.10 (tensorflow)",
   "language": "python",
   "name": "tensorflow"
  },
  "language_info": {
   "codemirror_mode": {
    "name": "ipython",
    "version": 3
   },
   "file_extension": ".py",
   "mimetype": "text/x-python",
   "name": "python",
   "nbconvert_exporter": "python",
   "pygments_lexer": "ipython3",
   "version": "3.10.11"
  }
 },
 "nbformat": 4,
 "nbformat_minor": 1
}
