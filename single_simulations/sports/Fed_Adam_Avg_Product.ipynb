{
 "cells": [
  {
   "cell_type": "code",
   "execution_count": 1,
   "id": "c974149a",
   "metadata": {},
   "outputs": [],
   "source": [
    "import pandas as pd\n",
    "import numpy as np\n",
    "from keras.models import Sequential\n",
    "from keras.layers import LSTM, Dense, Embedding\n",
    "from sklearn.feature_extraction.text import TfidfVectorizer\n",
    "from sklearn.model_selection import train_test_split\n",
    "import tensorflow as tf\n",
    "from tensorflow.keras.datasets import mnist\n",
    "from tensorflow.keras.utils import to_categorical"
   ]
  },
  {
   "cell_type": "code",
   "execution_count": 2,
   "id": "b491ea98",
   "metadata": {},
   "outputs": [],
   "source": [
    "df = pd.read_csv(\"processed_data/final_pre-processed1.csv\")[:12805*4]"
   ]
  },
  {
   "cell_type": "code",
   "execution_count": 3,
   "id": "ed7af4aa",
   "metadata": {},
   "outputs": [],
   "source": [
    "df = df.drop('Unnamed: 0',axis=1)\n",
    "df[\"Ratings\"] = df[\"Ratings\"].astype(int)"
   ]
  },
  {
   "cell_type": "code",
   "execution_count": 4,
   "id": "7e40d72c",
   "metadata": {},
   "outputs": [],
   "source": [
    "test_Ratings = df[\"Ratings\"]\n",
    "rate = []\n",
    "for i in test_Ratings:\n",
    "    if int(i) >=3:\n",
    "        rate.append(1)\n",
    "    else:\n",
    "        rate.append(0)\n",
    "df[\"Ratings\"] = rate"
   ]
  },
  {
   "cell_type": "code",
   "execution_count": 5,
   "id": "6c14ffb4",
   "metadata": {},
   "outputs": [],
   "source": [
    "text_vectorizer = TfidfVectorizer(max_df=.8)\n",
    "text_vectorizer.fit(df['reviewText'])\n",
    "def rate(r):\n",
    "    ary2 = []\n",
    "    for rating in r:\n",
    "        tv = [0,0,0,0,0]\n",
    "        tv[rating-1] = 1\n",
    "        ary2.append(tv)\n",
    "    return np.array(ary2)"
   ]
  },
  {
   "cell_type": "code",
   "execution_count": 6,
   "id": "d9c2b052",
   "metadata": {},
   "outputs": [],
   "source": [
    "X = text_vectorizer.transform(df['reviewText']).toarray()\n",
    "y = df['Ratings']\n",
    "X_train, X_test, y_train, y_test = train_test_split(X,y,test_size=.2)"
   ]
  },
  {
   "cell_type": "code",
   "execution_count": 7,
   "id": "fc2ed740",
   "metadata": {},
   "outputs": [],
   "source": [
    "global_model = Sequential()\n",
    "global_model.add(Dense(128,input_dim=X_train.shape[1]))\n",
    "global_model.add(Dense(1,activation='softmax'))"
   ]
  },
  {
   "cell_type": "code",
   "execution_count": 8,
   "id": "44bb0b2e",
   "metadata": {},
   "outputs": [],
   "source": [
    "global_model.compile(loss='binary_crossentropy',optimizer='rmsprop',metrics=['accuracy'])"
   ]
  },
  {
   "cell_type": "code",
   "execution_count": 9,
   "id": "c025a023",
   "metadata": {},
   "outputs": [],
   "source": [
    "NUM_ROUNDS = 10\n",
    "NUM_CLIENTS = 10\n",
    "BATCH_SIZE = 256\n",
    "EPOCHS_PER_ROUND = 10\n",
    "LEARNING_RATE = 0.1\n",
    "BETA_1 = 0.9\n",
    "BETA_2 = 0.999\n",
    "EPSILON = 1e-7"
   ]
  },
  {
   "cell_type": "code",
   "execution_count": 10,
   "id": "254688c9",
   "metadata": {},
   "outputs": [
    {
     "name": "stderr",
     "output_type": "stream",
     "text": [
      "/Users/sujaykumar/miniconda3/envs/tensorflow/lib/python3.10/site-packages/numpy/core/fromnumeric.py:57: FutureWarning: 'Series.swapaxes' is deprecated and will be removed in a future version. Please use 'Series.transpose' instead.\n",
      "  return bound(*args, **kwds)\n"
     ]
    }
   ],
   "source": [
    "x_train_clients = np.array_split(X_train,NUM_CLIENTS)\n",
    "y_train_clients = np.array_split(y_train,NUM_CLIENTS)\n",
    "\n",
    "x_test_clients = np.array_split(X_test,NUM_CLIENTS)\n",
    "y_test_clients = np.array_split(y_test,NUM_CLIENTS)"
   ]
  },
  {
   "cell_type": "code",
   "execution_count": 11,
   "id": "d0cc9ee5",
   "metadata": {},
   "outputs": [
    {
     "name": "stdout",
     "output_type": "stream",
     "text": [
      "Epoch 1/10\n",
      "129/129 [==============================] - 2s 14ms/step - loss: 0.3063 - accuracy: 0.9353\n",
      "Epoch 2/10\n",
      "129/129 [==============================] - 2s 13ms/step - loss: 0.1727 - accuracy: 0.9353\n",
      "Epoch 3/10\n",
      "129/129 [==============================] - 2s 13ms/step - loss: 0.1009 - accuracy: 0.9353\n",
      "Epoch 4/10\n",
      "129/129 [==============================] - 2s 14ms/step - loss: 0.0553 - accuracy: 0.9353\n",
      "Epoch 5/10\n",
      "129/129 [==============================] - 2s 14ms/step - loss: 0.0338 - accuracy: 0.9353\n",
      "Epoch 6/10\n",
      "129/129 [==============================] - 2s 14ms/step - loss: 0.0226 - accuracy: 0.9353\n",
      "Epoch 7/10\n",
      "129/129 [==============================] - 2s 14ms/step - loss: 0.0164 - accuracy: 0.9353\n",
      "Epoch 8/10\n",
      "129/129 [==============================] - 2s 14ms/step - loss: 0.0129 - accuracy: 0.9353\n",
      "Epoch 9/10\n",
      "129/129 [==============================] - 2s 14ms/step - loss: 0.0105 - accuracy: 0.9353\n",
      "Epoch 10/10\n",
      "129/129 [==============================] - 2s 15ms/step - loss: 0.0088 - accuracy: 0.9353\n",
      "33/33 [==============================] - 0s 8ms/step - loss: 0.3821 - accuracy: 0.9356\n",
      "33/33 [==============================] - 0s 3ms/step\n"
     ]
    },
    {
     "name": "stderr",
     "output_type": "stream",
     "text": [
      "/Users/sujaykumar/miniconda3/envs/tensorflow/lib/python3.10/site-packages/sklearn/metrics/_classification.py:1471: UndefinedMetricWarning: Precision and F-score are ill-defined and being set to 0.0 in labels with no predicted samples. Use `zero_division` parameter to control this behavior.\n",
      "  _warn_prf(average, modifier, msg_start, len(result))\n",
      "/Users/sujaykumar/miniconda3/envs/tensorflow/lib/python3.10/site-packages/sklearn/metrics/_classification.py:1471: UndefinedMetricWarning: Precision and F-score are ill-defined and being set to 0.0 in labels with no predicted samples. Use `zero_division` parameter to control this behavior.\n",
      "  _warn_prf(average, modifier, msg_start, len(result))\n",
      "/Users/sujaykumar/miniconda3/envs/tensorflow/lib/python3.10/site-packages/sklearn/metrics/_classification.py:1471: UndefinedMetricWarning: Precision and F-score are ill-defined and being set to 0.0 in labels with no predicted samples. Use `zero_division` parameter to control this behavior.\n",
      "  _warn_prf(average, modifier, msg_start, len(result))\n"
     ]
    },
    {
     "name": "stdout",
     "output_type": "stream",
     "text": [
      "Epoch 1/10\n",
      "129/129 [==============================] - 2s 12ms/step - loss: 0.3071 - accuracy: 0.9353\n",
      "Epoch 2/10\n",
      "129/129 [==============================] - 2s 12ms/step - loss: 0.1700 - accuracy: 0.9353\n",
      "Epoch 3/10\n",
      "129/129 [==============================] - 2s 12ms/step - loss: 0.0966 - accuracy: 0.9353\n",
      "Epoch 4/10\n",
      "129/129 [==============================] - 2s 12ms/step - loss: 0.0520 - accuracy: 0.9353\n",
      "Epoch 5/10\n",
      "129/129 [==============================] - 2s 12ms/step - loss: 0.0313 - accuracy: 0.9353\n",
      "Epoch 6/10\n",
      "129/129 [==============================] - 2s 12ms/step - loss: 0.0199 - accuracy: 0.9353\n",
      "Epoch 7/10\n",
      "129/129 [==============================] - 1s 12ms/step - loss: 0.0139 - accuracy: 0.9353\n",
      "Epoch 8/10\n",
      "129/129 [==============================] - 2s 12ms/step - loss: 0.0101 - accuracy: 0.9353\n",
      "Epoch 9/10\n",
      "129/129 [==============================] - 1s 12ms/step - loss: 0.0077 - accuracy: 0.9353\n",
      "Epoch 10/10\n",
      "129/129 [==============================] - 2s 12ms/step - loss: 0.0060 - accuracy: 0.9353\n",
      "33/33 [==============================] - 0s 7ms/step - loss: 0.5048 - accuracy: 0.9327\n",
      "33/33 [==============================] - 0s 3ms/step\n"
     ]
    },
    {
     "name": "stderr",
     "output_type": "stream",
     "text": [
      "/Users/sujaykumar/miniconda3/envs/tensorflow/lib/python3.10/site-packages/sklearn/metrics/_classification.py:1471: UndefinedMetricWarning: Precision and F-score are ill-defined and being set to 0.0 in labels with no predicted samples. Use `zero_division` parameter to control this behavior.\n",
      "  _warn_prf(average, modifier, msg_start, len(result))\n",
      "/Users/sujaykumar/miniconda3/envs/tensorflow/lib/python3.10/site-packages/sklearn/metrics/_classification.py:1471: UndefinedMetricWarning: Precision and F-score are ill-defined and being set to 0.0 in labels with no predicted samples. Use `zero_division` parameter to control this behavior.\n",
      "  _warn_prf(average, modifier, msg_start, len(result))\n",
      "/Users/sujaykumar/miniconda3/envs/tensorflow/lib/python3.10/site-packages/sklearn/metrics/_classification.py:1471: UndefinedMetricWarning: Precision and F-score are ill-defined and being set to 0.0 in labels with no predicted samples. Use `zero_division` parameter to control this behavior.\n",
      "  _warn_prf(average, modifier, msg_start, len(result))\n"
     ]
    },
    {
     "name": "stdout",
     "output_type": "stream",
     "text": [
      "Epoch 1/10\n",
      "129/129 [==============================] - 2s 13ms/step - loss: 0.3071 - accuracy: 0.9361\n",
      "Epoch 2/10\n",
      "129/129 [==============================] - 2s 13ms/step - loss: 0.1699 - accuracy: 0.9361\n",
      "Epoch 3/10\n",
      "129/129 [==============================] - 2s 13ms/step - loss: 0.0982 - accuracy: 0.9361\n",
      "Epoch 4/10\n",
      "129/129 [==============================] - 2s 12ms/step - loss: 0.0533 - accuracy: 0.9361\n",
      "Epoch 5/10\n",
      "129/129 [==============================] - 2s 13ms/step - loss: 0.0311 - accuracy: 0.9361\n",
      "Epoch 6/10\n",
      "129/129 [==============================] - 2s 13ms/step - loss: 0.0196 - accuracy: 0.9361\n",
      "Epoch 7/10\n",
      "129/129 [==============================] - 2s 14ms/step - loss: 0.0136 - accuracy: 0.9361\n",
      "Epoch 8/10\n",
      "129/129 [==============================] - 2s 13ms/step - loss: 0.0100 - accuracy: 0.9361\n",
      "Epoch 9/10\n",
      "129/129 [==============================] - 2s 13ms/step - loss: 0.0076 - accuracy: 0.9361\n",
      "Epoch 10/10\n",
      "129/129 [==============================] - 2s 13ms/step - loss: 0.0059 - accuracy: 0.9361\n",
      "33/33 [==============================] - 0s 7ms/step - loss: 0.4703 - accuracy: 0.9337\n",
      "33/33 [==============================] - 0s 3ms/step\n"
     ]
    },
    {
     "name": "stderr",
     "output_type": "stream",
     "text": [
      "/Users/sujaykumar/miniconda3/envs/tensorflow/lib/python3.10/site-packages/sklearn/metrics/_classification.py:1471: UndefinedMetricWarning: Precision and F-score are ill-defined and being set to 0.0 in labels with no predicted samples. Use `zero_division` parameter to control this behavior.\n",
      "  _warn_prf(average, modifier, msg_start, len(result))\n",
      "/Users/sujaykumar/miniconda3/envs/tensorflow/lib/python3.10/site-packages/sklearn/metrics/_classification.py:1471: UndefinedMetricWarning: Precision and F-score are ill-defined and being set to 0.0 in labels with no predicted samples. Use `zero_division` parameter to control this behavior.\n",
      "  _warn_prf(average, modifier, msg_start, len(result))\n",
      "/Users/sujaykumar/miniconda3/envs/tensorflow/lib/python3.10/site-packages/sklearn/metrics/_classification.py:1471: UndefinedMetricWarning: Precision and F-score are ill-defined and being set to 0.0 in labels with no predicted samples. Use `zero_division` parameter to control this behavior.\n",
      "  _warn_prf(average, modifier, msg_start, len(result))\n"
     ]
    },
    {
     "name": "stdout",
     "output_type": "stream",
     "text": [
      "Epoch 1/10\n",
      "129/129 [==============================] - 2s 13ms/step - loss: 0.3045 - accuracy: 0.9356\n",
      "Epoch 2/10\n",
      "129/129 [==============================] - 1s 12ms/step - loss: 0.1624 - accuracy: 0.9356\n",
      "Epoch 3/10\n",
      "129/129 [==============================] - 2s 13ms/step - loss: 0.0861 - accuracy: 0.9356\n",
      "Epoch 4/10\n",
      "129/129 [==============================] - 2s 12ms/step - loss: 0.0464 - accuracy: 0.9356\n",
      "Epoch 5/10\n",
      "129/129 [==============================] - 2s 12ms/step - loss: 0.0278 - accuracy: 0.9356\n",
      "Epoch 6/10\n",
      "129/129 [==============================] - 2s 12ms/step - loss: 0.0173 - accuracy: 0.9356\n",
      "Epoch 7/10\n",
      "129/129 [==============================] - 2s 12ms/step - loss: 0.0119 - accuracy: 0.9356\n",
      "Epoch 8/10\n",
      "129/129 [==============================] - 2s 12ms/step - loss: 0.0086 - accuracy: 0.9356\n",
      "Epoch 9/10\n",
      "129/129 [==============================] - 2s 13ms/step - loss: 0.0066 - accuracy: 0.9356\n",
      "Epoch 10/10\n",
      "129/129 [==============================] - 2s 12ms/step - loss: 0.0053 - accuracy: 0.9356\n",
      "33/33 [==============================] - 0s 7ms/step - loss: 0.4979 - accuracy: 0.9132\n",
      "33/33 [==============================] - 0s 3ms/step\n"
     ]
    },
    {
     "name": "stderr",
     "output_type": "stream",
     "text": [
      "/Users/sujaykumar/miniconda3/envs/tensorflow/lib/python3.10/site-packages/sklearn/metrics/_classification.py:1471: UndefinedMetricWarning: Precision and F-score are ill-defined and being set to 0.0 in labels with no predicted samples. Use `zero_division` parameter to control this behavior.\n",
      "  _warn_prf(average, modifier, msg_start, len(result))\n",
      "/Users/sujaykumar/miniconda3/envs/tensorflow/lib/python3.10/site-packages/sklearn/metrics/_classification.py:1471: UndefinedMetricWarning: Precision and F-score are ill-defined and being set to 0.0 in labels with no predicted samples. Use `zero_division` parameter to control this behavior.\n",
      "  _warn_prf(average, modifier, msg_start, len(result))\n",
      "/Users/sujaykumar/miniconda3/envs/tensorflow/lib/python3.10/site-packages/sklearn/metrics/_classification.py:1471: UndefinedMetricWarning: Precision and F-score are ill-defined and being set to 0.0 in labels with no predicted samples. Use `zero_division` parameter to control this behavior.\n",
      "  _warn_prf(average, modifier, msg_start, len(result))\n"
     ]
    },
    {
     "name": "stdout",
     "output_type": "stream",
     "text": [
      "Epoch 1/10\n",
      "129/129 [==============================] - 2s 13ms/step - loss: 0.3111 - accuracy: 0.9370\n",
      "Epoch 2/10\n",
      "129/129 [==============================] - 2s 13ms/step - loss: 0.1716 - accuracy: 0.9370\n",
      "Epoch 3/10\n",
      "129/129 [==============================] - 2s 13ms/step - loss: 0.0982 - accuracy: 0.9370\n",
      "Epoch 4/10\n",
      "129/129 [==============================] - 2s 13ms/step - loss: 0.0541 - accuracy: 0.9370\n",
      "Epoch 5/10\n",
      "129/129 [==============================] - 2s 12ms/step - loss: 0.0316 - accuracy: 0.9370\n",
      "Epoch 6/10\n",
      "129/129 [==============================] - 2s 12ms/step - loss: 0.0201 - accuracy: 0.9370\n",
      "Epoch 7/10\n",
      "129/129 [==============================] - 2s 12ms/step - loss: 0.0136 - accuracy: 0.9370\n",
      "Epoch 8/10\n",
      "129/129 [==============================] - 2s 13ms/step - loss: 0.0097 - accuracy: 0.9370\n",
      "Epoch 9/10\n",
      "129/129 [==============================] - 2s 12ms/step - loss: 0.0072 - accuracy: 0.9370\n",
      "Epoch 10/10\n",
      "129/129 [==============================] - 2s 12ms/step - loss: 0.0055 - accuracy: 0.9370\n",
      "32/32 [==============================] - 0s 6ms/step - loss: 0.5448 - accuracy: 0.9287\n",
      "32/32 [==============================] - 0s 3ms/step\n"
     ]
    },
    {
     "name": "stderr",
     "output_type": "stream",
     "text": [
      "/Users/sujaykumar/miniconda3/envs/tensorflow/lib/python3.10/site-packages/sklearn/metrics/_classification.py:1471: UndefinedMetricWarning: Precision and F-score are ill-defined and being set to 0.0 in labels with no predicted samples. Use `zero_division` parameter to control this behavior.\n",
      "  _warn_prf(average, modifier, msg_start, len(result))\n",
      "/Users/sujaykumar/miniconda3/envs/tensorflow/lib/python3.10/site-packages/sklearn/metrics/_classification.py:1471: UndefinedMetricWarning: Precision and F-score are ill-defined and being set to 0.0 in labels with no predicted samples. Use `zero_division` parameter to control this behavior.\n",
      "  _warn_prf(average, modifier, msg_start, len(result))\n",
      "/Users/sujaykumar/miniconda3/envs/tensorflow/lib/python3.10/site-packages/sklearn/metrics/_classification.py:1471: UndefinedMetricWarning: Precision and F-score are ill-defined and being set to 0.0 in labels with no predicted samples. Use `zero_division` parameter to control this behavior.\n",
      "  _warn_prf(average, modifier, msg_start, len(result))\n"
     ]
    },
    {
     "name": "stdout",
     "output_type": "stream",
     "text": [
      "Epoch 1/10\n",
      "129/129 [==============================] - 2s 13ms/step - loss: 0.3152 - accuracy: 0.9327\n",
      "Epoch 2/10\n",
      "129/129 [==============================] - 2s 12ms/step - loss: 0.1721 - accuracy: 0.9327\n",
      "Epoch 3/10\n",
      "129/129 [==============================] - 2s 13ms/step - loss: 0.0958 - accuracy: 0.9327\n",
      "Epoch 4/10\n",
      "129/129 [==============================] - 2s 13ms/step - loss: 0.0521 - accuracy: 0.9327\n",
      "Epoch 5/10\n",
      "129/129 [==============================] - 2s 13ms/step - loss: 0.0303 - accuracy: 0.9327\n",
      "Epoch 6/10\n",
      "129/129 [==============================] - 2s 13ms/step - loss: 0.0191 - accuracy: 0.9327\n",
      "Epoch 7/10\n",
      "129/129 [==============================] - 2s 12ms/step - loss: 0.0129 - accuracy: 0.9327\n",
      "Epoch 8/10\n",
      "129/129 [==============================] - 2s 12ms/step - loss: 0.0092 - accuracy: 0.9327\n",
      "Epoch 9/10\n",
      "129/129 [==============================] - 2s 12ms/step - loss: 0.0070 - accuracy: 0.9327\n",
      "Epoch 10/10\n",
      "129/129 [==============================] - 2s 12ms/step - loss: 0.0055 - accuracy: 0.9327\n",
      "32/32 [==============================] - 0s 7ms/step - loss: 0.3860 - accuracy: 0.9277\n",
      "32/32 [==============================] - 0s 3ms/step\n"
     ]
    },
    {
     "name": "stderr",
     "output_type": "stream",
     "text": [
      "/Users/sujaykumar/miniconda3/envs/tensorflow/lib/python3.10/site-packages/sklearn/metrics/_classification.py:1471: UndefinedMetricWarning: Precision and F-score are ill-defined and being set to 0.0 in labels with no predicted samples. Use `zero_division` parameter to control this behavior.\n",
      "  _warn_prf(average, modifier, msg_start, len(result))\n",
      "/Users/sujaykumar/miniconda3/envs/tensorflow/lib/python3.10/site-packages/sklearn/metrics/_classification.py:1471: UndefinedMetricWarning: Precision and F-score are ill-defined and being set to 0.0 in labels with no predicted samples. Use `zero_division` parameter to control this behavior.\n",
      "  _warn_prf(average, modifier, msg_start, len(result))\n",
      "/Users/sujaykumar/miniconda3/envs/tensorflow/lib/python3.10/site-packages/sklearn/metrics/_classification.py:1471: UndefinedMetricWarning: Precision and F-score are ill-defined and being set to 0.0 in labels with no predicted samples. Use `zero_division` parameter to control this behavior.\n",
      "  _warn_prf(average, modifier, msg_start, len(result))\n"
     ]
    },
    {
     "name": "stdout",
     "output_type": "stream",
     "text": [
      "Epoch 1/10\n",
      "129/129 [==============================] - 2s 15ms/step - loss: 0.3044 - accuracy: 0.9370\n",
      "Epoch 2/10\n",
      "129/129 [==============================] - 2s 15ms/step - loss: 0.1680 - accuracy: 0.9370\n",
      "Epoch 3/10\n",
      "129/129 [==============================] - 2s 14ms/step - loss: 0.0965 - accuracy: 0.9370\n",
      "Epoch 4/10\n",
      "129/129 [==============================] - 2s 14ms/step - loss: 0.0542 - accuracy: 0.9370\n",
      "Epoch 5/10\n",
      "129/129 [==============================] - 2s 13ms/step - loss: 0.0335 - accuracy: 0.9370\n",
      "Epoch 6/10\n",
      "129/129 [==============================] - 2s 13ms/step - loss: 0.0222 - accuracy: 0.9370\n",
      "Epoch 7/10\n",
      "129/129 [==============================] - 2s 14ms/step - loss: 0.0163 - accuracy: 0.9370\n",
      "Epoch 8/10\n",
      "129/129 [==============================] - 2s 13ms/step - loss: 0.0125 - accuracy: 0.9370\n",
      "Epoch 9/10\n",
      "129/129 [==============================] - 2s 14ms/step - loss: 0.0099 - accuracy: 0.9370\n",
      "Epoch 10/10\n",
      "129/129 [==============================] - 2s 14ms/step - loss: 0.0081 - accuracy: 0.9370\n",
      "32/32 [==============================] - 0s 6ms/step - loss: 0.3710 - accuracy: 0.9414\n",
      "32/32 [==============================] - 0s 3ms/step\n"
     ]
    },
    {
     "name": "stderr",
     "output_type": "stream",
     "text": [
      "/Users/sujaykumar/miniconda3/envs/tensorflow/lib/python3.10/site-packages/sklearn/metrics/_classification.py:1471: UndefinedMetricWarning: Precision and F-score are ill-defined and being set to 0.0 in labels with no predicted samples. Use `zero_division` parameter to control this behavior.\n",
      "  _warn_prf(average, modifier, msg_start, len(result))\n",
      "/Users/sujaykumar/miniconda3/envs/tensorflow/lib/python3.10/site-packages/sklearn/metrics/_classification.py:1471: UndefinedMetricWarning: Precision and F-score are ill-defined and being set to 0.0 in labels with no predicted samples. Use `zero_division` parameter to control this behavior.\n",
      "  _warn_prf(average, modifier, msg_start, len(result))\n",
      "/Users/sujaykumar/miniconda3/envs/tensorflow/lib/python3.10/site-packages/sklearn/metrics/_classification.py:1471: UndefinedMetricWarning: Precision and F-score are ill-defined and being set to 0.0 in labels with no predicted samples. Use `zero_division` parameter to control this behavior.\n",
      "  _warn_prf(average, modifier, msg_start, len(result))\n"
     ]
    },
    {
     "name": "stdout",
     "output_type": "stream",
     "text": [
      "Epoch 1/10\n",
      "129/129 [==============================] - 2s 14ms/step - loss: 0.2882 - accuracy: 0.9397\n",
      "Epoch 2/10\n",
      "129/129 [==============================] - 2s 14ms/step - loss: 0.1607 - accuracy: 0.9397\n",
      "Epoch 3/10\n",
      "129/129 [==============================] - 2s 14ms/step - loss: 0.0876 - accuracy: 0.9397\n",
      "Epoch 4/10\n",
      "129/129 [==============================] - 2s 13ms/step - loss: 0.0439 - accuracy: 0.9397\n",
      "Epoch 5/10\n",
      "129/129 [==============================] - 2s 13ms/step - loss: 0.0246 - accuracy: 0.9397\n",
      "Epoch 6/10\n",
      "129/129 [==============================] - 2s 13ms/step - loss: 0.0154 - accuracy: 0.9397\n",
      "Epoch 7/10\n",
      "129/129 [==============================] - 2s 13ms/step - loss: 0.0105 - accuracy: 0.9397\n",
      "Epoch 8/10\n",
      "129/129 [==============================] - 2s 14ms/step - loss: 0.0078 - accuracy: 0.9397\n",
      "Epoch 9/10\n",
      "129/129 [==============================] - 2s 14ms/step - loss: 0.0060 - accuracy: 0.9397\n",
      "Epoch 10/10\n",
      "129/129 [==============================] - 2s 13ms/step - loss: 0.0049 - accuracy: 0.9397\n",
      "32/32 [==============================] - 0s 7ms/step - loss: 0.3341 - accuracy: 0.9385\n",
      "32/32 [==============================] - 0s 3ms/step\n"
     ]
    },
    {
     "name": "stderr",
     "output_type": "stream",
     "text": [
      "/Users/sujaykumar/miniconda3/envs/tensorflow/lib/python3.10/site-packages/sklearn/metrics/_classification.py:1471: UndefinedMetricWarning: Precision and F-score are ill-defined and being set to 0.0 in labels with no predicted samples. Use `zero_division` parameter to control this behavior.\n",
      "  _warn_prf(average, modifier, msg_start, len(result))\n",
      "/Users/sujaykumar/miniconda3/envs/tensorflow/lib/python3.10/site-packages/sklearn/metrics/_classification.py:1471: UndefinedMetricWarning: Precision and F-score are ill-defined and being set to 0.0 in labels with no predicted samples. Use `zero_division` parameter to control this behavior.\n",
      "  _warn_prf(average, modifier, msg_start, len(result))\n",
      "/Users/sujaykumar/miniconda3/envs/tensorflow/lib/python3.10/site-packages/sklearn/metrics/_classification.py:1471: UndefinedMetricWarning: Precision and F-score are ill-defined and being set to 0.0 in labels with no predicted samples. Use `zero_division` parameter to control this behavior.\n",
      "  _warn_prf(average, modifier, msg_start, len(result))\n"
     ]
    },
    {
     "name": "stdout",
     "output_type": "stream",
     "text": [
      "Epoch 1/10\n",
      "129/129 [==============================] - 2s 14ms/step - loss: 0.3052 - accuracy: 0.9346\n",
      "Epoch 2/10\n",
      "129/129 [==============================] - 2s 13ms/step - loss: 0.1743 - accuracy: 0.9346\n",
      "Epoch 3/10\n",
      "129/129 [==============================] - 2s 13ms/step - loss: 0.1038 - accuracy: 0.9346\n",
      "Epoch 4/10\n",
      "129/129 [==============================] - 2s 13ms/step - loss: 0.0588 - accuracy: 0.9346\n",
      "Epoch 5/10\n",
      "129/129 [==============================] - 2s 13ms/step - loss: 0.0352 - accuracy: 0.9346\n",
      "Epoch 6/10\n",
      "129/129 [==============================] - 2s 13ms/step - loss: 0.0227 - accuracy: 0.9346\n",
      "Epoch 7/10\n",
      "129/129 [==============================] - 2s 12ms/step - loss: 0.0155 - accuracy: 0.9346\n",
      "Epoch 8/10\n",
      "129/129 [==============================] - 2s 14ms/step - loss: 0.0112 - accuracy: 0.9346\n",
      "Epoch 9/10\n",
      "129/129 [==============================] - 2s 14ms/step - loss: 0.0084 - accuracy: 0.9346\n",
      "Epoch 10/10\n",
      "129/129 [==============================] - 2s 14ms/step - loss: 0.0065 - accuracy: 0.9346\n",
      "32/32 [==============================] - 0s 6ms/step - loss: 0.4952 - accuracy: 0.9268\n",
      "32/32 [==============================] - 0s 3ms/step\n"
     ]
    },
    {
     "name": "stderr",
     "output_type": "stream",
     "text": [
      "/Users/sujaykumar/miniconda3/envs/tensorflow/lib/python3.10/site-packages/sklearn/metrics/_classification.py:1471: UndefinedMetricWarning: Precision and F-score are ill-defined and being set to 0.0 in labels with no predicted samples. Use `zero_division` parameter to control this behavior.\n",
      "  _warn_prf(average, modifier, msg_start, len(result))\n",
      "/Users/sujaykumar/miniconda3/envs/tensorflow/lib/python3.10/site-packages/sklearn/metrics/_classification.py:1471: UndefinedMetricWarning: Precision and F-score are ill-defined and being set to 0.0 in labels with no predicted samples. Use `zero_division` parameter to control this behavior.\n",
      "  _warn_prf(average, modifier, msg_start, len(result))\n",
      "/Users/sujaykumar/miniconda3/envs/tensorflow/lib/python3.10/site-packages/sklearn/metrics/_classification.py:1471: UndefinedMetricWarning: Precision and F-score are ill-defined and being set to 0.0 in labels with no predicted samples. Use `zero_division` parameter to control this behavior.\n",
      "  _warn_prf(average, modifier, msg_start, len(result))\n"
     ]
    },
    {
     "name": "stdout",
     "output_type": "stream",
     "text": [
      "Epoch 1/10\n",
      "129/129 [==============================] - 2s 14ms/step - loss: 0.3036 - accuracy: 0.9351\n",
      "Epoch 2/10\n",
      "129/129 [==============================] - 2s 12ms/step - loss: 0.1641 - accuracy: 0.9351\n",
      "Epoch 3/10\n",
      "129/129 [==============================] - 2s 12ms/step - loss: 0.0870 - accuracy: 0.9351\n",
      "Epoch 4/10\n",
      "129/129 [==============================] - 2s 12ms/step - loss: 0.0463 - accuracy: 0.9351\n",
      "Epoch 5/10\n",
      "129/129 [==============================] - 2s 12ms/step - loss: 0.0280 - accuracy: 0.9351\n",
      "Epoch 6/10\n",
      "129/129 [==============================] - 2s 12ms/step - loss: 0.0185 - accuracy: 0.9351\n",
      "Epoch 7/10\n",
      "129/129 [==============================] - 2s 13ms/step - loss: 0.0136 - accuracy: 0.9351\n",
      "Epoch 8/10\n",
      "129/129 [==============================] - 2s 12ms/step - loss: 0.0109 - accuracy: 0.9351\n",
      "Epoch 9/10\n",
      "129/129 [==============================] - 2s 12ms/step - loss: 0.0089 - accuracy: 0.9351\n",
      "Epoch 10/10\n",
      "129/129 [==============================] - 2s 12ms/step - loss: 0.0075 - accuracy: 0.9351\n",
      "32/32 [==============================] - 0s 5ms/step - loss: 0.4698 - accuracy: 0.9287\n",
      "32/32 [==============================] - 0s 3ms/step\n"
     ]
    },
    {
     "name": "stderr",
     "output_type": "stream",
     "text": [
      "/Users/sujaykumar/miniconda3/envs/tensorflow/lib/python3.10/site-packages/sklearn/metrics/_classification.py:1471: UndefinedMetricWarning: Precision and F-score are ill-defined and being set to 0.0 in labels with no predicted samples. Use `zero_division` parameter to control this behavior.\n",
      "  _warn_prf(average, modifier, msg_start, len(result))\n",
      "/Users/sujaykumar/miniconda3/envs/tensorflow/lib/python3.10/site-packages/sklearn/metrics/_classification.py:1471: UndefinedMetricWarning: Precision and F-score are ill-defined and being set to 0.0 in labels with no predicted samples. Use `zero_division` parameter to control this behavior.\n",
      "  _warn_prf(average, modifier, msg_start, len(result))\n",
      "/Users/sujaykumar/miniconda3/envs/tensorflow/lib/python3.10/site-packages/sklearn/metrics/_classification.py:1471: UndefinedMetricWarning: Precision and F-score are ill-defined and being set to 0.0 in labels with no predicted samples. Use `zero_division` parameter to control this behavior.\n",
      "  _warn_prf(average, modifier, msg_start, len(result))\n"
     ]
    }
   ],
   "source": [
    "from sklearn.metrics import classification_report\n",
    "import keras \n",
    "\n",
    "client_models = []\n",
    "client_losses = []\n",
    "client_train_losses = []\n",
    "client_classification = []\n",
    "client_acc = []\n",
    "global_maes = []\n",
    "\n",
    "client_models = []\n",
    "for i in range(NUM_CLIENTS):\n",
    "    local_model = Sequential()\n",
    "    local_model.add(Dense(128,input_dim=X_train.shape[1]))\n",
    "    local_model.add(Dense(1,activation='softmax'))\n",
    "    local_model.compile(optimizer='adam', loss='binary_crossentropy',metrics=['accuracy'])\n",
    "    # Initialize an empty list to store the training loss\n",
    "    training_losses = []\n",
    "\n",
    "    # Define a custom callback to capture training loss\n",
    "    class LossHistory(keras.callbacks.Callback):\n",
    "        def on_epoch_end(self, epoch, logs=None):\n",
    "            training_losses.append(logs['loss'])\n",
    "\n",
    "    #  Fit the model with the training data and capture the training loss\n",
    "    history_callback = local_model.fit(x_train_clients[i],y_train_clients[i], epochs=EPOCHS_PER_ROUND, callbacks=[LossHistory()])\n",
    "\n",
    "    local_model.fit(x_train_clients[i],y_train_clients[i],epochs=EPOCHS_PER_ROUND, batch_size=BATCH_SIZE,verbose=0)\n",
    "    acc = local_model.evaluate(x_test_clients[i],y_test_clients[i])\n",
    "    preds = local_model.predict(x_test_clients[i])\n",
    "    c2 = classification_report(y_test_clients[i],preds)\n",
    "    client_models.append(local_model)\n",
    "    client_train_losses.append(training_losses)\n",
    "    client_acc.append(acc[1])\n",
    "    client_classification.append(c2)\n",
    "    client_models.append(local_model)"
   ]
  },
  {
   "cell_type": "code",
   "execution_count": 12,
   "id": "5a85aeb3",
   "metadata": {},
   "outputs": [],
   "source": [
    "data = [client_acc, client_train_losses, client_classification]\n",
    "data = list(map(list, zip(*data)))\n",
    "column_names = ['Accuracy', 'Train Losses', 'Classification']\n",
    "df1 = pd.DataFrame(data, columns=column_names)\n",
    "df1.to_csv('results.csv')"
   ]
  },
  {
   "cell_type": "code",
   "execution_count": 13,
   "id": "d594d49b",
   "metadata": {},
   "outputs": [
    {
     "name": "stdout",
     "output_type": "stream",
     "text": [
      "321/321 [==============================] - 2s 7ms/step - loss: 0.6927 - accuracy: 0.9307\n",
      "[0.692729651927948, 0.930691123008728]\n"
     ]
    }
   ],
   "source": [
    "acc = global_model.evaluate(X_test,y_test)\n",
    "print(acc)"
   ]
  },
  {
   "cell_type": "code",
   "execution_count": 14,
   "id": "fcbdd17b",
   "metadata": {},
   "outputs": [
    {
     "name": "stderr",
     "output_type": "stream",
     "text": [
      "WARNING:absl:At this time, the v2.11+ optimizer `tf.keras.optimizers.Adam` runs slowly on M1/M2 Macs, please use the legacy Keras optimizer instead, located at `tf.keras.optimizers.legacy.Adam`.\n"
     ]
    }
   ],
   "source": [
    "# SERVER ADAM OPTIMIZER \n",
    "fedadam = tf.optimizers.Adam(learning_rate=LEARNING_RATE,beta_1=BETA_1,beta_2 = BETA_2,epsilon=EPSILON)"
   ]
  },
  {
   "cell_type": "code",
   "execution_count": 15,
   "id": "5376ff6e",
   "metadata": {},
   "outputs": [],
   "source": [
    "# Performing Federated Averaging\n",
    "weights = global_model.get_weights()\n",
    "for i in range(len(weights)):\n",
    "    for j in range(NUM_CLIENTS):\n",
    "        client_weights = client_models[j].get_weights()\n",
    "        weights[i] += client_weights[i]/NUM_CLIENTS\n",
    "\n",
    "global_model.set_weights(weights)"
   ]
  },
  {
   "cell_type": "code",
   "execution_count": 16,
   "id": "b9aa3ce5",
   "metadata": {},
   "outputs": [
    {
     "name": "stdout",
     "output_type": "stream",
     "text": [
      "321/321 [==============================] - 2s 7ms/step - loss: 0.1929 - accuracy: 0.9307\n",
      "[0.1928771436214447, 0.930691123008728]\n"
     ]
    }
   ],
   "source": [
    "acc = global_model.evaluate(X_test,y_test)\n",
    "print(acc)"
   ]
  },
  {
   "cell_type": "code",
   "execution_count": 17,
   "id": "0e67e9c5",
   "metadata": {},
   "outputs": [
    {
     "ename": "",
     "evalue": "",
     "output_type": "error",
     "traceback": [
      "\u001b[1;31mThe Kernel crashed while executing code in the current cell or a previous cell. Please review the code in the cell(s) to identify a possible cause of the failure. Click <a href='https://aka.ms/vscodeJupyterKernelCrash'>here</a> for more info. View Jupyter <a href='command:jupyter.viewOutput'>log</a> for further details."
     ]
    }
   ],
   "source": [
    "# Train the Fed AVG model\n",
    "fed_model = global_model\n",
    "fed_model.compile(optimizer=fedadam, loss='categorical_crossentropy',metrics=['accuracy'])\n",
    "fed_model.fit(X_train,y_train,epochs=5,batch_size=20)"
   ]
  },
  {
   "cell_type": "code",
   "execution_count": null,
   "id": "74f0410b",
   "metadata": {},
   "outputs": [
    {
     "name": "stdout",
     "output_type": "stream",
     "text": [
      "220/220 [==============================] - 2s 9ms/step - loss: 0.9681 - accuracy: 0.6972\n",
      "[0.9680886268615723, 0.6971680521965027]\n"
     ]
    }
   ],
   "source": [
    "acc = fed_model.evaluate(X_test,y_test)\n",
    "print(acc)"
   ]
  },
  {
   "cell_type": "code",
   "execution_count": null,
   "id": "c40f901e",
   "metadata": {},
   "outputs": [],
   "source": []
  },
  {
   "cell_type": "code",
   "execution_count": null,
   "id": "15bccc05",
   "metadata": {},
   "outputs": [],
   "source": []
  },
  {
   "cell_type": "code",
   "execution_count": null,
   "id": "a27abacb",
   "metadata": {},
   "outputs": [],
   "source": []
  }
 ],
 "metadata": {
  "kernelspec": {
   "display_name": "Python 3.10 (tensorflow)",
   "language": "python",
   "name": "tensorflow"
  },
  "language_info": {
   "codemirror_mode": {
    "name": "ipython",
    "version": 3
   },
   "file_extension": ".py",
   "mimetype": "text/x-python",
   "name": "python",
   "nbconvert_exporter": "python",
   "pygments_lexer": "ipython3",
   "version": "3.10.13"
  }
 },
 "nbformat": 4,
 "nbformat_minor": 5
}
