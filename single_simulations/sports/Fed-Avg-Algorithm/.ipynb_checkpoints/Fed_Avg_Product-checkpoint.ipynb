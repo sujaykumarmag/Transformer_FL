{
 "cells": [
  {
   "cell_type": "code",
   "execution_count": 1,
   "id": "19321c81",
   "metadata": {},
   "outputs": [],
   "source": [
    "import pandas as pd\n",
    "import numpy as np\n",
    "from keras.models import Sequential\n",
    "from keras.layers import LSTM, Dense, Embedding\n",
    "from sklearn.feature_extraction.text import TfidfVectorizer\n",
    "from sklearn.model_selection import train_test_split"
   ]
  },
  {
   "cell_type": "code",
   "execution_count": 3,
   "id": "eee6924e",
   "metadata": {},
   "outputs": [],
   "source": [
    "df = pd.read_csv(\"../processed_data/final_pre-processed.csv\")"
   ]
  },
  {
   "cell_type": "code",
   "execution_count": 4,
   "id": "980cb159",
   "metadata": {},
   "outputs": [],
   "source": [
    "df = df.drop('Unnamed: 0',axis=1)[:4000]\n",
    "df[\"Ratings\"] = df[\"Ratings\"].astype(int)"
   ]
  },
  {
   "cell_type": "code",
   "execution_count": 5,
   "id": "5bfa7918",
   "metadata": {},
   "outputs": [],
   "source": [
    "text_vectorizer = TfidfVectorizer(max_df=.8)\n",
    "text_vectorizer.fit(df['reviewText'])\n",
    "def rate(r):\n",
    "    ary2 = []\n",
    "    for rating in r:\n",
    "        tv = [0,0,0,0,0]\n",
    "        tv[rating-1] = 1\n",
    "        ary2.append(tv)\n",
    "    return np.array(ary2)"
   ]
  },
  {
   "cell_type": "code",
   "execution_count": 8,
   "id": "6aaf4ebd",
   "metadata": {},
   "outputs": [],
   "source": [
    "X = text_vectorizer.transform(df['reviewText']).toarray()\n",
    "y = rate(df['Ratings'].values)\n",
    "X_train, X_test, y_train, y_test = train_test_split(X,y,test_size=.2)"
   ]
  },
  {
   "cell_type": "code",
   "execution_count": 9,
   "id": "60f56a2c",
   "metadata": {},
   "outputs": [],
   "source": [
    "global_model = Sequential()\n",
    "global_model.add(Dense(128,input_dim=X_train.shape[1]))\n",
    "global_model.add(Dense(5,activation='softmax'))"
   ]
  },
  {
   "cell_type": "code",
   "execution_count": 10,
   "id": "617e53ed",
   "metadata": {},
   "outputs": [],
   "source": [
    "global_model.compile(loss='categorical_crossentropy',optimizer='rmsprop',metrics=['accuracy'])"
   ]
  },
  {
   "cell_type": "code",
   "execution_count": 12,
   "id": "ec23ebed",
   "metadata": {},
   "outputs": [],
   "source": [
    "NUM_CLIENTS = 10\n",
    "EPOCHS_PER_ROUND = 10\n",
    "BATCH_SIZE = 32"
   ]
  },
  {
   "cell_type": "code",
   "execution_count": 14,
   "id": "9176e064",
   "metadata": {},
   "outputs": [],
   "source": [
    "x_train_clients = np.array_split(X_train,NUM_CLIENTS)\n",
    "y_train_clients = np.array_split(y_train,NUM_CLIENTS)\n",
    "\n",
    "x_test_clients = np.array_split(X_test,NUM_CLIENTS)\n",
    "y_test_clients = np.array_split(y_test,NUM_CLIENTS)"
   ]
  },
  {
   "cell_type": "code",
   "execution_count": 24,
   "id": "2744ed33",
   "metadata": {
    "scrolled": true
   },
   "outputs": [
    {
     "name": "stdout",
     "output_type": "stream",
     "text": [
      "3/3 [==============================] - 0s 19ms/step - loss: 0.8232 - accuracy: 0.6875\n",
      "[0.8231924176216125, 0.6875]\n",
      "3/3 [==============================] - 0s 20ms/step - loss: 0.9190 - accuracy: 0.6750\n",
      "[0.9189920425415039, 0.675000011920929]\n",
      "3/3 [==============================] - 0s 19ms/step - loss: 0.8193 - accuracy: 0.7250\n",
      "[0.8193017840385437, 0.7250000238418579]\n",
      "3/3 [==============================] - 0s 20ms/step - loss: 0.8563 - accuracy: 0.7000\n",
      "[0.8563387989997864, 0.699999988079071]\n",
      "3/3 [==============================] - 0s 17ms/step - loss: 0.8214 - accuracy: 0.7125\n",
      "[0.8214240074157715, 0.7124999761581421]\n",
      "3/3 [==============================] - 0s 17ms/step - loss: 0.8605 - accuracy: 0.7125\n",
      "[0.8604847192764282, 0.7124999761581421]\n",
      "3/3 [==============================] - 0s 17ms/step - loss: 0.8079 - accuracy: 0.7625\n",
      "[0.8079009056091309, 0.762499988079071]\n",
      "3/3 [==============================] - 0s 21ms/step - loss: 0.8607 - accuracy: 0.7250\n",
      "[0.8607262372970581, 0.7250000238418579]\n",
      "3/3 [==============================] - 0s 21ms/step - loss: 0.9332 - accuracy: 0.6750\n",
      "[0.9332224726676941, 0.675000011920929]\n",
      "3/3 [==============================] - 0s 20ms/step - loss: 0.9643 - accuracy: 0.7000\n",
      "[0.9642958641052246, 0.699999988079071]\n"
     ]
    }
   ],
   "source": [
    "client_models = []\n",
    "for i in range(NUM_CLIENTS):\n",
    "    local_model = Sequential()\n",
    "    local_model.add(Dense(128,input_dim=X_train.shape[1]))\n",
    "    local_model.add(Dense(5,activation='softmax'))\n",
    "    local_model.compile(optimizer='rmsprop', loss='categorical_crossentropy',metrics=['accuracy'])\n",
    "    local_model.fit(x_train_clients[i],y_train_clients[i],epochs=EPOCHS_PER_ROUND, batch_size=BATCH_SIZE,verbose=0)\n",
    "    acc = local_model.evaluate(x_test_clients[i],y_test_clients[i])\n",
    "    print(acc)\n",
    "    client_models.append(local_model)"
   ]
  },
  {
   "cell_type": "code",
   "execution_count": 25,
   "id": "382f4a5b",
   "metadata": {},
   "outputs": [],
   "source": [
    "# Performing Federated Averaging\n",
    "weights = global_model.get_weights()\n",
    "for i in range(len(weights)):\n",
    "    for j in range(NUM_CLIENTS):\n",
    "        client_weights = client_models[j].get_weights()\n",
    "        weights[i] += client_weights[i]/NUM_CLIENTS\n",
    "\n",
    "global_model.set_weights(weights)"
   ]
  },
  {
   "cell_type": "code",
   "execution_count": 26,
   "id": "3dc6c8d9",
   "metadata": {},
   "outputs": [
    {
     "name": "stdout",
     "output_type": "stream",
     "text": [
      "25/25 [==============================] - 0s 8ms/step - loss: 1.5729 - accuracy: 0.6725\n",
      "[1.572872519493103, 0.6725000143051147]\n"
     ]
    }
   ],
   "source": [
    "acc = global_model.evaluate(X_test,y_test)\n",
    "print(acc)"
   ]
  },
  {
   "cell_type": "code",
   "execution_count": 27,
   "id": "bc7b2efa",
   "metadata": {},
   "outputs": [
    {
     "name": "stdout",
     "output_type": "stream",
     "text": [
      "Epoch 1/10\n",
      "100/100 [==============================] - 1s 12ms/step - loss: 0.0512 - accuracy: 0.9791\n",
      "Epoch 2/10\n",
      "100/100 [==============================] - 1s 12ms/step - loss: 0.0514 - accuracy: 0.9787\n",
      "Epoch 3/10\n",
      "100/100 [==============================] - 1s 11ms/step - loss: 0.0509 - accuracy: 0.9791\n",
      "Epoch 4/10\n",
      "100/100 [==============================] - 1s 12ms/step - loss: 0.0512 - accuracy: 0.9784\n",
      "Epoch 5/10\n",
      "100/100 [==============================] - 1s 12ms/step - loss: 0.0523 - accuracy: 0.9800\n",
      "Epoch 6/10\n",
      "100/100 [==============================] - 1s 11ms/step - loss: 0.0517 - accuracy: 0.9794\n",
      "Epoch 7/10\n",
      "100/100 [==============================] - 1s 12ms/step - loss: 0.0524 - accuracy: 0.9794\n",
      "Epoch 8/10\n",
      "100/100 [==============================] - 1s 11ms/step - loss: 0.0524 - accuracy: 0.9791\n",
      "Epoch 9/10\n",
      "100/100 [==============================] - 1s 12ms/step - loss: 0.0524 - accuracy: 0.9781\n",
      "Epoch 10/10\n",
      "100/100 [==============================] - 1s 11ms/step - loss: 0.0529 - accuracy: 0.9772\n"
     ]
    },
    {
     "data": {
      "text/plain": [
       "<keras.callbacks.History at 0x3b3bbf220>"
      ]
     },
     "execution_count": 27,
     "metadata": {},
     "output_type": "execute_result"
    }
   ],
   "source": [
    "# Train the Fed AVG model\n",
    "fed_model = global_model\n",
    "fed_model.compile(optimizer='rmsprop', loss='categorical_crossentropy',metrics=['accuracy'])\n",
    "fed_model.fit(X_train,y_train,epochs=10,batch_size=32)"
   ]
  },
  {
   "cell_type": "code",
   "execution_count": 28,
   "id": "8b9bef61",
   "metadata": {},
   "outputs": [
    {
     "name": "stdout",
     "output_type": "stream",
     "text": [
      "25/25 [==============================] - 0s 10ms/step - loss: 1.7114 - accuracy: 0.6488\n",
      "[1.711401343345642, 0.6487500071525574]\n"
     ]
    }
   ],
   "source": [
    "acc = fed_model.evaluate(X_test,y_test)\n",
    "print(acc)"
   ]
  },
  {
   "cell_type": "code",
   "execution_count": null,
   "id": "f0156051",
   "metadata": {},
   "outputs": [],
   "source": []
  }
 ],
 "metadata": {
  "kernelspec": {
   "display_name": "Python 3.10 (tensorflow)",
   "language": "python",
   "name": "tensorflow"
  },
  "language_info": {
   "codemirror_mode": {
    "name": "ipython",
    "version": 3
   },
   "file_extension": ".py",
   "mimetype": "text/x-python",
   "name": "python",
   "nbconvert_exporter": "python",
   "pygments_lexer": "ipython3",
   "version": "3.10.11"
  }
 },
 "nbformat": 4,
 "nbformat_minor": 5
}
