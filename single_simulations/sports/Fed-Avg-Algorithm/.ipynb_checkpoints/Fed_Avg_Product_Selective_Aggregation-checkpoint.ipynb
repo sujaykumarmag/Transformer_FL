{
 "cells": [
  {
   "cell_type": "code",
   "execution_count": 1,
   "id": "e041f0bc",
   "metadata": {},
   "outputs": [],
   "source": [
    "import pandas as pd\n",
    "import numpy as np\n",
    "from keras.models import Sequential\n",
    "from keras.layers import LSTM, Dense, Embedding\n",
    "from sklearn.feature_extraction.text import TfidfVectorizer\n",
    "from sklearn.model_selection import train_test_split"
   ]
  },
  {
   "cell_type": "code",
   "execution_count": 2,
   "id": "8c498b7f",
   "metadata": {},
   "outputs": [],
   "source": [
    "df = pd.read_csv(\"../processed_data/final_pre-processed.csv\")"
   ]
  },
  {
   "cell_type": "code",
   "execution_count": 3,
   "id": "331ca337",
   "metadata": {},
   "outputs": [],
   "source": [
    "df = df.drop('Unnamed: 0',axis=1)[:4000]\n",
    "df[\"Ratings\"] = df[\"Ratings\"].astype(int)\n",
    "\n",
    "\n",
    "text_vectorizer = TfidfVectorizer(max_df=.8)\n",
    "text_vectorizer.fit(df['reviewText'])\n",
    "def rate(r):\n",
    "    ary2 = []\n",
    "    for rating in r:\n",
    "        tv = [0,0,0,0,0]\n",
    "        tv[rating-1] = 1\n",
    "        ary2.append(tv)\n",
    "    return np.array(ary2)"
   ]
  },
  {
   "cell_type": "code",
   "execution_count": 4,
   "id": "8d5664b9",
   "metadata": {},
   "outputs": [],
   "source": [
    "X = text_vectorizer.transform(df['reviewText']).toarray()\n",
    "y = rate(df['Ratings'].values)\n",
    "X_train, X_test, y_train, y_test = train_test_split(X,y,test_size=.2)"
   ]
  },
  {
   "cell_type": "code",
   "execution_count": 5,
   "id": "b96af448",
   "metadata": {},
   "outputs": [
    {
     "name": "stdout",
     "output_type": "stream",
     "text": [
      "Metal device set to: Apple M1\n"
     ]
    }
   ],
   "source": [
    "global_model = Sequential()\n",
    "global_model.add(Dense(128,input_dim=X_train.shape[1]))\n",
    "global_model.add(Dense(5,activation='softmax'))"
   ]
  },
  {
   "cell_type": "code",
   "execution_count": 6,
   "id": "a9bf41b4",
   "metadata": {},
   "outputs": [],
   "source": [
    "global_model.compile(loss='categorical_crossentropy',optimizer='rmsprop',metrics=['accuracy'])"
   ]
  },
  {
   "cell_type": "code",
   "execution_count": 7,
   "id": "105f2f1e",
   "metadata": {},
   "outputs": [],
   "source": [
    "NUM_CLIENTS = 10\n",
    "EPOCHS_PER_ROUND = 10\n",
    "BATCH_SIZE = 32"
   ]
  },
  {
   "cell_type": "code",
   "execution_count": 8,
   "id": "5f3eb7a4",
   "metadata": {},
   "outputs": [],
   "source": [
    "x_train_clients = np.array_split(X_train,NUM_CLIENTS)\n",
    "y_train_clients = np.array_split(y_train,NUM_CLIENTS)\n",
    "\n",
    "x_test_clients = np.array_split(X_test,NUM_CLIENTS)\n",
    "y_test_clients = np.array_split(y_test,NUM_CLIENTS)"
   ]
  },
  {
   "cell_type": "code",
   "execution_count": 12,
   "id": "f3e8d8ae",
   "metadata": {},
   "outputs": [
    {
     "name": "stdout",
     "output_type": "stream",
     "text": [
      "3/3 [==============================] - 0s 19ms/step - loss: 0.8142 - accuracy: 0.7000\n",
      "[0.8142207860946655, 0.699999988079071]\n",
      "3/3 [==============================] - 0s 19ms/step - loss: 0.9395 - accuracy: 0.6875\n",
      "[0.9394590258598328, 0.6875]\n",
      "3/3 [==============================] - 0s 20ms/step - loss: 1.0008 - accuracy: 0.5875\n",
      "[1.0007925033569336, 0.5874999761581421]\n",
      "3/3 [==============================] - 0s 22ms/step - loss: 1.0616 - accuracy: 0.6250\n",
      "[1.0615500211715698, 0.625]\n",
      "3/3 [==============================] - 0s 22ms/step - loss: 0.8978 - accuracy: 0.7125\n",
      "[0.8978105783462524, 0.7124999761581421]\n",
      "3/3 [==============================] - 0s 17ms/step - loss: 0.9650 - accuracy: 0.6625\n",
      "[0.9650093913078308, 0.6625000238418579]\n",
      "3/3 [==============================] - 0s 17ms/step - loss: 0.6192 - accuracy: 0.8125\n",
      "[0.6192106008529663, 0.8125]\n",
      "3/3 [==============================] - 0s 15ms/step - loss: 0.8652 - accuracy: 0.6875\n",
      "[0.8652000427246094, 0.6875]\n",
      "3/3 [==============================] - 0s 16ms/step - loss: 1.0490 - accuracy: 0.6250\n",
      "[1.0490103960037231, 0.625]\n",
      "3/3 [==============================] - 0s 18ms/step - loss: 0.8963 - accuracy: 0.7125\n",
      "[0.8962773084640503, 0.7124999761581421]\n"
     ]
    }
   ],
   "source": [
    "client_models = []\n",
    "for i in range(NUM_CLIENTS):\n",
    "    local_model = Sequential()\n",
    "    local_model.add(Dense(128,input_dim=X_train.shape[1]))\n",
    "    local_model.add(Dense(5,activation='softmax'))\n",
    "    local_model.compile(optimizer='rmsprop', loss='categorical_crossentropy',metrics=['accuracy'])\n",
    "    local_model.fit(x_train_clients[i],y_train_clients[i],epochs=EPOCHS_PER_ROUND, batch_size=BATCH_SIZE,verbose=0)\n",
    "    acc = local_model.evaluate(x_test_clients[i],y_test_clients[i])\n",
    "    print(acc)\n",
    "    if(acc[1]>0.69):\n",
    "        client_models.append(local_model)"
   ]
  },
  {
   "cell_type": "code",
   "execution_count": 13,
   "id": "8452b926",
   "metadata": {},
   "outputs": [],
   "source": [
    "# Performing Federated Averaging\n",
    "weights = global_model.get_weights()\n",
    "for i in range(len(weights)):\n",
    "    for j in range(len(client_models)):\n",
    "        client_weights = client_models[j].get_weights()\n",
    "        weights[i] += client_weights[i]/NUM_CLIENTS\n",
    "\n",
    "global_model.set_weights(weights)"
   ]
  },
  {
   "cell_type": "code",
   "execution_count": 14,
   "id": "9e388d23",
   "metadata": {},
   "outputs": [
    {
     "name": "stdout",
     "output_type": "stream",
     "text": [
      "25/25 [==============================] - 0s 8ms/step - loss: 1.4605 - accuracy: 0.6862\n",
      "[1.4604908227920532, 0.6862499713897705]\n"
     ]
    }
   ],
   "source": [
    "acc = global_model.evaluate(X_test,y_test)\n",
    "print(acc)"
   ]
  },
  {
   "cell_type": "code",
   "execution_count": 15,
   "id": "33f8364c",
   "metadata": {},
   "outputs": [
    {
     "name": "stdout",
     "output_type": "stream",
     "text": [
      "Epoch 1/10\n",
      "100/100 [==============================] - 1s 10ms/step - loss: 0.9770 - accuracy: 0.6959\n",
      "Epoch 2/10\n",
      "100/100 [==============================] - 1s 9ms/step - loss: 0.7725 - accuracy: 0.7022\n",
      "Epoch 3/10\n",
      "100/100 [==============================] - 1s 9ms/step - loss: 0.6664 - accuracy: 0.7416\n",
      "Epoch 4/10\n",
      "100/100 [==============================] - 1s 9ms/step - loss: 0.5784 - accuracy: 0.7812\n",
      "Epoch 5/10\n",
      "100/100 [==============================] - 1s 10ms/step - loss: 0.4958 - accuracy: 0.8297\n",
      "Epoch 6/10\n",
      "100/100 [==============================] - 1s 9ms/step - loss: 0.4240 - accuracy: 0.8700\n",
      "Epoch 7/10\n",
      "100/100 [==============================] - 1s 9ms/step - loss: 0.3613 - accuracy: 0.8941\n",
      "Epoch 8/10\n",
      "100/100 [==============================] - 1s 9ms/step - loss: 0.3091 - accuracy: 0.9106\n",
      "Epoch 9/10\n",
      "100/100 [==============================] - 1s 9ms/step - loss: 0.2660 - accuracy: 0.9228\n",
      "Epoch 10/10\n",
      "100/100 [==============================] - 1s 9ms/step - loss: 0.2324 - accuracy: 0.9341\n"
     ]
    },
    {
     "data": {
      "text/plain": [
       "<keras.callbacks.History at 0x30f062a10>"
      ]
     },
     "execution_count": 15,
     "metadata": {},
     "output_type": "execute_result"
    }
   ],
   "source": [
    "# Train the Fed AVG model\n",
    "fed_model = global_model\n",
    "fed_model.compile(optimizer='rmsprop', loss='categorical_crossentropy',metrics=['accuracy'])\n",
    "fed_model.fit(X_train,y_train,epochs=10,batch_size=32)"
   ]
  },
  {
   "cell_type": "code",
   "execution_count": 16,
   "id": "e907c00d",
   "metadata": {},
   "outputs": [
    {
     "name": "stdout",
     "output_type": "stream",
     "text": [
      "25/25 [==============================] - 0s 7ms/step - loss: 0.9323 - accuracy: 0.6762\n",
      "[0.9322587847709656, 0.6762499809265137]\n"
     ]
    }
   ],
   "source": [
    "acc = fed_model.evaluate(X_test,y_test)\n",
    "print(acc)"
   ]
  },
  {
   "cell_type": "code",
   "execution_count": null,
   "id": "8b05536f",
   "metadata": {},
   "outputs": [],
   "source": []
  }
 ],
 "metadata": {
  "kernelspec": {
   "display_name": "Python 3.10 (tensorflow)",
   "language": "python",
   "name": "tensorflow"
  },
  "language_info": {
   "codemirror_mode": {
    "name": "ipython",
    "version": 3
   },
   "file_extension": ".py",
   "mimetype": "text/x-python",
   "name": "python",
   "nbconvert_exporter": "python",
   "pygments_lexer": "ipython3",
   "version": "3.10.11"
  }
 },
 "nbformat": 4,
 "nbformat_minor": 5
}
