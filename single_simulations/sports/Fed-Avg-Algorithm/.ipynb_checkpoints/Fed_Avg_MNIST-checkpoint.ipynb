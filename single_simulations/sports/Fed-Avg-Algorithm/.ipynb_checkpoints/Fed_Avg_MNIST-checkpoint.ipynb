{
 "cells": [
  {
   "cell_type": "code",
   "execution_count": 5,
   "metadata": {
    "colab": {
     "base_uri": "https://localhost:8080/"
    },
    "id": "ScSisBqLT7fY",
    "outputId": "f2c86b29-6ba4-49cb-b099-20fe485802dd"
   },
   "outputs": [],
   "source": [
    "import collections\n",
    "import numpy as np\n",
    "import tensorflow as tf\n",
    "from tensorflow.keras.utils import to_categorical"
   ]
  },
  {
   "cell_type": "markdown",
   "metadata": {
    "id": "z-2sEYQdAsyf"
   },
   "source": [
    "Using the MNIST train and Test Data"
   ]
  },
  {
   "cell_type": "code",
   "execution_count": 6,
   "metadata": {
    "id": "Np7yA762TZgX"
   },
   "outputs": [],
   "source": [
    "import numpy as np\n",
    "import tensorflow as tf\n",
    "from tensorflow.keras import layers, models, optimizers\n",
    "from tensorflow.keras.datasets import mnist\n",
    "\n",
    "# Load the MNIST dataset\n",
    "(x_train, y_train), (x_test,y_test) = mnist.load_data()\n",
    "\n",
    "x_train = x_train / 255.0\n",
    "y_train = y_train.astype(np.int32)\n",
    "y_train = to_categorical(y_train, 10)\n",
    "\n",
    "\n",
    "x_test = x_test / 255.0\n",
    "y_test = y_test.astype(np.int32)\n",
    "y_test = to_categorical(y_test, 10)"
   ]
  },
  {
   "cell_type": "markdown",
   "metadata": {
    "id": "4b3tM1tXG2Y4"
   },
   "source": [
    "Here We are creating a Global Model Architecture"
   ]
  },
  {
   "cell_type": "code",
   "execution_count": null,
   "metadata": {
    "id": "eZNiYqy2F2eW"
   },
   "outputs": [],
   "source": [
    "global_model = tf.keras.Sequential([\n",
    "        tf.keras.layers.Input(shape=(28, 28)),\n",
    "        tf.keras.layers.Flatten(),\n",
    "        tf.keras.layers.Dense(128, activation='relu'),\n",
    "        tf.keras.layers.Dense(10, activation='softmax')\n",
    "    ])"
   ]
  },
  {
   "cell_type": "code",
   "execution_count": null,
   "metadata": {
    "id": "4AZak4CCF57N"
   },
   "outputs": [],
   "source": [
    "global_model.compile(\n",
    "    optimizer=tf.keras.optimizers.SGD(learning_rate=0.1),\n",
    "    loss='categorical_crossentropy',\n",
    "    metrics=['accuracy']\n",
    ")"
   ]
  },
  {
   "cell_type": "markdown",
   "metadata": {
    "id": "oTcBjH5gHaYw"
   },
   "source": [
    "The Hyper-Parameters and Creating a IID"
   ]
  },
  {
   "cell_type": "code",
   "execution_count": null,
   "metadata": {
    "id": "f15M1j72Gzz1"
   },
   "outputs": [],
   "source": [
    "NUM_CLIENTS = 10\n",
    "EPOCHS_PER_ROUND = 5\n",
    "BATCH_SIZE = 20"
   ]
  },
  {
   "cell_type": "code",
   "execution_count": null,
   "metadata": {
    "id": "9ymsQtoHHC_B"
   },
   "outputs": [],
   "source": [
    "x_train_clients = np.array_split(x_train,NUM_CLIENTS)\n",
    "y_train_clients = np.array_split(y_train,NUM_CLIENTS)\n",
    "\n",
    "x_test_clients = np.array_split(x_test,NUM_CLIENTS)\n",
    "y_test_clients = np.array_split(y_test,NUM_CLIENTS)"
   ]
  },
  {
   "cell_type": "code",
   "execution_count": null,
   "metadata": {
    "colab": {
     "base_uri": "https://localhost:8080/"
    },
    "id": "Hi_dSJJKHnm8",
    "outputId": "45160f3b-2c0a-4aa7-f52e-b4f5c41e9a84"
   },
   "outputs": [
    {
     "name": "stdout",
     "output_type": "stream",
     "text": [
      "32/32 [==============================] - 2s 14ms/step - loss: 0.2389 - accuracy: 0.9190\n",
      "[0.2389010787010193, 0.9190000295639038]\n",
      "32/32 [==============================] - 0s 5ms/step - loss: 0.3189 - accuracy: 0.8970\n",
      "[0.3188614845275879, 0.8970000147819519]\n",
      "32/32 [==============================] - 0s 5ms/step - loss: 0.2363 - accuracy: 0.9300\n",
      "[0.2362995743751526, 0.9300000071525574]\n",
      "32/32 [==============================] - 0s 5ms/step - loss: 0.2979 - accuracy: 0.9110\n",
      "[0.29790300130844116, 0.9110000133514404]\n",
      "32/32 [==============================] - 0s 4ms/step - loss: 0.3103 - accuracy: 0.9110\n",
      "[0.31034326553344727, 0.9110000133514404]\n",
      "32/32 [==============================] - 0s 4ms/step - loss: 0.1716 - accuracy: 0.9480\n",
      "[0.17163300514221191, 0.9480000138282776]\n",
      "32/32 [==============================] - 0s 4ms/step - loss: 0.2207 - accuracy: 0.9440\n",
      "[0.2207060158252716, 0.9440000057220459]\n",
      "32/32 [==============================] - 0s 4ms/step - loss: 0.1319 - accuracy: 0.9630\n",
      "[0.13193254172801971, 0.9629999995231628]\n",
      "32/32 [==============================] - 0s 3ms/step - loss: 0.0777 - accuracy: 0.9710\n",
      "[0.0776602029800415, 0.9710000157356262]\n",
      "32/32 [==============================] - 0s 4ms/step - loss: 0.2419 - accuracy: 0.9300\n",
      "[0.24194073677062988, 0.9300000071525574]\n"
     ]
    }
   ],
   "source": [
    "client_models = []\n",
    "for i in range(NUM_CLIENTS):\n",
    "\n",
    "  local_model = tf.keras.Sequential([\n",
    "        tf.keras.layers.Flatten(input_shape=(28, 28)),\n",
    "        tf.keras.layers.Dense(128, activation='relu'),\n",
    "        tf.keras.layers.Dense(10, activation='softmax')\n",
    "    ])\n",
    "\n",
    "  local_model.compile(optimizer='adam', loss='categorical_crossentropy',metrics=['accuracy'])\n",
    "  local_model.fit(x_train_clients[i],y_train_clients[i],epochs=EPOCHS_PER_ROUND, batch_size=BATCH_SIZE,verbose=0)\n",
    "  acc = local_model.evaluate(x_test_clients[i],y_test_clients[i])\n",
    "  print(acc)\n",
    "  client_models.append(local_model)\n"
   ]
  },
  {
   "cell_type": "code",
   "execution_count": null,
   "metadata": {
    "id": "pFe15UljMdZs"
   },
   "outputs": [],
   "source": [
    "# Performing Federated Averaging\n",
    "weights = global_model.get_weights()\n",
    "for i in range(len(weights)):\n",
    "  for j in range(NUM_CLIENTS):\n",
    "    client_weights = client_models[j].get_weights()\n",
    "    weights[i] += client_weights[i]/NUM_CLIENTS\n",
    "\n",
    "global_model.set_weights(weights)"
   ]
  },
  {
   "cell_type": "code",
   "execution_count": null,
   "metadata": {
    "colab": {
     "base_uri": "https://localhost:8080/"
    },
    "id": "PnQsVW3nRDLW",
    "outputId": "94ee6ff6-868c-4363-ac1d-80e31b9b7545"
   },
   "outputs": [
    {
     "name": "stdout",
     "output_type": "stream",
     "text": [
      "313/313 [==============================] - 1s 3ms/step - loss: 2.3991 - accuracy: 0.1858\n",
      "[2.3990869522094727, 0.1858000010251999]\n"
     ]
    }
   ],
   "source": [
    "acc = global_model.evaluate(x_test,y_test)\n",
    "print(acc)"
   ]
  },
  {
   "cell_type": "code",
   "execution_count": null,
   "metadata": {
    "colab": {
     "base_uri": "https://localhost:8080/"
    },
    "id": "QdYxwfdCSET5",
    "outputId": "61c9cdf1-4be9-4297-8a58-307a6cf436a2"
   },
   "outputs": [
    {
     "name": "stdout",
     "output_type": "stream",
     "text": [
      "Epoch 1/5\n",
      "3000/3000 [==============================] - 21s 7ms/step - loss: 0.2277 - accuracy: 0.9334\n",
      "Epoch 2/5\n",
      "3000/3000 [==============================] - 19s 6ms/step - loss: 0.1079 - accuracy: 0.9678\n",
      "Epoch 3/5\n",
      "3000/3000 [==============================] - 17s 6ms/step - loss: 0.0749 - accuracy: 0.9772\n",
      "Epoch 4/5\n",
      "3000/3000 [==============================] - 16s 5ms/step - loss: 0.0560 - accuracy: 0.9824\n",
      "Epoch 5/5\n",
      "3000/3000 [==============================] - 17s 6ms/step - loss: 0.0436 - accuracy: 0.9858\n"
     ]
    },
    {
     "data": {
      "text/plain": [
       "<keras.callbacks.History at 0x7e4f2abede70>"
      ]
     },
     "execution_count": 127,
     "metadata": {},
     "output_type": "execute_result"
    }
   ],
   "source": [
    "# Train the Fed AVG model\n",
    "fed_model = global_model\n",
    "fed_model.compile(optimizer='adam', loss='categorical_crossentropy',metrics=['accuracy'])\n",
    "fed_model.fit(x_train,y_train,epochs=5,batch_size=20)"
   ]
  },
  {
   "cell_type": "code",
   "execution_count": null,
   "metadata": {
    "colab": {
     "base_uri": "https://localhost:8080/"
    },
    "id": "1iyqSTRuSbsP",
    "outputId": "17bd3158-1300-4840-a41d-c6e1fd224bb1"
   },
   "outputs": [
    {
     "name": "stdout",
     "output_type": "stream",
     "text": [
      "313/313 [==============================] - 1s 4ms/step - loss: 0.0699 - accuracy: 0.9788\n",
      "[0.0699104517698288, 0.9787999987602234]\n"
     ]
    }
   ],
   "source": [
    "acc = fed_model.evaluate(x_test,y_test)\n",
    "print(acc)"
   ]
  }
 ],
 "metadata": {
  "colab": {
   "provenance": []
  },
  "kernelspec": {
   "display_name": "Python 3.10 (tensorflow)",
   "language": "python",
   "name": "tensorflow"
  },
  "language_info": {
   "codemirror_mode": {
    "name": "ipython",
    "version": 3
   },
   "file_extension": ".py",
   "mimetype": "text/x-python",
   "name": "python",
   "nbconvert_exporter": "python",
   "pygments_lexer": "ipython3",
   "version": "3.10.11"
  }
 },
 "nbformat": 4,
 "nbformat_minor": 1
}
