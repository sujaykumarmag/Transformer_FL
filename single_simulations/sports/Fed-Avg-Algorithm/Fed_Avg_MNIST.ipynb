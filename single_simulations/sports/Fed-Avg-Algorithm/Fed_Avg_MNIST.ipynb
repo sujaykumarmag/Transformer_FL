{
 "cells": [
  {
   "cell_type": "code",
   "execution_count": 5,
   "metadata": {
    "colab": {
     "base_uri": "https://localhost:8080/"
    },
    "id": "ScSisBqLT7fY",
    "outputId": "f2c86b29-6ba4-49cb-b099-20fe485802dd"
   },
   "outputs": [],
   "source": [
    "import collections\n",
    "import numpy as np\n",
    "import tensorflow as tf\n",
    "from tensorflow.keras.utils import to_categorical"
   ]
  },
  {
   "cell_type": "markdown",
   "metadata": {
    "id": "z-2sEYQdAsyf"
   },
   "source": [
    "Using the MNIST train and Test Data"
   ]
  },
  {
   "cell_type": "code",
   "execution_count": 6,
   "metadata": {
    "id": "Np7yA762TZgX"
   },
   "outputs": [],
   "source": [
    "import numpy as np\n",
    "import tensorflow as tf\n",
    "from tensorflow.keras import layers, models, optimizers\n",
    "from tensorflow.keras.datasets import mnist\n",
    "\n",
    "# Load the MNIST dataset\n",
    "(x_train, y_train), (x_test,y_test) = mnist.load_data()\n",
    "\n",
    "x_train = x_train / 255.0\n",
    "y_train = y_train.astype(np.int32)\n",
    "y_train = to_categorical(y_train, 10)\n",
    "\n",
    "\n",
    "x_test = x_test / 255.0\n",
    "y_test = y_test.astype(np.int32)\n",
    "y_test = to_categorical(y_test, 10)"
   ]
  },
  {
   "cell_type": "markdown",
   "metadata": {
    "id": "4b3tM1tXG2Y4"
   },
   "source": [
    "Here We are creating a Global Model Architecture"
   ]
  },
  {
   "cell_type": "code",
   "execution_count": 7,
   "metadata": {
    "id": "eZNiYqy2F2eW"
   },
   "outputs": [
    {
     "name": "stdout",
     "output_type": "stream",
     "text": [
      "Metal device set to: Apple M1\n"
     ]
    }
   ],
   "source": [
    "global_model = tf.keras.Sequential([\n",
    "        tf.keras.layers.Input(shape=(28, 28)),\n",
    "        tf.keras.layers.Flatten(),\n",
    "        tf.keras.layers.Dense(128, activation='relu'),\n",
    "        tf.keras.layers.Dense(10, activation='softmax')\n",
    "    ])"
   ]
  },
  {
   "cell_type": "code",
   "execution_count": 8,
   "metadata": {
    "id": "4AZak4CCF57N"
   },
   "outputs": [],
   "source": [
    "global_model.compile(\n",
    "    optimizer=tf.keras.optimizers.SGD(learning_rate=0.1),\n",
    "    loss='categorical_crossentropy',\n",
    "    metrics=['accuracy']\n",
    ")"
   ]
  },
  {
   "cell_type": "markdown",
   "metadata": {
    "id": "oTcBjH5gHaYw"
   },
   "source": [
    "The Hyper-Parameters and Creating a IID"
   ]
  },
  {
   "cell_type": "code",
   "execution_count": 9,
   "metadata": {
    "id": "f15M1j72Gzz1"
   },
   "outputs": [],
   "source": [
    "NUM_CLIENTS = 10\n",
    "EPOCHS_PER_ROUND = 5\n",
    "BATCH_SIZE = 20"
   ]
  },
  {
   "cell_type": "code",
   "execution_count": 10,
   "metadata": {
    "id": "9ymsQtoHHC_B"
   },
   "outputs": [],
   "source": [
    "x_train_clients = np.array_split(x_train,NUM_CLIENTS)\n",
    "y_train_clients = np.array_split(y_train,NUM_CLIENTS)\n",
    "\n",
    "x_test_clients = np.array_split(x_test,NUM_CLIENTS)\n",
    "y_test_clients = np.array_split(y_test,NUM_CLIENTS)"
   ]
  },
  {
   "cell_type": "code",
   "execution_count": 11,
   "metadata": {
    "colab": {
     "base_uri": "https://localhost:8080/"
    },
    "id": "Hi_dSJJKHnm8",
    "outputId": "45160f3b-2c0a-4aa7-f52e-b4f5c41e9a84"
   },
   "outputs": [
    {
     "name": "stderr",
     "output_type": "stream",
     "text": [
      "2023-08-23 22:56:20.739790: W tensorflow/tsl/platform/profile_utils/cpu_utils.cc:128] Failed to get CPU frequency: 0 Hz\n"
     ]
    },
    {
     "name": "stdout",
     "output_type": "stream",
     "text": [
      "32/32 [==============================] - 0s 11ms/step - loss: 0.2399 - accuracy: 0.9240\n",
      "[0.23991699516773224, 0.9240000247955322]\n",
      "32/32 [==============================] - 0s 7ms/step - loss: 0.3516 - accuracy: 0.8990\n",
      "[0.3516087830066681, 0.8989999890327454]\n",
      "32/32 [==============================] - 0s 7ms/step - loss: 0.2610 - accuracy: 0.9260\n",
      "[0.26102498173713684, 0.9259999990463257]\n",
      "32/32 [==============================] - 0s 7ms/step - loss: 0.3211 - accuracy: 0.9060\n",
      "[0.3210887610912323, 0.906000018119812]\n",
      "32/32 [==============================] - 0s 7ms/step - loss: 0.2946 - accuracy: 0.9170\n",
      "[0.29457181692123413, 0.9169999957084656]\n",
      "32/32 [==============================] - 0s 10ms/step - loss: 0.1999 - accuracy: 0.9430\n",
      "[0.19994628429412842, 0.9430000185966492]\n",
      "32/32 [==============================] - 0s 8ms/step - loss: 0.2084 - accuracy: 0.9350\n",
      "[0.20835934579372406, 0.9350000023841858]\n",
      "32/32 [==============================] - 0s 7ms/step - loss: 0.1217 - accuracy: 0.9670\n",
      "[0.12167900800704956, 0.9670000076293945]\n",
      "32/32 [==============================] - 0s 8ms/step - loss: 0.0970 - accuracy: 0.9660\n",
      "[0.09701620787382126, 0.9660000205039978]\n",
      "32/32 [==============================] - 0s 8ms/step - loss: 0.2345 - accuracy: 0.9330\n",
      "[0.2344822734594345, 0.9330000281333923]\n"
     ]
    }
   ],
   "source": [
    "client_models = []\n",
    "for i in range(NUM_CLIENTS):\n",
    "    local_model = tf.keras.Sequential([\n",
    "        tf.keras.layers.Flatten(input_shape=(28, 28)),\n",
    "        tf.keras.layers.Dense(128, activation='relu'),\n",
    "        tf.keras.layers.Dense(10, activation='softmax')\n",
    "    ])\n",
    "    local_model.compile(optimizer='adam', loss='categorical_crossentropy',metrics=['accuracy'])\n",
    "    local_model.fit(x_train_clients[i],y_train_clients[i],epochs=EPOCHS_PER_ROUND, batch_size=BATCH_SIZE,verbose=0)\n",
    "    acc = local_model.evaluate(x_test_clients[i],y_test_clients[i])\n",
    "    print(acc)\n",
    "    client_models.append(local_model)"
   ]
  },
  {
   "cell_type": "code",
   "execution_count": 13,
   "metadata": {
    "id": "pFe15UljMdZs"
   },
   "outputs": [],
   "source": [
    "# Performing Federated Averaging\n",
    "weights = global_model.get_weights()\n",
    "for i in range(len(weights)):\n",
    "    for j in range(NUM_CLIENTS):\n",
    "        client_weights = client_models[j].get_weights()\n",
    "        weights[i] += client_weights[i]/NUM_CLIENTS\n",
    "\n",
    "global_model.set_weights(weights)"
   ]
  },
  {
   "cell_type": "code",
   "execution_count": 14,
   "metadata": {
    "colab": {
     "base_uri": "https://localhost:8080/"
    },
    "id": "PnQsVW3nRDLW",
    "outputId": "94ee6ff6-868c-4363-ac1d-80e31b9b7545"
   },
   "outputs": [
    {
     "name": "stdout",
     "output_type": "stream",
     "text": [
      "313/313 [==============================] - 2s 8ms/step - loss: 1.3628 - accuracy: 0.5194\n",
      "[1.3628222942352295, 0.5194000005722046]\n"
     ]
    }
   ],
   "source": [
    "acc = global_model.evaluate(x_test,y_test)\n",
    "print(acc)"
   ]
  },
  {
   "cell_type": "code",
   "execution_count": 15,
   "metadata": {
    "colab": {
     "base_uri": "https://localhost:8080/"
    },
    "id": "QdYxwfdCSET5",
    "outputId": "61c9cdf1-4be9-4297-8a58-307a6cf436a2"
   },
   "outputs": [
    {
     "name": "stdout",
     "output_type": "stream",
     "text": [
      "Epoch 1/5\n",
      "3000/3000 [==============================] - 28s 9ms/step - loss: 0.1964 - accuracy: 0.9417\n",
      "Epoch 2/5\n",
      "3000/3000 [==============================] - 28s 9ms/step - loss: 0.1017 - accuracy: 0.9690\n",
      "Epoch 3/5\n",
      "3000/3000 [==============================] - 28s 9ms/step - loss: 0.0705 - accuracy: 0.9785\n",
      "Epoch 4/5\n",
      "3000/3000 [==============================] - 28s 9ms/step - loss: 0.0519 - accuracy: 0.9833\n",
      "Epoch 5/5\n",
      "3000/3000 [==============================] - 28s 9ms/step - loss: 0.0414 - accuracy: 0.9870\n"
     ]
    },
    {
     "data": {
      "text/plain": [
       "<keras.callbacks.History at 0x316972da0>"
      ]
     },
     "execution_count": 15,
     "metadata": {},
     "output_type": "execute_result"
    }
   ],
   "source": [
    "# Train the Fed AVG model\n",
    "fed_model = global_model\n",
    "fed_model.compile(optimizer='adam', loss='categorical_crossentropy',metrics=['accuracy'])\n",
    "fed_model.fit(x_train,y_train,epochs=5,batch_size=20)"
   ]
  },
  {
   "cell_type": "code",
   "execution_count": 16,
   "metadata": {
    "colab": {
     "base_uri": "https://localhost:8080/"
    },
    "id": "1iyqSTRuSbsP",
    "outputId": "17bd3158-1300-4840-a41d-c6e1fd224bb1"
   },
   "outputs": [
    {
     "name": "stdout",
     "output_type": "stream",
     "text": [
      "313/313 [==============================] - 3s 8ms/step - loss: 0.0826 - accuracy: 0.9772\n",
      "[0.08262024819850922, 0.9771999716758728]\n"
     ]
    }
   ],
   "source": [
    "acc = fed_model.evaluate(x_test,y_test)\n",
    "print(acc)"
   ]
  },
  {
   "cell_type": "code",
   "execution_count": null,
   "metadata": {},
   "outputs": [],
   "source": []
  }
 ],
 "metadata": {
  "colab": {
   "provenance": []
  },
  "kernelspec": {
   "display_name": "Python 3.10 (tensorflow)",
   "language": "python",
   "name": "tensorflow"
  },
  "language_info": {
   "codemirror_mode": {
    "name": "ipython",
    "version": 3
   },
   "file_extension": ".py",
   "mimetype": "text/x-python",
   "name": "python",
   "nbconvert_exporter": "python",
   "pygments_lexer": "ipython3",
   "version": "3.10.11"
  }
 },
 "nbformat": 4,
 "nbformat_minor": 1
}
