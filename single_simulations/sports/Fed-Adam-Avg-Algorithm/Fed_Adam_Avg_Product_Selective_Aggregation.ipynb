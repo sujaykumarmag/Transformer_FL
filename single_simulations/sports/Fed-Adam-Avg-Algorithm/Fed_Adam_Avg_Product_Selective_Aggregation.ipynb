{
 "cells": [
  {
   "cell_type": "code",
   "execution_count": 1,
   "id": "c974149a",
   "metadata": {},
   "outputs": [],
   "source": [
    "import pandas as pd\n",
    "import numpy as np\n",
    "from keras.models import Sequential\n",
    "from keras.layers import LSTM, Dense, Embedding\n",
    "from sklearn.feature_extraction.text import TfidfVectorizer\n",
    "from sklearn.model_selection import train_test_split\n",
    "import tensorflow as tf\n",
    "from tensorflow.keras.datasets import mnist\n",
    "from tensorflow.keras.utils import to_categorical"
   ]
  },
  {
   "cell_type": "code",
   "execution_count": 2,
   "id": "b491ea98",
   "metadata": {},
   "outputs": [],
   "source": [
    "df = pd.read_csv(\"../processed_data/final_pre-processed.csv\")"
   ]
  },
  {
   "cell_type": "code",
   "execution_count": 3,
   "id": "ed7af4aa",
   "metadata": {},
   "outputs": [],
   "source": [
    "df = df.drop('Unnamed: 0',axis=1)[:4000]\n",
    "df[\"Ratings\"] = df[\"Ratings\"].astype(int)"
   ]
  },
  {
   "cell_type": "code",
   "execution_count": 4,
   "id": "6c14ffb4",
   "metadata": {},
   "outputs": [],
   "source": [
    "text_vectorizer = TfidfVectorizer(max_df=.8)\n",
    "text_vectorizer.fit(df['reviewText'])\n",
    "def rate(r):\n",
    "    ary2 = []\n",
    "    for rating in r:\n",
    "        tv = [0,0,0,0,0]\n",
    "        tv[rating-1] = 1\n",
    "        ary2.append(tv)\n",
    "    return np.array(ary2)"
   ]
  },
  {
   "cell_type": "code",
   "execution_count": 5,
   "id": "d9c2b052",
   "metadata": {},
   "outputs": [],
   "source": [
    "X = text_vectorizer.transform(df['reviewText']).toarray()\n",
    "y = rate(df['Ratings'].values)\n",
    "X_train, X_test, y_train, y_test = train_test_split(X,y,test_size=.2)"
   ]
  },
  {
   "cell_type": "code",
   "execution_count": 6,
   "id": "fc2ed740",
   "metadata": {},
   "outputs": [
    {
     "name": "stdout",
     "output_type": "stream",
     "text": [
      "Metal device set to: Apple M1\n"
     ]
    }
   ],
   "source": [
    "global_model = Sequential()\n",
    "global_model.add(Dense(128,input_dim=X_train.shape[1]))\n",
    "global_model.add(Dense(5,activation='softmax'))"
   ]
  },
  {
   "cell_type": "code",
   "execution_count": 7,
   "id": "44bb0b2e",
   "metadata": {},
   "outputs": [],
   "source": [
    "global_model.compile(loss='categorical_crossentropy',optimizer='rmsprop',metrics=['accuracy'])"
   ]
  },
  {
   "cell_type": "code",
   "execution_count": 8,
   "id": "c025a023",
   "metadata": {},
   "outputs": [],
   "source": [
    "NUM_ROUNDS = 10\n",
    "NUM_CLIENTS = 10\n",
    "BATCH_SIZE = 10\n",
    "EPOCHS_PER_ROUND = 5\n",
    "LEARNING_RATE = 0.1\n",
    "BETA_1 = 0.9\n",
    "BETA_2 = 0.999\n",
    "EPSILON = 1e-7"
   ]
  },
  {
   "cell_type": "code",
   "execution_count": 9,
   "id": "254688c9",
   "metadata": {},
   "outputs": [],
   "source": [
    "x_train_clients = np.array_split(X_train,NUM_CLIENTS)\n",
    "y_train_clients = np.array_split(y_train,NUM_CLIENTS)\n",
    "\n",
    "x_test_clients = np.array_split(X_test,NUM_CLIENTS)\n",
    "y_test_clients = np.array_split(y_test,NUM_CLIENTS)"
   ]
  },
  {
   "cell_type": "code",
   "execution_count": 20,
   "id": "d0cc9ee5",
   "metadata": {},
   "outputs": [
    {
     "name": "stdout",
     "output_type": "stream",
     "text": [
      "3/3 [==============================] - 0s 24ms/step - loss: 0.8276 - accuracy: 0.7375\n",
      "[0.8275967836380005, 0.737500011920929]\n",
      "3/3 [==============================] - 0s 25ms/step - loss: 0.8737 - accuracy: 0.7250\n",
      "[0.8736509084701538, 0.7250000238418579]\n",
      "3/3 [==============================] - 0s 17ms/step - loss: 1.0285 - accuracy: 0.6500\n",
      "3/3 [==============================] - 0s 16ms/step - loss: 0.9209 - accuracy: 0.7000\n",
      "3/3 [==============================] - 0s 17ms/step - loss: 0.8956 - accuracy: 0.7000\n",
      "3/3 [==============================] - 0s 19ms/step - loss: 0.7227 - accuracy: 0.7500\n",
      "[0.7226929068565369, 0.75]\n",
      "3/3 [==============================] - 0s 20ms/step - loss: 0.8350 - accuracy: 0.7500\n",
      "[0.834956169128418, 0.75]\n",
      "3/3 [==============================] - 0s 20ms/step - loss: 0.8131 - accuracy: 0.7375\n",
      "[0.8131133913993835, 0.737500011920929]\n",
      "3/3 [==============================] - 0s 19ms/step - loss: 0.8429 - accuracy: 0.7500\n",
      "[0.842901885509491, 0.75]\n",
      "3/3 [==============================] - 0s 21ms/step - loss: 0.9045 - accuracy: 0.6500\n"
     ]
    }
   ],
   "source": [
    "client_models = []\n",
    "for i in range(NUM_CLIENTS):\n",
    "    local_model = Sequential()\n",
    "    local_model.add(Dense(128,input_dim=X_train.shape[1]))\n",
    "    local_model.add(Dense(5,activation='softmax'))\n",
    "    local_model.compile(optimizer='adam', loss='categorical_crossentropy',metrics=['accuracy'])\n",
    "    local_model.fit(x_train_clients[i],y_train_clients[i],epochs=EPOCHS_PER_ROUND, batch_size=BATCH_SIZE,verbose=0)\n",
    "    acc = local_model.evaluate(x_test_clients[i],y_test_clients[i])\n",
    "    if acc[1] > 0.7:\n",
    "        print(acc)\n",
    "        client_models.append(local_model)"
   ]
  },
  {
   "cell_type": "code",
   "execution_count": 21,
   "id": "d594d49b",
   "metadata": {},
   "outputs": [
    {
     "name": "stdout",
     "output_type": "stream",
     "text": [
      "25/25 [==============================] - 0s 8ms/step - loss: 19.6130 - accuracy: 0.6475\n",
      "[19.613012313842773, 0.6474999785423279]\n"
     ]
    }
   ],
   "source": [
    "acc = global_model.evaluate(X_test,y_test)\n",
    "print(acc)"
   ]
  },
  {
   "cell_type": "code",
   "execution_count": 22,
   "id": "fcbdd17b",
   "metadata": {},
   "outputs": [],
   "source": [
    "# SERVER ADAM OPTIMIZER \n",
    "fedadam = tf.optimizers.Adam(learning_rate=LEARNING_RATE,beta_1=BETA_1,beta_2 = BETA_2,epsilon=EPSILON)"
   ]
  },
  {
   "cell_type": "code",
   "execution_count": 23,
   "id": "5376ff6e",
   "metadata": {},
   "outputs": [],
   "source": [
    "# Performing Federated Averaging\n",
    "weights = global_model.get_weights()\n",
    "for i in range(len(weights)):\n",
    "    for j in range(len(client_models)):\n",
    "        client_weights = client_models[j].get_weights()\n",
    "        weights[i] += client_weights[i]/NUM_CLIENTS\n",
    "\n",
    "global_model.set_weights(weights)"
   ]
  },
  {
   "cell_type": "code",
   "execution_count": 24,
   "id": "b9aa3ce5",
   "metadata": {},
   "outputs": [
    {
     "name": "stdout",
     "output_type": "stream",
     "text": [
      "25/25 [==============================] - 0s 8ms/step - loss: 19.7477 - accuracy: 0.6463\n",
      "[19.747737884521484, 0.6462500095367432]\n"
     ]
    }
   ],
   "source": [
    "acc = global_model.evaluate(X_test,y_test)\n",
    "print(acc)"
   ]
  },
  {
   "cell_type": "code",
   "execution_count": 25,
   "id": "0e67e9c5",
   "metadata": {},
   "outputs": [
    {
     "name": "stdout",
     "output_type": "stream",
     "text": [
      "Epoch 1/5\n",
      "160/160 [==============================] - 2s 12ms/step - loss: 3.3049 - accuracy: 0.9003\n",
      "Epoch 2/5\n",
      "160/160 [==============================] - 2s 11ms/step - loss: 2.9774 - accuracy: 0.9134\n",
      "Epoch 3/5\n",
      "160/160 [==============================] - 2s 11ms/step - loss: 3.0336 - accuracy: 0.9200\n",
      "Epoch 4/5\n",
      "160/160 [==============================] - 2s 11ms/step - loss: 3.4111 - accuracy: 0.9172\n",
      "Epoch 5/5\n",
      "160/160 [==============================] - 2s 11ms/step - loss: 3.4630 - accuracy: 0.9253\n"
     ]
    },
    {
     "data": {
      "text/plain": [
       "<keras.callbacks.History at 0x3a0e59cc0>"
      ]
     },
     "execution_count": 25,
     "metadata": {},
     "output_type": "execute_result"
    }
   ],
   "source": [
    "# Train the Fed AVG model\n",
    "fed_model = global_model\n",
    "fed_model.compile(optimizer=fedadam, loss='categorical_crossentropy',metrics=['accuracy'])\n",
    "fed_model.fit(X_train,y_train,epochs=5,batch_size=20)"
   ]
  },
  {
   "cell_type": "code",
   "execution_count": 26,
   "id": "74f0410b",
   "metadata": {},
   "outputs": [
    {
     "name": "stdout",
     "output_type": "stream",
     "text": [
      "25/25 [==============================] - 0s 9ms/step - loss: 48.0231 - accuracy: 0.6275\n",
      "[48.023101806640625, 0.6274999976158142]\n"
     ]
    }
   ],
   "source": [
    "acc = fed_model.evaluate(X_test,y_test)\n",
    "print(acc)"
   ]
  },
  {
   "cell_type": "code",
   "execution_count": null,
   "id": "15bccc05",
   "metadata": {},
   "outputs": [],
   "source": []
  }
 ],
 "metadata": {
  "kernelspec": {
   "display_name": "Python 3.10 (tensorflow)",
   "language": "python",
   "name": "tensorflow"
  },
  "language_info": {
   "codemirror_mode": {
    "name": "ipython",
    "version": 3
   },
   "file_extension": ".py",
   "mimetype": "text/x-python",
   "name": "python",
   "nbconvert_exporter": "python",
   "pygments_lexer": "ipython3",
   "version": "3.10.11"
  }
 },
 "nbformat": 4,
 "nbformat_minor": 5
}
