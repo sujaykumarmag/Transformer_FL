{
 "cells": [
  {
   "cell_type": "code",
   "execution_count": 12,
   "id": "c974149a",
   "metadata": {},
   "outputs": [],
   "source": [
    "import pandas as pd\n",
    "import numpy as np\n",
    "from keras.models import Sequential\n",
    "from keras.layers import LSTM, Dense, Embedding\n",
    "from sklearn.feature_extraction.text import TfidfVectorizer\n",
    "from sklearn.model_selection import train_test_split\n",
    "import tensorflow as tf\n",
    "from tensorflow.keras.datasets import mnist\n",
    "from tensorflow.keras.utils import to_categorical"
   ]
  },
  {
   "cell_type": "code",
   "execution_count": 2,
   "id": "b491ea98",
   "metadata": {},
   "outputs": [],
   "source": [
    "df = pd.read_csv(\"../processed_data/final_pre-processed.csv\")"
   ]
  },
  {
   "cell_type": "code",
   "execution_count": 3,
   "id": "ed7af4aa",
   "metadata": {},
   "outputs": [],
   "source": [
    "df = df.drop('Unnamed: 0',axis=1)[:4000]\n",
    "df[\"Ratings\"] = df[\"Ratings\"].astype(int)"
   ]
  },
  {
   "cell_type": "code",
   "execution_count": 4,
   "id": "6c14ffb4",
   "metadata": {},
   "outputs": [],
   "source": [
    "text_vectorizer = TfidfVectorizer(max_df=.8)\n",
    "text_vectorizer.fit(df['reviewText'])\n",
    "def rate(r):\n",
    "    ary2 = []\n",
    "    for rating in r:\n",
    "        tv = [0,0,0,0,0]\n",
    "        tv[rating-1] = 1\n",
    "        ary2.append(tv)\n",
    "    return np.array(ary2)"
   ]
  },
  {
   "cell_type": "code",
   "execution_count": 5,
   "id": "d9c2b052",
   "metadata": {},
   "outputs": [],
   "source": [
    "X = text_vectorizer.transform(df['reviewText']).toarray()\n",
    "y = rate(df['Ratings'].values)\n",
    "X_train, X_test, y_train, y_test = train_test_split(X,y,test_size=.2)"
   ]
  },
  {
   "cell_type": "code",
   "execution_count": 6,
   "id": "fc2ed740",
   "metadata": {},
   "outputs": [
    {
     "name": "stdout",
     "output_type": "stream",
     "text": [
      "Metal device set to: Apple M1\n"
     ]
    }
   ],
   "source": [
    "global_model = Sequential()\n",
    "global_model.add(Dense(128,input_dim=X_train.shape[1]))\n",
    "global_model.add(Dense(5,activation='softmax'))"
   ]
  },
  {
   "cell_type": "code",
   "execution_count": 7,
   "id": "44bb0b2e",
   "metadata": {},
   "outputs": [],
   "source": [
    "global_model.compile(loss='categorical_crossentropy',optimizer='rmsprop',metrics=['accuracy'])"
   ]
  },
  {
   "cell_type": "code",
   "execution_count": 8,
   "id": "c025a023",
   "metadata": {},
   "outputs": [],
   "source": [
    "NUM_ROUNDS = 10\n",
    "NUM_CLIENTS = 10\n",
    "BATCH_SIZE = 10\n",
    "EPOCHS_PER_ROUND = 5\n",
    "LEARNING_RATE = 0.1\n",
    "BETA_1 = 0.9\n",
    "BETA_2 = 0.999\n",
    "EPSILON = 1e-7"
   ]
  },
  {
   "cell_type": "code",
   "execution_count": 10,
   "id": "254688c9",
   "metadata": {},
   "outputs": [],
   "source": [
    "x_train_clients = np.array_split(X_train,NUM_CLIENTS)\n",
    "y_train_clients = np.array_split(y_train,NUM_CLIENTS)\n",
    "\n",
    "x_test_clients = np.array_split(X_test,NUM_CLIENTS)\n",
    "y_test_clients = np.array_split(y_test,NUM_CLIENTS)"
   ]
  },
  {
   "cell_type": "code",
   "execution_count": 14,
   "id": "d0cc9ee5",
   "metadata": {},
   "outputs": [
    {
     "name": "stdout",
     "output_type": "stream",
     "text": [
      "3/3 [==============================] - 0s 15ms/step - loss: 0.9962 - accuracy: 0.6875\n",
      "[0.9962190389633179, 0.6875]\n",
      "3/3 [==============================] - 0s 13ms/step - loss: 0.7469 - accuracy: 0.7625\n",
      "[0.7469156980514526, 0.762499988079071]\n",
      "3/3 [==============================] - 0s 15ms/step - loss: 0.8821 - accuracy: 0.7250\n",
      "[0.8820698857307434, 0.7250000238418579]\n",
      "3/3 [==============================] - 0s 13ms/step - loss: 0.9097 - accuracy: 0.6875\n",
      "[0.9096635580062866, 0.6875]\n",
      "WARNING:tensorflow:5 out of the last 13 calls to <function Model.make_test_function.<locals>.test_function at 0x287403b50> triggered tf.function retracing. Tracing is expensive and the excessive number of tracings could be due to (1) creating @tf.function repeatedly in a loop, (2) passing tensors with different shapes, (3) passing Python objects instead of tensors. For (1), please define your @tf.function outside of the loop. For (2), @tf.function has reduce_retracing=True option that can avoid unnecessary retracing. For (3), please refer to https://www.tensorflow.org/guide/function#controlling_retracing and https://www.tensorflow.org/api_docs/python/tf/function for  more details.\n",
      "3/3 [==============================] - 0s 13ms/step - loss: 0.8376 - accuracy: 0.7125\n",
      "[0.8376221656799316, 0.7124999761581421]\n",
      "WARNING:tensorflow:5 out of the last 13 calls to <function Model.make_test_function.<locals>.test_function at 0x315bb23b0> triggered tf.function retracing. Tracing is expensive and the excessive number of tracings could be due to (1) creating @tf.function repeatedly in a loop, (2) passing tensors with different shapes, (3) passing Python objects instead of tensors. For (1), please define your @tf.function outside of the loop. For (2), @tf.function has reduce_retracing=True option that can avoid unnecessary retracing. For (3), please refer to https://www.tensorflow.org/guide/function#controlling_retracing and https://www.tensorflow.org/api_docs/python/tf/function for  more details.\n",
      "3/3 [==============================] - 0s 16ms/step - loss: 0.9599 - accuracy: 0.6750\n",
      "[0.9598782658576965, 0.675000011920929]\n",
      "3/3 [==============================] - 0s 15ms/step - loss: 0.8682 - accuracy: 0.6875\n",
      "[0.8682270050048828, 0.6875]\n",
      "3/3 [==============================] - 0s 17ms/step - loss: 0.8378 - accuracy: 0.7125\n",
      "[0.8378289341926575, 0.7124999761581421]\n",
      "3/3 [==============================] - 0s 17ms/step - loss: 0.7505 - accuracy: 0.7875\n",
      "[0.7505058646202087, 0.7875000238418579]\n",
      "3/3 [==============================] - 0s 19ms/step - loss: 1.1270 - accuracy: 0.6375\n",
      "[1.1269967555999756, 0.637499988079071]\n"
     ]
    }
   ],
   "source": [
    "client_models = []\n",
    "for i in range(NUM_CLIENTS):\n",
    "    local_model = Sequential()\n",
    "    local_model.add(Dense(128,input_dim=X_train.shape[1]))\n",
    "    local_model.add(Dense(5,activation='softmax'))\n",
    "    local_model.compile(optimizer='adam', loss='categorical_crossentropy',metrics=['accuracy'])\n",
    "    local_model.fit(x_train_clients[i],y_train_clients[i],epochs=EPOCHS_PER_ROUND, batch_size=BATCH_SIZE,verbose=0)\n",
    "    acc = local_model.evaluate(x_test_clients[i],y_test_clients[i])\n",
    "    print(acc)\n",
    "    client_models.append(local_model)"
   ]
  },
  {
   "cell_type": "code",
   "execution_count": 16,
   "id": "d594d49b",
   "metadata": {},
   "outputs": [
    {
     "name": "stdout",
     "output_type": "stream",
     "text": [
      "25/25 [==============================] - 0s 7ms/step - loss: 1.6099 - accuracy: 0.1800\n",
      "[1.6098557710647583, 0.18000000715255737]\n"
     ]
    }
   ],
   "source": [
    "acc = global_model.evaluate(X_test,y_test)\n",
    "print(acc)"
   ]
  },
  {
   "cell_type": "code",
   "execution_count": 17,
   "id": "fcbdd17b",
   "metadata": {},
   "outputs": [],
   "source": [
    "# SERVER ADAM OPTIMIZER \n",
    "fedadam = tf.optimizers.Adam(learning_rate=LEARNING_RATE,beta_1=BETA_1,beta_2 = BETA_2,epsilon=EPSILON)"
   ]
  },
  {
   "cell_type": "code",
   "execution_count": 18,
   "id": "5376ff6e",
   "metadata": {},
   "outputs": [],
   "source": [
    "# Performing Federated Averaging\n",
    "weights = global_model.get_weights()\n",
    "for i in range(len(weights)):\n",
    "    for j in range(NUM_CLIENTS):\n",
    "        client_weights = client_models[j].get_weights()\n",
    "        weights[i] += client_weights[i]/NUM_CLIENTS\n",
    "\n",
    "global_model.set_weights(weights)"
   ]
  },
  {
   "cell_type": "code",
   "execution_count": 20,
   "id": "b9aa3ce5",
   "metadata": {},
   "outputs": [
    {
     "name": "stdout",
     "output_type": "stream",
     "text": [
      "25/25 [==============================] - 0s 8ms/step - loss: 1.4317 - accuracy: 0.7088\n",
      "[1.4317017793655396, 0.7087500095367432]\n"
     ]
    }
   ],
   "source": [
    "acc = global_model.evaluate(X_test,y_test)\n",
    "print(acc)"
   ]
  },
  {
   "cell_type": "code",
   "execution_count": 22,
   "id": "0e67e9c5",
   "metadata": {},
   "outputs": [
    {
     "name": "stdout",
     "output_type": "stream",
     "text": [
      "Epoch 1/5\n",
      "160/160 [==============================] - 2s 11ms/step - loss: 2.2572 - accuracy: 0.5834\n",
      "Epoch 2/5\n",
      "160/160 [==============================] - 2s 10ms/step - loss: 5.1518 - accuracy: 0.7178\n",
      "Epoch 3/5\n",
      "160/160 [==============================] - 2s 11ms/step - loss: 5.0232 - accuracy: 0.7881\n",
      "Epoch 4/5\n",
      "160/160 [==============================] - 2s 11ms/step - loss: 3.6649 - accuracy: 0.8581\n",
      "Epoch 5/5\n",
      "160/160 [==============================] - 2s 10ms/step - loss: 3.7282 - accuracy: 0.8741\n"
     ]
    },
    {
     "data": {
      "text/plain": [
       "<keras.callbacks.History at 0x3485a66b0>"
      ]
     },
     "execution_count": 22,
     "metadata": {},
     "output_type": "execute_result"
    }
   ],
   "source": [
    "# Train the Fed AVG model\n",
    "fed_model = global_model\n",
    "fed_model.compile(optimizer=fedadam, loss='categorical_crossentropy',metrics=['accuracy'])\n",
    "fed_model.fit(X_train,y_train,epochs=5,batch_size=20)"
   ]
  },
  {
   "cell_type": "code",
   "execution_count": 24,
   "id": "74f0410b",
   "metadata": {},
   "outputs": [
    {
     "name": "stdout",
     "output_type": "stream",
     "text": [
      "25/25 [==============================] - 0s 8ms/step - loss: 23.6088 - accuracy: 0.6562\n",
      "[23.608781814575195, 0.65625]\n"
     ]
    }
   ],
   "source": [
    "acc = fed_model.evaluate(X_test,y_test)\n",
    "print(acc)"
   ]
  },
  {
   "cell_type": "code",
   "execution_count": null,
   "id": "15bccc05",
   "metadata": {},
   "outputs": [],
   "source": []
  }
 ],
 "metadata": {
  "kernelspec": {
   "display_name": "Python 3.10 (tensorflow)",
   "language": "python",
   "name": "tensorflow"
  },
  "language_info": {
   "codemirror_mode": {
    "name": "ipython",
    "version": 3
   },
   "file_extension": ".py",
   "mimetype": "text/x-python",
   "name": "python",
   "nbconvert_exporter": "python",
   "pygments_lexer": "ipython3",
   "version": "3.10.11"
  }
 },
 "nbformat": 4,
 "nbformat_minor": 5
}
