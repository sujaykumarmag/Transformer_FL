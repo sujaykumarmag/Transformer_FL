{
 "cells": [
  {
   "cell_type": "code",
   "execution_count": 1,
   "metadata": {
    "id": "OT5Cbtl-k6Tn"
   },
   "outputs": [],
   "source": [
    "import matplotlib.pyplot as plt\n",
    "import pandas as pd\n",
    "import numpy as np\n",
    "import tensorflow as tf\n",
    "from tensorflow.keras.datasets import mnist\n",
    "from tensorflow.keras.utils import to_categorical"
   ]
  },
  {
   "cell_type": "code",
   "execution_count": 2,
   "metadata": {
    "id": "e3b93pic1IJa"
   },
   "outputs": [],
   "source": [
    "NUM_ROUNDS = 10\n",
    "NUM_CLIENTS = 10\n",
    "BATCH_SIZE = 10\n",
    "EPOCHS_PER_ROUND = 5\n",
    "LEARNING_RATE = 0.1\n",
    "BETA_1 = 0.9\n",
    "BETA_2 = 0.999\n",
    "EPSILON = 1e-7"
   ]
  },
  {
   "cell_type": "code",
   "execution_count": 3,
   "metadata": {
    "colab": {
     "base_uri": "https://localhost:8080/"
    },
    "id": "E6vvMf8tWwwf",
    "outputId": "26a27f29-8fdc-4d9f-f794-54ceb2fb5752"
   },
   "outputs": [],
   "source": [
    "# Load the MNIST dataset\n",
    "(x_train, y_train), (x_test, y_test) = mnist.load_data()\n",
    "\n",
    "# Normalize pixel values to the range [0, 1]\n",
    "x_train, x_test = x_train / 255.0, x_test / 255.0\n",
    "\n",
    "# Convert into Categorical (One-Hot Encoding)\n",
    "y_train = to_categorical(y_train, num_classes=10)\n",
    "y_test = to_categorical(y_test, num_classes=10)"
   ]
  },
  {
   "cell_type": "code",
   "execution_count": 4,
   "metadata": {
    "id": "fMxttQT6hClr"
   },
   "outputs": [
    {
     "name": "stdout",
     "output_type": "stream",
     "text": [
      "Metal device set to: Apple M1\n"
     ]
    }
   ],
   "source": [
    "global_model = tf.keras.Sequential([\n",
    "        tf.keras.layers.Input(shape=(28, 28)),\n",
    "        tf.keras.layers.Flatten(),\n",
    "        tf.keras.layers.Dense(128, activation='relu'),\n",
    "        tf.keras.layers.Dense(10, activation='softmax')\n",
    "    ])"
   ]
  },
  {
   "cell_type": "code",
   "execution_count": 5,
   "metadata": {
    "id": "a2tpPHpjiBgX"
   },
   "outputs": [],
   "source": [
    "global_model.compile(\n",
    "    optimizer=tf.keras.optimizers.SGD(learning_rate=0.1),\n",
    "    loss='categorical_crossentropy',\n",
    "    metrics=['accuracy']\n",
    ")"
   ]
  },
  {
   "cell_type": "code",
   "execution_count": 6,
   "metadata": {
    "id": "Hm_EyedlEjq2"
   },
   "outputs": [],
   "source": [
    "x_train_clients = np.array_split(x_train,NUM_CLIENTS)\n",
    "y_train_clients = np.array_split(y_train,NUM_CLIENTS)\n",
    "\n",
    "x_test_clients = np.array_split(x_test,NUM_CLIENTS)\n",
    "y_test_clients = np.array_split(y_test,NUM_CLIENTS)"
   ]
  },
  {
   "cell_type": "code",
   "execution_count": null,
   "metadata": {
    "colab": {
     "base_uri": "https://localhost:8080/"
    },
    "id": "G18F5J7EiIPh",
    "outputId": "24555bb1-47ed-45e8-c20c-d1de8b1413f0"
   },
   "outputs": [
    {
     "name": "stderr",
     "output_type": "stream",
     "text": [
      "2023-10-05 12:30:54.301888: W tensorflow/tsl/platform/profile_utils/cpu_utils.cc:128] Failed to get CPU frequency: 0 Hz\n"
     ]
    }
   ],
   "source": [
    "client_models = []\n",
    "for i in range(NUM_CLIENTS):\n",
    "    local_model = tf.keras.Sequential([\n",
    "        tf.keras.layers.Flatten(input_shape=(28, 28)),\n",
    "        tf.keras.layers.Dense(128, activation='relu'),\n",
    "        tf.keras.layers.Dense(10, activation='softmax')\n",
    "    ])\n",
    "    local_model.compile(optimizer='adam', loss='categorical_crossentropy',metrics=['accuracy'])\n",
    "    local_model.fit(x_train_clients[i],y_train_clients[i],epochs=EPOCHS_PER_ROUND, batch_size=BATCH_SIZE,verbose=0)\n",
    "    acc = local_model.evaluate(x_test_clients[i],y_test_clients[i])\n",
    "    print(acc)\n",
    "    client_models.append(local_model)"
   ]
  },
  {
   "cell_type": "code",
   "execution_count": null,
   "metadata": {
    "colab": {
     "base_uri": "https://localhost:8080/"
    },
    "id": "FK8O3zRiF7Cu",
    "outputId": "96d6fd78-f130-4bcc-b109-8770c71346f6"
   },
   "outputs": [],
   "source": [
    "acc = global_model.evaluate(x_test,y_test)\n",
    "print(acc)"
   ]
  },
  {
   "cell_type": "code",
   "execution_count": null,
   "metadata": {
    "id": "ClWMrucyiXt8"
   },
   "outputs": [],
   "source": [
    "# SERVER ADAM OPTIMIZER\n",
    "fedadam = tf.optimizers.Adam(learning_rate=LEARNING_RATE,beta_1=BETA_1,beta_2 = BETA_2,epsilon=EPSILON)"
   ]
  },
  {
   "cell_type": "code",
   "execution_count": null,
   "metadata": {
    "id": "DbipIt0qFwJ0"
   },
   "outputs": [],
   "source": [
    "# Performing Federated Averaging\n",
    "weights = global_model.get_weights()\n",
    "for i in range(len(weights)):\n",
    "    for j in range(NUM_CLIENTS):\n",
    "        client_weights = client_models[j].get_weights()\n",
    "        weights[i] += client_weights[i]/NUM_CLIENTS\n",
    "\n",
    "global_model.set_weights(weights)"
   ]
  },
  {
   "cell_type": "code",
   "execution_count": null,
   "metadata": {
    "colab": {
     "base_uri": "https://localhost:8080/"
    },
    "id": "t_t0xoigGo7U",
    "outputId": "a8a55ea8-2e1b-49cb-82f4-0ab3d351d532"
   },
   "outputs": [],
   "source": [
    "acc = global_model.evaluate(x_test,y_test)\n",
    "print(acc)"
   ]
  },
  {
   "cell_type": "code",
   "execution_count": null,
   "metadata": {
    "colab": {
     "base_uri": "https://localhost:8080/"
    },
    "id": "8LWTG-NoG4Sl",
    "outputId": "d0e70149-6a89-483e-becb-c17d4597f0d7"
   },
   "outputs": [],
   "source": [
    "# Train the Fed AVG model\n",
    "fed_model = global_model\n",
    "fed_model.compile(optimizer=fedadam, loss='categorical_crossentropy',metrics=['accuracy'])\n",
    "fed_model.fit(x_train,y_train,epochs=5,batch_size=20)"
   ]
  },
  {
   "cell_type": "code",
   "execution_count": null,
   "metadata": {
    "colab": {
     "base_uri": "https://localhost:8080/"
    },
    "id": "-FycJUPhG8Hq",
    "outputId": "e9c60033-e010-4489-b09f-fcefad23aae6"
   },
   "outputs": [],
   "source": [
    "acc = fed_model.evaluate(x_test,y_test)\n",
    "print(acc)"
   ]
  },
  {
   "cell_type": "code",
   "execution_count": null,
   "metadata": {
    "id": "3_RN5j8QHEtt"
   },
   "outputs": [],
   "source": []
  }
 ],
 "metadata": {
  "colab": {
   "provenance": []
  },
  "kernelspec": {
   "display_name": "Python 3.10 (tensorflow)",
   "language": "python",
   "name": "tensorflow"
  },
  "language_info": {
   "codemirror_mode": {
    "name": "ipython",
    "version": 3
   },
   "file_extension": ".py",
   "mimetype": "text/x-python",
   "name": "python",
   "nbconvert_exporter": "python",
   "pygments_lexer": "ipython3",
   "version": "3.10.11"
  }
 },
 "nbformat": 4,
 "nbformat_minor": 1
}
